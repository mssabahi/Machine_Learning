{
 "cells": [
  {
   "cell_type": "markdown",
   "id": "roman-humor",
   "metadata": {},
   "source": [
    "# Hierarchical Parameter Grid"
   ]
  },
  {
   "cell_type": "markdown",
   "id": "motivated-metropolitan",
   "metadata": {},
   "source": [
    "#### SIMPLE VALIDATION WITH NO DATA SCALING"
   ]
  },
  {
   "cell_type": "markdown",
   "id": "hispanic-proxy",
   "metadata": {},
   "source": [
    "from sklean.model_selection import cross_val_score\n",
    "from sklearn.svm import SVC \n",
    "\n",
    "svm = SVC(C = 0.001, gamma= 0.001)\n",
    "\n",
    "scores = cross_val_score(svm, X_train, y_train, scoring=\"accuracy_score\", cv=5)\n",
    "mean_scores = scores.mean()\n",
    "\n",
    "svm.fit(X_train, y_train)\n",
    "test_score = svm.score(X_test, y_test)\n"
   ]
  },
  {
   "cell_type": "markdown",
   "id": "naval-mainstream",
   "metadata": {},
   "source": [
    "#### SIMPLE VALIDATION WITH DATA SCALING"
   ]
  },
  {
   "cell_type": "markdown",
   "id": "elegant-rotation",
   "metadata": {},
   "source": [
    "from sklearn.pipeline import Pipeline\n",
    "from sklean.model_selection import cross_val_score\n",
    "from sklearn.svm import SVC \n",
    "from sklearn.preprocessing import MinMaxScaler\n",
    "\n",
    "svm = SVC(C = 0.001, gamma= 0.001)\n",
    "\n",
    "pipe = Pipeline([(\"scaler\", MinMaxScaler()), (\"svm\", svm)])\n",
    "\n",
    "scores = cross_val_score(pipe, X_train, y_train, scoring=\"accuracy_score\", cv=5)\n",
    "mean_scores = scores.mean()\n",
    "\n",
    "svm.fit(X_train, y_train)\n",
    "test_score = svm.score(X_test, y_test)\n"
   ]
  },
  {
   "cell_type": "markdown",
   "id": "commercial-nursery",
   "metadata": {},
   "source": [
    "#### GRID SEARCH VALIDATION WITH NO DATA SCALING"
   ]
  },
  {
   "cell_type": "markdown",
   "id": "completed-annual",
   "metadata": {},
   "source": [
    "from sklearn.model_selection import GridSearchCV\n",
    "from sklearn.svm import SVC \n",
    "\n",
    "param_grid = {'C':[0.001,0.01,0.1,1,10,100], \n",
    " 'gamma':[0.001,0.01,0.1,1,10,100]}\n",
    "\n",
    "grid_search_object = GridSearchCV(SVC(), param_grid, scoring=\"accuracy_score\", cv=5)\n",
    "grid_search_object.fit(X_train, y_train)\n",
    "best_mean_score = grid_search_object.best_score_\n",
    "best_parameters = grid_search_object.best_params_\n",
    "results_table = pd.DataFrame(grid_search_object.cv_results_)\n",
    "\n",
    "test_score = grid_search_object.score(X_test,y_test)\n"
   ]
  },
  {
   "cell_type": "markdown",
   "id": "alpha-swedish",
   "metadata": {},
   "source": [
    "#### GRID SEARCH VALIDATION WITH DATA SCALING (multi-step)"
   ]
  },
  {
   "cell_type": "markdown",
   "id": "grateful-facing",
   "metadata": {},
   "source": [
    "from sklearn.pipeline import Pipeline\n",
    "from sklearn.model_selection import GridSearchCV\n",
    "from sklearn.svm import SVC \n",
    "from sklearn.preprocessing import MinMaxScaler\n",
    "\n",
    "pipe = Pipeline([(\"scaler\", MinMaxScaler()), (\"svm\", SVC())])\n",
    "\n",
    "param_grid = {'svm__C':[0.001,0.01,0.1,1,10,100],        #not just 'C':, double underscore\n",
    "  'svm__gamma':[0.001,0.01,0.1,1,10,100]}                    #not just 'gamma', double underscore\n",
    "\n",
    "grid_search_object = GridSearchCV(pipe, param_grid, scoring=\"accuracy_score\", cv=5)\n",
    "grid_search_object.fit(X_train, y_train)\n",
    "mean_score = grid_search_object.best_score_\n",
    "best_parameters = grid_search_object.best_params_\n",
    "results_table = pd.DataFrame(grid_search_object.cv_results_)\n",
    "\n",
    "test_score = grid_search_object.score(X_test,y_test)\n"
   ]
  },
  {
   "cell_type": "markdown",
   "id": "fixed-active",
   "metadata": {},
   "source": [
    "#### GRID SEARCH VALIDATION WITH HIERARCHICAL PARAMETER GRID NO SCALING"
   ]
  },
  {
   "cell_type": "markdown",
   "id": "identified-beauty",
   "metadata": {},
   "source": [
    "param_grid = [{'kernel': ['rbf'], \n",
    "'C': [0.001, 0.01, 0.1, 1, 10, 100], \n",
    "'gamma': [0.001, 0.01, 0.1, 1, 10, 100, scale],\n",
    "'probability': [1, 0]},\n",
    "{'kernel': ['linear'],\n",
    "'C': [0.001, 0.01, 0.1, 1, 10, 100]},\n",
    "{'kernel': ['poly'],\n",
    "C': [0.001, 0.01, 0.1, 1, 10, 100],\n",
    "gamma': [0.001, 0.01, 0.1, 1, 10, 100, scale],\n",
    "'probability': [1, 0],\n",
    "'shrinking': [1,0],\n",
    "'degree': [0, 1, 2, 3, 4, 5, 6]}]\n",
    "\n",
    "grid_search_object = GridSearchCV(SVC(), param_grid, cv=5, scoring=\"accuracy_score\")\n",
    "grid_search_object.fit(X_train, y_train)\n",
    "mean_score = grid_search_object.best_score_\n",
    "best_parameters = grid_search_object.best_params_\n",
    "results_table = pd.DataFrame(grid_search_object.cv_results_)\n",
    "\n",
    "test_score = grid_search_object.score(X_test,y_test)\n"
   ]
  },
  {
   "cell_type": "markdown",
   "id": "legendary-vocabulary",
   "metadata": {},
   "source": [
    "#### GRID SEARCH VALIDATION WITH HIERARCHICAL PARAMETER GRID WITH SCALING"
   ]
  },
  {
   "cell_type": "markdown",
   "id": "white-imagination",
   "metadata": {},
   "source": [
    "pipe = Pipeline([(\"scaler\", MinMaxScaler()),(\"svm\", SVC())])\n",
    "\n",
    "param_grid = [{'svm__kernel': ['rbf'], \n",
    "               'svm__C': [0.001, 0.01, 0.1, 10, 100], \n",
    "                'svm__gamma': [0.001, 0.01, 0.1, 1, 10, 100]},\n",
    "              {'svm__kernel': ['linear'],\n",
    "              'svm__C': [0.001, 0.01, 0.1, 1, 10, 100]}]\n",
    "\n",
    "grid_search = GridSearchCV(pipe, param_grid, cv=5, return_train_score=True)\n",
    "grid_search.fit(X_train, y_train)\n",
    "mean_score = grid_search_object.best_score_\n",
    "best_parameters = grid_search_object.best_params_\n",
    "results_table = pd.DataFrame(grid_search_object.cv_results_)\n",
    "\n",
    "test_score = grid_search_object.score(X_test,y_test)\n"
   ]
  },
  {
   "cell_type": "markdown",
   "id": "devoted-broadcast",
   "metadata": {},
   "source": [
    "# Flat Parameter Grid"
   ]
  },
  {
   "cell_type": "markdown",
   "id": "stupid-knowing",
   "metadata": {},
   "source": [
    "#### SIMPLE VALIDATION WITH NO DATA SCALING"
   ]
  },
  {
   "cell_type": "markdown",
   "id": "south-explorer",
   "metadata": {},
   "source": [
    "from sklean.model_selection import cross_val_score\n",
    "from sklearn.svm import SVC \n",
    "\n",
    "svm = SVC(C = 0.001, gamma= 0.001)\n",
    "\n",
    "scores = cross_val_score(svm, X_train, y_train, scoring=\"accuracy_score\", cv=5)\n",
    "mean_scores = scores.mean()\n",
    "\n",
    "svm.fit(X_train, y_train)\n",
    "test_score = svm.score(X_test, y_test)\n"
   ]
  },
  {
   "cell_type": "markdown",
   "id": "saving-smart",
   "metadata": {},
   "source": [
    "#### SIMPLE VALIDATION WITH DATA SCALING\n"
   ]
  },
  {
   "cell_type": "markdown",
   "id": "contemporary-enforcement",
   "metadata": {},
   "source": [
    "from sklearn.pipeline import Pipeline\n",
    "from sklean.model_selection import cross_val_score\n",
    "from sklearn.svm import SVC \n",
    "from sklearn.preprocessing import MinMaxScaler\n",
    "\n",
    "svm = SVC(C = 0.001, gamma= 0.001)\n",
    "\n",
    "pipe = Pipeline([(\"scaler\", MinMaxScaler()), (\"svm\", svm)])\n",
    "\n",
    "scores = cross_val_score(pipe, X_train, y_train, scoring=\"accuracy_score\", cv=5)\n",
    "mean_scores = scores.mean()\n",
    "\n",
    "svm.fit(X_train, y_train)\n",
    "test_score = svm.score(X_test, y_test)\n"
   ]
  },
  {
   "cell_type": "markdown",
   "id": "norwegian-raise",
   "metadata": {},
   "source": [
    "#### GRID SEARCH VALIDATION WITH NO DATA SCALING"
   ]
  },
  {
   "cell_type": "markdown",
   "id": "architectural-michigan",
   "metadata": {},
   "source": [
    "from sklearn.model_selection import GridSearchCV\n",
    "from sklearn.svm import SVC \n",
    "\n",
    "param_grid = {'C':[0.001,0.01,0.1,1,10,100], \n",
    " 'gamma':[0.001,0.01,0.1,1,10,100]}\n",
    "\n",
    "grid_search_object = GridSearchCV(SVC(), param_grid, scoring=\"accuracy_score\", cv=5)\n",
    "grid_search_object.fit(X_train, y_train)\n",
    "best_mean_score = grid_search_object.best_score_\n",
    "best_parameters = grid_search_object.best_params_\n",
    "results_table = pd.DataFrame(grid_search_object.cv_results_)\n",
    "\n",
    "test_score = grid_search_object.score(X_test,y_test)\n"
   ]
  },
  {
   "cell_type": "markdown",
   "id": "female-hearing",
   "metadata": {},
   "source": [
    " #####  GRID SEARCH VALIDATION WITH DATA SCALING (multi-step) "
   ]
  },
  {
   "cell_type": "markdown",
   "id": "lonely-awareness",
   "metadata": {},
   "source": [
    "from sklearn.pipeline import Pipeline\n",
    "from sklearn.model_selection import GridSearchCV\n",
    "from sklearn.svm import SVC \n",
    "from sklearn.preprocessing import MinMaxScaler\n",
    "\n",
    "pipe = Pipeline([(\"scaler\", MinMaxScaler()), (\"svm\", SVC())])\n",
    "\n",
    "param_grid = {'svm__C':[0.001,0.01,0.1,1,10,100],        #not just 'C':, double underscore\n",
    "  'svm__gamma':[0.001,0.01,0.1,1,10,100]}                    #not just 'gamma', double underscore\n",
    "\n",
    "grid_search_object = GridSearchCV(pipe, param_grid, scoring=\"accuracy_score\", cv=5)\n",
    "grid_search_object.fit(X_train, y_train)\n",
    "mean_score = grid_search_object.best_score_\n",
    "best_parameters = grid_search_object.best_params_\n",
    "results_table = pd.DataFrame(grid_search_object.cv_results_)\n",
    "\n",
    "test_score = grid_search_object.score(X_test,y_test)\n"
   ]
  },
  {
   "cell_type": "code",
   "execution_count": null,
   "id": "fitted-commitment",
   "metadata": {},
   "outputs": [],
   "source": []
  }
 ],
 "metadata": {
  "kernelspec": {
   "display_name": "Python 3",
   "language": "python",
   "name": "python3"
  },
  "language_info": {
   "codemirror_mode": {
    "name": "ipython",
    "version": 3
   },
   "file_extension": ".py",
   "mimetype": "text/x-python",
   "name": "python",
   "nbconvert_exporter": "python",
   "pygments_lexer": "ipython3",
   "version": "3.9.1"
  }
 },
 "nbformat": 4,
 "nbformat_minor": 5
}
