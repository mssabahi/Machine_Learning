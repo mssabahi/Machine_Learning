{
  "cells": [
    {
      "cell_type": "markdown",
      "metadata": {
        "id": "view-in-github",
        "colab_type": "text"
      },
      "source": [
        "<a href=\"https://colab.research.google.com/github/mssabahi/Machine_Learning/blob/master/ch_02.ipynb\" target=\"_parent\"><img src=\"https://colab.research.google.com/assets/colab-badge.svg\" alt=\"Open In Colab\"/></a>"
      ]
    },
    {
      "cell_type": "code",
      "execution_count": null,
      "metadata": {
        "id": "jX3g5xfNgG3Y"
      },
      "outputs": [],
      "source": [
        "import warnings\n",
        "warnings.filterwarnings('ignore')"
      ]
    },
    {
      "cell_type": "markdown",
      "metadata": {
        "id": "b7Ac6DN6iuGS"
      },
      "source": [
        "# Selecting the correct features:\n",
        "* Reduces overfitting\n",
        "* Improves accuracy\n",
        "* Increases interpretability\n",
        "* Reduces training time"
      ]
    },
    {
      "cell_type": "markdown",
      "metadata": {
        "id": "oiMb1awAidTd"
      },
      "source": [
        "# Feature selection methods\n",
        "* Filter: Rank features based on statistical performance\n",
        "* Wrapper: Use an ML method to evaluate performance\n",
        "* Embedded: Iterative model training to extract features\n",
        "* Feature importance: tree-based ML models"
      ]
    },
    {
      "cell_type": "markdown",
      "metadata": {
        "id": "BL2daS4SjW9r"
      },
      "source": [
        "# Compare and contrast methods\n",
        "![](https://drive.google.com/uc?id=1lqhqhr34v-1vSlwj49GSyLboSK9khxU4)"
      ]
    },
    {
      "cell_type": "markdown",
      "metadata": {
        "id": "rW4AgyGikDPE"
      },
      "source": [
        "# Filter Method\n",
        "\n",
        "Filter methods rank features based on their statistical performance while wrapper, embedded and tree-based methods use a machine learning model to evaluate performance.\n",
        "\n",
        "## Correlation coefficient statistical tests\n",
        "![](https://drive.google.com/uc?id=1MjIkfzMrxprPDj7jVdKdfL5Vmii8qoq0)\n",
        "\n",
        "# Filter Functions\n",
        "\n",
        "![](https://drive.google.com/uc?id=1c4CJq9KF3OtqLhzussWLhA_00t2szPk7)"
      ]
    },
    {
      "cell_type": "markdown",
      "metadata": {
        "id": "glXNLMOTpji5"
      },
      "source": [
        "# Wrapper methods \n",
        "\n",
        "1. Forward selection (LARS-least angle regression)\n",
        "  * Starts with no features, adds one at a time\n",
        "2. Backward elimination\n",
        "  * Starts with all features, eliminates one at a time\n",
        "3. Forward selection/backward elimination combination (bidirectional elimination)\n",
        "4. Recursive feature elimination\n",
        "   * RFECV (Recursive feature elimination with cross-validation to select the number of features.)\n",
        " \n",
        "\n"
      ]
    },
    {
      "cell_type": "markdown",
      "metadata": {
        "id": "4nWtOEhkqfQ6"
      },
      "source": [
        "\n",
        "# Embeded Methods \n",
        "Embedded methods combine the qualities' of filter and wrapper methods. It's implemented by algorithms that have their own built-in feature selection methods. Some of the most popular examples of these methods are LASSO and RIDGE regression which have inbuilt penalization functions to reduce overfitting\n",
        "\n",
        "## 3 approaches:\n",
        "1. Lasso Regression\n",
        "2. Ridge Regression\n",
        "3. ElasticNet\n",
        "\n",
        "Elastic Net is a middle ground between Ridge Regression and Lasso Regression. The regularization term is a simple mix of both Ridge and Lasso’s regularization terms, and you can control the mix ratio r. When r = 0, Elastic Net is equivalent to Ridge Regression, and when r = 1, it is equivalent to Lasso Regression.\n",
        "\n",
        "\n",
        "**Elastic Net cost function**\n",
        "\n",
        "![](https://drive.google.com/uc?id=1ENPvSoUfTh0Fbeym7YhOuAQSdRYSn5_-)\n"
      ]
    },
    {
      "cell_type": "markdown",
      "metadata": {
        "id": "CkZagK1rvcof"
      },
      "source": [
        "# Tree-based Feature Importance Methods\n",
        "\n",
        "\n",
        "```\n",
        "Random Forest --> sklearn.ensemble.RandomForestRegressor\n",
        "Extra Trees --> sklearn.ensemble.ExtraTreesRegressor\n",
        "After model fit --> tree_mod.feature_importances_\n",
        "\n",
        "```\n",
        "\n"
      ]
    },
    {
      "cell_type": "markdown",
      "metadata": {
        "id": "-Ur_dvgD5jfX"
      },
      "source": [
        "# Some Regression Functions Used for Feature Selections \n",
        "\n",
        "\n",
        "\n",
        "\n",
        "```\n",
        "sklearn.svm.SVR                           support vector regression estimator\n",
        "sklearn.feature_selection.RFECV           recursive feature elimination with cross-val\n",
        "rfe_mod.support_                          boolean array of selected features\n",
        "ref_mod.ranking_                          feature ranking, selected=1\n",
        "sklearn.linear_model.LinearRegression     linear model estimator\n",
        "sklearn.linear_model.LarsCV               least angle regression with cross-val\n",
        "LarsCV.score                              r-squared score\n",
        "LarsCV.alpha_                             estimated regularization parameter\n",
        "\n",
        "```\n",
        "\n",
        "\n"
      ]
    },
    {
      "cell_type": "markdown",
      "metadata": {
        "id": "1344WziWwaDs"
      },
      "source": [
        "# Excercises: \n",
        "## Filter and Wrapper Methods\n",
        "Questions about reducing the dimensionality of a dataset are highly common in machine learning interviews. One way to reduce the dimensionality of a dataset is by only selecting relevant features in your dataset.\n",
        "\n",
        "Here you'll practice a filter method on the diabetes DataFrame followed by 2 different styles of wrapper methods that include cross-validation. You will be using pandas, matplotlib.pyplot and seaborn to visualize correlations, process your data and apply feature selection techniques to your dataset.\n",
        "\n",
        "The feature matrix with the dropped target variable column (progression) is loaded as X, while the target variable is loaded as y.\n"
      ]
    },
    {
      "cell_type": "code",
      "execution_count": null,
      "metadata": {
        "id": "F2nxyPtSxcCi"
      },
      "outputs": [],
      "source": [
        "# Import modules\n",
        "import numpy as np\n",
        "import pandas as pd\n",
        "import seaborn as sns\n",
        "import matplotlib.pyplot as plt"
      ]
    },
    {
      "cell_type": "markdown",
      "metadata": {
        "id": "dREdKCl2TU4A"
      },
      "source": [
        "# Create correlation matrix with diabetes and a heatmap, then subset the features which have greater than 50% correlation."
      ]
    },
    {
      "cell_type": "code",
      "execution_count": null,
      "metadata": {
        "id": "51vF7VW8waBp"
      },
      "outputs": [],
      "source": [
        "# Create correlation matrix and print it\n",
        "\n",
        "diabetes = pd.read_csv('/content/drive/MyDrive/Colab_Notebooks/Data_Camp/ML_Interview/Chapter_02/diabetes.csv')"
      ]
    },
    {
      "cell_type": "code",
      "execution_count": null,
      "metadata": {
        "colab": {
          "base_uri": "https://localhost:8080/"
        },
        "id": "55auOoxlyI8X",
        "outputId": "5cefcde9-8b18-4a87-fe78-36c576c1d488"
      },
      "outputs": [
        {
          "name": "stdout",
          "output_type": "stream",
          "text": [
            "<class 'pandas.core.frame.DataFrame'>\n",
            "RangeIndex: 442 entries, 0 to 441\n",
            "Data columns (total 11 columns):\n",
            " #   Column       Non-Null Count  Dtype  \n",
            "---  ------       --------------  -----  \n",
            " 0   age          442 non-null    float64\n",
            " 1   sex          442 non-null    float64\n",
            " 2   bmi          442 non-null    float64\n",
            " 3   bp           442 non-null    float64\n",
            " 4   s1           442 non-null    float64\n",
            " 5   s2           442 non-null    float64\n",
            " 6   s3           442 non-null    float64\n",
            " 7   s4           442 non-null    float64\n",
            " 8   s5           442 non-null    float64\n",
            " 9   s6           442 non-null    float64\n",
            " 10  progression  442 non-null    float64\n",
            "dtypes: float64(11)\n",
            "memory usage: 38.1 KB\n"
          ]
        }
      ],
      "source": [
        "diabetes.info()"
      ]
    },
    {
      "cell_type": "code",
      "execution_count": null,
      "metadata": {
        "colab": {
          "base_uri": "https://localhost:8080/"
        },
        "id": "4s7L1GuWwZ_F",
        "outputId": "1420c9c2-e748-4e2e-ac6c-9df6fec9d8ac"
      },
      "outputs": [
        {
          "name": "stdout",
          "output_type": "stream",
          "text": [
            "                  age       sex       bmi  ...        s5        s6  progression\n",
            "age          1.000000  0.173737  0.185085  ...  0.270777  0.301731     0.187889\n",
            "sex          0.173737  1.000000  0.088161  ...  0.149918  0.208133     0.043062\n",
            "bmi          0.185085  0.088161  1.000000  ...  0.446159  0.388680     0.586450\n",
            "bp           0.335427  0.241013  0.395415  ...  0.393478  0.390429     0.441484\n",
            "s1           0.260061  0.035277  0.249777  ...  0.515501  0.325717     0.212022\n",
            "s2           0.219243  0.142637  0.261170  ...  0.318353  0.290600     0.174054\n",
            "s3          -0.075181 -0.379090 -0.366811  ... -0.398577 -0.273697    -0.394789\n",
            "s4           0.203841  0.332115  0.413807  ...  0.617857  0.417212     0.430453\n",
            "s5           0.270777  0.149918  0.446159  ...  1.000000  0.464670     0.565883\n",
            "s6           0.301731  0.208133  0.388680  ...  0.464670  1.000000     0.382483\n",
            "progression  0.187889  0.043062  0.586450  ...  0.565883  0.382483     1.000000\n",
            "\n",
            "[11 rows x 11 columns]\n"
          ]
        }
      ],
      "source": [
        "cor = diabetes.corr()\n",
        "print(cor)"
      ]
    },
    {
      "cell_type": "code",
      "execution_count": null,
      "metadata": {
        "colab": {
          "base_uri": "https://localhost:8080/",
          "height": 595
        },
        "id": "1Mp3IqHhwZ9J",
        "outputId": "4180c8b3-c026-4dda-afde-c307a0ad3a78"
      },
      "outputs": [
        {
          "data": {
            "image/png": "[encoded data removed]",
            "text/plain": [
              "<Figure size 1080x720 with 2 Axes>"
            ]
          },
          "metadata": {},
          "output_type": "display_data"
        }
      ],
      "source": [
        "# Step 1\n",
        "# Correlation matrix heatmap\n",
        "plt.figure(figsize=(15,10))\n",
        "sns.heatmap(cor, annot=True, cmap=plt.cm.Reds)\n",
        "plt.show()"
      ]
    },
    {
      "cell_type": "code",
      "execution_count": null,
      "metadata": {
        "colab": {
          "base_uri": "https://localhost:8080/"
        },
        "id": "frI2SS8WwZ6U",
        "outputId": "1b282c27-b173-47ce-a026-121f3ecd991c"
      },
      "outputs": [
        {
          "name": "stdout",
          "output_type": "stream",
          "text": [
            "bmi            0.586450\n",
            "s5             0.565883\n",
            "progression    1.000000\n",
            "Name: progression, dtype: float64\n"
          ]
        }
      ],
      "source": [
        "# Step 1 continue\n",
        "# Correlation with output variable\n",
        "cor_target = abs(cor[\"progression\"])\n",
        "\n",
        "# Selecting highly correlated features\n",
        "best_features = cor_target[cor_target > .5]\n",
        "print(best_features)"
      ]
    },
    {
      "cell_type": "code",
      "execution_count": null,
      "metadata": {
        "colab": {
          "base_uri": "https://localhost:8080/"
        },
        "id": "XHIBaqq6wZyX",
        "outputId": "4ed909a0-81fd-4333-c90e-9f78c7cbf3f4"
      },
      "outputs": [
        {
          "name": "stdout",
          "output_type": "stream",
          "text": [
            "[ True False  True  True  True  True  True  True  True  True]\n",
            "[1 2 1 1 1 1 1 1 1 1]\n",
            "Index(['age', 'sex', 'bmi', 'bp', 's1', 's2', 's3', 's4', 's5', 's6'], dtype='object')\n"
          ]
        }
      ],
      "source": [
        "# Step 2\n",
        "# Import modules\n",
        "from sklearn.svm import SVR\n",
        "from sklearn.feature_selection import RFECV\n",
        "\n",
        "X = diabetes.drop(['progression'], axis='columns') #axis=1 is equavalent to axis='columns'\n",
        "y = diabetes.progression\n",
        "\n",
        "# Instantiate estimator and feature selector\n",
        "svr_mod = SVR(kernel=\"linear\")\n",
        "feat_selector = RFECV(svr_mod, cv=5)\n",
        "\n",
        "# Fit\n",
        "feat_selector = feat_selector.fit(X,y)\n",
        "\n",
        "# Print support and ranking\n",
        "print(feat_selector.support_)\n",
        "print(feat_selector.ranking_)\n",
        "print(X.columns)\n"
      ]
    },
    {
      "cell_type": "code",
      "execution_count": null,
      "metadata": {
        "colab": {
          "base_uri": "https://localhost:8080/"
        },
        "id": "RCRqdZbiwZoW",
        "outputId": "3de9278d-8f61-48f6-88c8-e1cb0c75d37b"
      },
      "outputs": [
        {
          "name": "stdout",
          "output_type": "stream",
          "text": [
            "0.4982900996498095\n",
            "0.05226862285159154\n",
            "[   0.          547.26566654  252.30372047 -390.44325522  243.76403539\n",
            "  -36.86660641    0.          643.67630187   32.05042583]\n"
          ]
        }
      ],
      "source": [
        "# Drop the unimportant column found in step 2 from X and instantiate a LarsCV object and fit it to your data.\n",
        "# Import modules\n",
        "from sklearn.linear_model import LarsCV\n",
        "\n",
        "# Drop feature suggested not important in step 2\n",
        "X = X.drop('sex', axis=1)\n",
        "\n",
        "# Instantiate\n",
        "lars_mod = LarsCV(cv=5, normalize=False)\n",
        "\n",
        "# Fit\n",
        "feat_selector = lars_mod.fit(X, y)\n",
        "\n",
        "# Print r-squared score and estimated alpha\n",
        "print(lars_mod.score(X, y))\n",
        "print(lars_mod.alpha_)\n",
        "print(lars_mod.coef_)"
      ]
    },
    {
      "cell_type": "code",
      "execution_count": null,
      "metadata": {
        "colab": {
          "base_uri": "https://localhost:8080/",
          "height": 334
        },
        "id": "tAFHlfqfaNXu",
        "outputId": "5e9116cc-9f3b-4084-878c-814f69230e80"
      },
      "outputs": [
        {
          "data": {
            "image/png": "[encoded data removed]",
            "text/plain": [
              "<Figure size 504x360 with 1 Axes>"
            ]
          },
          "metadata": {},
          "output_type": "display_data"
        }
      ],
      "source": [
        "plt.figure(figsize=(7, 5))\n",
        "plt.plot(X.columns.to_list(), lars_mod.coef_, 's', label=\"LARS Reg\")\n",
        "plt.xlabel(\"Coefficient index\")\n",
        "plt.ylabel(\"Coefficient magnitude\")\n",
        "plt.axhline(y=0, color='r', linestyle='-')\n",
        "plt.legend()\n",
        "plt.show()"
      ]
    },
    {
      "cell_type": "code",
      "execution_count": null,
      "metadata": {
        "colab": {
          "base_uri": "https://localhost:8080/",
          "height": 334
        },
        "id": "AR-gh_TmE5YL",
        "outputId": "705fb217-cbe1-4e5e-bc36-7d152e280765"
      },
      "outputs": [
        {
          "data": {
            "image/png": "[encoded data removed]",
            "text/plain": [
              "<Figure size 504x360 with 1 Axes>"
            ]
          },
          "metadata": {},
          "output_type": "display_data"
        }
      ],
      "source": [
        "# sort the features based on their importance\n",
        "dic = dict(zip(np.array(X.columns), lars_mod.coef_))\n",
        "dic_sort = sorted(dic.items(), key=lambda x:x[1], reverse=True) # reverse=True means descending order\n",
        "xx = [x[0] for x in dic_sort]\n",
        "yy = [x[1] for x in dic_sort]\n",
        "\n",
        "\n",
        "plt.figure(figsize=(7, 5))\n",
        "plt.bar(xx, yy,  label=\"LARS Reg\")\n",
        "plt.xlabel(\"Features\")\n",
        "plt.ylabel(\"Coefficient magnitude\")\n",
        "plt.axhline(y=0, color='r', linestyle='-')\n",
        "plt.legend()\n",
        "plt.show()"
      ]
    },
    {
      "cell_type": "markdown",
      "metadata": {
        "id": "5ZUGKKSDwZmf"
      },
      "source": [
        "# Feature selection through feature importance\n",
        "In the last exercise, the filter and wrapper methods were used to select features in machine learning. In this exercise, the feature selection methods is used with the built-in feature importance in tree-based machine learning algorithms on the diabetes DataFrame.\n",
        "\n",
        "The feature matrix and target array are saved to your workspace as X and y, respectively."
      ]
    },
    {
      "cell_type": "code",
      "execution_count": null,
      "metadata": {
        "colab": {
          "base_uri": "https://localhost:8080/",
          "height": 425
        },
        "id": "-Z5Q7xjnwZhF",
        "outputId": "42e51318-c496-4837-ef65-b792e6e0ba75"
      },
      "outputs": [
        {
          "name": "stdout",
          "output_type": "stream",
          "text": [
            "Index(['age', 'sex', 'bmi', 'bp', 's1', 's2', 's3', 's4', 's5', 's6',\n",
            "       'progression'],\n",
            "      dtype='object')\n",
            "[0.         0.         0.39961579 0.03085607 0.         0.00128948\n",
            " 0.00700339 0.00417891 0.53899467 0.01806168]\n"
          ]
        },
        {
          "data": {
            "image/png": "[encoded data removed]",
            "text/plain": [
              "<Figure size 504x360 with 1 Axes>"
            ]
          },
          "metadata": {},
          "output_type": "display_data"
        }
      ],
      "source": [
        "# Import the correct function to instantiate a Random Forest regression model.\n",
        "# Import\n",
        "X = diabetes.drop(['progression'], axis='columns') #axis=1 is equavalent to axis='columns'\n",
        "y = diabetes.progression\n",
        "\n",
        "from sklearn.ensemble import RandomForestRegressor\n",
        "\n",
        "# Instantiate\n",
        "rf_mod = RandomForestRegressor(max_depth=2, random_state=123, \n",
        "              n_estimators=100, oob_score=True)\n",
        "\n",
        "# Fit\n",
        "rf_mod.fit(X, y)\n",
        "\n",
        "# Print\n",
        "print(diabetes.columns)\n",
        "print(rf_mod.feature_importances_)\n",
        "\n",
        "# sort the features based on their importance\n",
        "dic = dict(zip(np.array(X.columns), rf_mod.feature_importances_))\n",
        "dic_sort = sorted(dic.items(), key=lambda x:x[1], reverse=True) # reverse=True means descending order\n",
        "xx = [x[0] for x in dic_sort]\n",
        "yy = [x[1] for x in dic_sort]\n",
        "\n",
        "plt.figure(figsize=(7, 5))\n",
        "plt.bar(xx, yy,  label=\"RandomForest-FeatureImportance\")\n",
        "plt.xlabel(\"Features\")\n",
        "plt.ylabel(\"Importance of the Feature\")\n",
        "# plt.axhline(y=0, color='r', linestyle='-')\n",
        "plt.legend()\n",
        "plt.show()\n"
      ]
    },
    {
      "cell_type": "code",
      "execution_count": null,
      "metadata": {
        "id": "oG0nAuLmwZXp"
      },
      "outputs": [],
      "source": [
        "# Import the correct function to instantiate an Extra Tree regression model.\n",
        "# Fit the model and print feature importance."
      ]
    },
    {
      "cell_type": "code",
      "execution_count": null,
      "metadata": {
        "colab": {
          "base_uri": "https://localhost:8080/",
          "height": 425
        },
        "id": "-mq_eeZ9wZVF",
        "outputId": "dc753ea8-c59f-498a-e198-067e92f05982"
      },
      "outputs": [
        {
          "name": "stdout",
          "output_type": "stream",
          "text": [
            "Index(['age', 'sex', 'bmi', 'bp', 's1', 's2', 's3', 's4', 's5', 's6',\n",
            "       'progression'],\n",
            "      dtype='object')\n",
            "[0.05684854 0.03338495 0.26191421 0.11661371 0.04950582 0.04966422\n",
            " 0.06280272 0.09039756 0.20442912 0.07443915]\n"
          ]
        },
        {
          "data": {
            "image/png": "[encoded data removed]",
            "text/plain": [
              "<Figure size 504x360 with 1 Axes>"
            ]
          },
          "metadata": {},
          "output_type": "display_data"
        }
      ],
      "source": [
        "from sklearn.ensemble import ExtraTreesRegressor\n",
        "\n",
        "# Instantiate\n",
        "xt_mod = ExtraTreesRegressor()\n",
        "\n",
        "# Fit\n",
        "xt_mod.fit(X, y)\n",
        "\n",
        "# Print\n",
        "print(diabetes.columns)\n",
        "print(xt_mod.feature_importances_)\n",
        "\n",
        "\n",
        "\n",
        "# sort the features based on their importance\n",
        "dic = dict(zip(np.array(X.columns), xt_mod.feature_importances_))\n",
        "dic_sort = sorted(dic.items(), key=lambda x:x[1], reverse=True) # reverse=True means descending order\n",
        "xx = [x[0] for x in dic_sort]\n",
        "yy = [x[1] for x in dic_sort]\n",
        "\n",
        "plt.figure(figsize=(7, 5))\n",
        "plt.bar(xx, yy,  label=\"ExtraTree-FeatureImportance\")\n",
        "plt.xlabel(\"Feature\")\n",
        "plt.ylabel(\"Importance of the Feature\")\n",
        "# plt.axhline(y=0, color='r', linestyle='-')\n",
        "plt.legend()\n",
        "plt.show()\n",
        "\n"
      ]
    },
    {
      "cell_type": "markdown",
      "metadata": {
        "id": "bH9ox3izwZTF"
      },
      "source": [
        "# Differences betwee Random Forest and Extra Tree Methods:\n",
        "\n",
        "* Random forest uses bootstrap replicas, that is to say, it subsamples the input data with replacement, whereas Extra Trees use the whole original sample. In the Extra Trees sklearn implementation there is an optional parameter that allows users to bootstrap replicas, but by default, it uses the entire input sample. This may increase variance because bootstrapping makes it more diversified.\n",
        "* Another difference is the selection of cut points in order to split nodes. Random Forest chooses the optimum split while Extra Trees chooses it randomly. However, once the split points are selected, the two algorithms choose the best one between all the subset of features. Therefore, Extra Trees adds randomization but still has optimization."
      ]
    },
    {
      "cell_type": "markdown",
      "metadata": {
        "id": "5YyemmjowZQi"
      },
      "source": [
        "# Lasso regularization\n",
        "In the previous lesson, you covered an important aspect of machine learning interview questions by practicing various feature selection techniques.\n",
        "\n",
        "In this exercise, you will build on your knowledge of feature selection and perform all the steps in the machine learning pipeline by trying out Lasso Regularization.\n",
        "\n",
        "All relevant packages have been imported for you, as well as the feature matrix X and target variable y. You've come a long way!"
      ]
    },
    {
      "cell_type": "code",
      "execution_count": null,
      "metadata": {
        "colab": {
          "base_uri": "https://localhost:8080/"
        },
        "id": "bjyWJeNPwZON",
        "outputId": "8f0a9a60-aa07-43c7-93ca-19d83f0b0642"
      },
      "outputs": [
        {
          "name": "stdout",
          "output_type": "stream",
          "text": [
            "2924.5859832897386\n"
          ]
        }
      ],
      "source": [
        "from sklearn.linear_model import Lasso, LassoCV\n",
        "from sklearn.metrics import mean_squared_error\n",
        "from sklearn.model_selection import train_test_split\n",
        "\n",
        "# Train/test split\n",
        "X_train, X_test, y_train, y_test = train_test_split(X, y, random_state=123, test_size=0.3)\n",
        "\n",
        "# Instantiate cross-validated lasso, fit\n",
        "lasso_cv = LassoCV(alphas=None, cv=10, max_iter=10000)\n",
        "lasso_cv.fit(X_train, y_train)\n",
        "\n",
        "# Instantiate lasso, fit, predict and print MSE\n",
        "lasso = Lasso(alpha = lasso_cv.alpha_)\n",
        "lasso.fit(X_train, y_train)\n",
        "print(mean_squared_error(y_true=y_test, y_pred=lasso.predict(X_test)))"
      ]
    },
    {
      "cell_type": "markdown",
      "metadata": {
        "id": "L4QBRpvfwZLh"
      },
      "source": [
        "#Ridge regularization\n",
        "\n",
        "Lasso uses the L1 norm corresponding to the penalty parameter and the absolute value of the coefficients. Ridge regression performs L2 regularization, also known as L2-norm, which adds a penalty term to ordinary least squares using the penalty parameter and the sum of the squared coefficients.\n",
        "\n"
      ]
    },
    {
      "cell_type": "code",
      "execution_count": null,
      "metadata": {
        "colab": {
          "base_uri": "https://localhost:8080/"
        },
        "id": "lhq2emjMwZI_",
        "outputId": "c0577dec-6b72-499c-8c0c-e69800edf624"
      },
      "outputs": [
        {
          "name": "stdout",
          "output_type": "stream",
          "text": [
            "2970.874355984401\n"
          ]
        }
      ],
      "source": [
        "# Import modules\n",
        "from sklearn.linear_model import Ridge, RidgeCV\n",
        "from sklearn.metrics import mean_squared_error\n",
        "\n",
        "# Train/test split\n",
        "X_train, X_test, y_train, y_test = train_test_split(X, y, random_state=123, test_size=0.3)\n",
        "\n",
        "# Instantiate cross-validated ridge, fit\n",
        "ridge_cv = RidgeCV(alphas=np.logspace(-6, 6, 13))\n",
        "ridge_cv.fit(X_train, y_train)\n",
        "\n",
        "# Instantiate ridge, fit, predict and print MSE\n",
        "ridge = Ridge(alpha = ridge_cv.alpha_)\n",
        "ridge.fit(X_train, y_train)\n",
        "print(mean_squared_error(y_true=y_test, y_pred=ridge.predict(X_test)))\n"
      ]
    },
    {
      "cell_type": "markdown",
      "metadata": {
        "id": "6ueFEiQLwYAz"
      },
      "source": [
        "# Feature engineering\n",
        "\n",
        "* Extracts additional information from the data\n",
        "* Creates additional relevant features\n",
        "* One of the most e(ective ways to improve predictive models\n",
        "\n",
        "# Benefits of feature engineering\n",
        "* Increased predictive power of the learning algorithm\n",
        "* Makes your machine learning models perform even better\n",
        "\n",
        "# Types of feature engineering\n",
        "* Indicator variables\n",
        "* Interaction features\n",
        "* Feature representation\n",
        "\n",
        "## Indicator variables\n",
        "* Threshold indicator\n",
        " * age: high school vs college\n",
        "* Multiple features\n",
        " * used as a .ag\n",
        "* Special events\n",
        " * black Friday\n",
        " * Christmas\n",
        "* Groups of classes\n",
        " * website tra)c paid .ag\n",
        "   * Google adwords{4}}\n",
        "   * Facebook ads\n",
        "\n",
        "## Interaction features\n",
        "* Sum\n",
        "* Diference\n",
        "* Product\n",
        "* Quotient\n",
        "* Other mathematical combos\n",
        "\n",
        "## Feature representation\n",
        "* Datetime stamps\n",
        " * Day of week\n",
        " * Hour of day\n",
        "* Grouping categorical levels into 'Other'\n",
        "* Transform categorical to dummy variables\n",
        " * (k - 1) binary columns\n",
        "\n",
        "## Different categorical levels\n",
        "* Training data:\n",
        " * model trained with [red, blue, green]\n",
        "* Test data:\n",
        " * model test with [red, green, yellow]\n",
        " * additional color not seen in training\n",
        " * one color missing\n",
        "* Robust one-hot encoding\n",
        "\n",
        "# Feature engineering functions\n",
        "**Function returns**\n",
        "\n",
        "\n",
        "```\n",
        "sklearn.linear_model.LogisticRegression                    logistic regression\n",
        "sklearn.model_selection.train_test_split                   train/test split function\n",
        "sns.countplot(x='Loan Status', data=data)                  bar plot\n",
        "df.drop(['Feature 1', 'Feature 2'], axis=1)                drops list of features\n",
        "df[\"Loan Status\"].replace({'Paid': 0, 'Not Paid': 1})      Loan Status as integers\n",
        "pd.get_dummies()                                           k - 1 binary features\n",
        "sklearn.metrics.accuracy_score(y_test, predict(X_test))    model accurac\n",
        "```\n",
        "\n",
        "\n"
      ]
    },
    {
      "cell_type": "markdown",
      "metadata": {
        "id": "x_w-LbtAf0X3"
      },
      "source": [
        "# Logistic regression baseline classifier\n",
        "\n",
        "In the last 2 lessons, you learned how valuable feature selection is in the context of machine learning interviews. Another set of common questions you should expect in a machine learning interview pertain to feature engineering, and how they help improve model performance.\n",
        "\n",
        "In this exercise, you'll engineer a new feature on the loan_data dataset from Chapter 1, compare the accuracy score of Logistic Regression models on the dataset before and after feature engineering by comparing test labels with the predicted values of the target variable Loan Status.\n",
        "\n"
      ]
    },
    {
      "cell_type": "code",
      "execution_count": null,
      "metadata": {
        "colab": {
          "base_uri": "https://localhost:8080/",
          "height": 345
        },
        "id": "6R0dLEA_gMV-",
        "outputId": "a42835cf-4857-420e-c861-050af8824597"
      },
      "outputs": [
        {
          "data": {
            "text/html": [
              "<div>\n",
              "<style scoped>\n",
              "    .dataframe tbody tr th:only-of-type {\n",
              "        vertical-align: middle;\n",
              "    }\n",
              "\n",
              "    .dataframe tbody tr th {\n",
              "        vertical-align: top;\n",
              "    }\n",
              "\n",
              "    .dataframe thead th {\n",
              "        text-align: right;\n",
              "    }\n",
              "</style>\n",
              "<table border=\"1\" class=\"dataframe\">\n",
              "  <thead>\n",
              "    <tr style=\"text-align: right;\">\n",
              "      <th></th>\n",
              "      <th>Loan Status</th>\n",
              "      <th>Current Loan Amount</th>\n",
              "      <th>Term</th>\n",
              "      <th>Credit Score</th>\n",
              "      <th>Years in current job</th>\n",
              "      <th>Home Ownership</th>\n",
              "      <th>Annual Income</th>\n",
              "      <th>Purpose</th>\n",
              "      <th>Monthly Debt</th>\n",
              "      <th>Years of Credit History</th>\n",
              "      <th>Months since last delinquent</th>\n",
              "      <th>Number of Open Accounts</th>\n",
              "      <th>Number of Credit Problems</th>\n",
              "      <th>Current Credit Balance</th>\n",
              "      <th>Maximum Open Credit</th>\n",
              "      <th>Bankruptcies</th>\n",
              "      <th>Tax Liens</th>\n",
              "    </tr>\n",
              "  </thead>\n",
              "  <tbody>\n",
              "    <tr>\n",
              "      <th>0</th>\n",
              "      <td>Charged Off</td>\n",
              "      <td>12232</td>\n",
              "      <td>Short Term</td>\n",
              "      <td>728.0</td>\n",
              "      <td>1.0</td>\n",
              "      <td>Rent</td>\n",
              "      <td>46643.0</td>\n",
              "      <td>DebtConsolidation</td>\n",
              "      <td>777.39</td>\n",
              "      <td>18.0</td>\n",
              "      <td>10.0</td>\n",
              "      <td>12</td>\n",
              "      <td>0</td>\n",
              "      <td>6762</td>\n",
              "      <td>7946</td>\n",
              "      <td>0.0</td>\n",
              "      <td>0.0</td>\n",
              "    </tr>\n",
              "    <tr>\n",
              "      <th>1</th>\n",
              "      <td>Charged Off</td>\n",
              "      <td>25014</td>\n",
              "      <td>Long Term</td>\n",
              "      <td>733.0</td>\n",
              "      <td>10.0</td>\n",
              "      <td>Mortgage</td>\n",
              "      <td>81099.0</td>\n",
              "      <td>DebtConsolidation</td>\n",
              "      <td>892.09</td>\n",
              "      <td>26.7</td>\n",
              "      <td>NaN</td>\n",
              "      <td>14</td>\n",
              "      <td>0</td>\n",
              "      <td>35706</td>\n",
              "      <td>77961</td>\n",
              "      <td>0.0</td>\n",
              "      <td>0.0</td>\n",
              "    </tr>\n",
              "    <tr>\n",
              "      <th>2</th>\n",
              "      <td>Charged Off</td>\n",
              "      <td>16117</td>\n",
              "      <td>Short Term</td>\n",
              "      <td>724.0</td>\n",
              "      <td>9.0</td>\n",
              "      <td>Mortgage</td>\n",
              "      <td>60438.0</td>\n",
              "      <td>HomeImprovements</td>\n",
              "      <td>1244.02</td>\n",
              "      <td>16.7</td>\n",
              "      <td>32.0</td>\n",
              "      <td>11</td>\n",
              "      <td>1</td>\n",
              "      <td>11275</td>\n",
              "      <td>14815</td>\n",
              "      <td>1.0</td>\n",
              "      <td>0.0</td>\n",
              "    </tr>\n",
              "    <tr>\n",
              "      <th>3</th>\n",
              "      <td>Charged Off</td>\n",
              "      <td>11716</td>\n",
              "      <td>Short Term</td>\n",
              "      <td>740.0</td>\n",
              "      <td>3.0</td>\n",
              "      <td>Rent</td>\n",
              "      <td>34171.0</td>\n",
              "      <td>DebtConsolidation</td>\n",
              "      <td>990.94</td>\n",
              "      <td>10.0</td>\n",
              "      <td>NaN</td>\n",
              "      <td>21</td>\n",
              "      <td>0</td>\n",
              "      <td>7009</td>\n",
              "      <td>43533</td>\n",
              "      <td>0.0</td>\n",
              "      <td>0.0</td>\n",
              "    </tr>\n",
              "    <tr>\n",
              "      <th>4</th>\n",
              "      <td>Charged Off</td>\n",
              "      <td>9789</td>\n",
              "      <td>Long Term</td>\n",
              "      <td>686.0</td>\n",
              "      <td>10.0</td>\n",
              "      <td>Mortgage</td>\n",
              "      <td>47003.0</td>\n",
              "      <td>HomeImprovements</td>\n",
              "      <td>503.71</td>\n",
              "      <td>16.7</td>\n",
              "      <td>25.0</td>\n",
              "      <td>13</td>\n",
              "      <td>1</td>\n",
              "      <td>16913</td>\n",
              "      <td>19553</td>\n",
              "      <td>1.0</td>\n",
              "      <td>0.0</td>\n",
              "    </tr>\n",
              "  </tbody>\n",
              "</table>\n",
              "</div>"
            ],
            "text/plain": [
              "   Loan Status  Current Loan Amount  ... Bankruptcies  Tax Liens\n",
              "0  Charged Off                12232  ...          0.0        0.0\n",
              "1  Charged Off                25014  ...          0.0        0.0\n",
              "2  Charged Off                16117  ...          1.0        0.0\n",
              "3  Charged Off                11716  ...          0.0        0.0\n",
              "4  Charged Off                 9789  ...          1.0        0.0\n",
              "\n",
              "[5 rows x 17 columns]"
            ]
          },
          "execution_count": 17,
          "metadata": {},
          "output_type": "execute_result"
        }
      ],
      "source": [
        "loan_data = pd.read_csv('/content/drive/MyDrive/Colab_Notebooks/Data_Camp/ML_Interview/Chapter_02/LoansTrainingSetReduced.csv')\n",
        "loan_data.head()"
      ]
    },
    {
      "cell_type": "markdown",
      "metadata": {
        "id": "ZEx4z-22qjJ-"
      },
      "source": [
        "# Iterative imputation"
      ]
    },
    {
      "cell_type": "code",
      "execution_count": null,
      "metadata": {
        "colab": {
          "base_uri": "https://localhost:8080/"
        },
        "id": "WYp9CSz6pH1f",
        "outputId": "3c477f8b-34d5-4a61-98f3-d66d66a24987"
      },
      "outputs": [
        {
          "name": "stdout",
          "output_type": "stream",
          "text": [
            "<class 'pandas.core.frame.DataFrame'>\n",
            "RangeIndex: 88910 entries, 0 to 88909\n",
            "Data columns (total 13 columns):\n",
            " #   Column                        Non-Null Count  Dtype  \n",
            "---  ------                        --------------  -----  \n",
            " 0   Current Loan Amount           88910 non-null  float64\n",
            " 1   Credit Score                  88910 non-null  float64\n",
            " 2   Years in current job          88910 non-null  float64\n",
            " 3   Annual Income                 88910 non-null  float64\n",
            " 4   Monthly Debt                  88910 non-null  float64\n",
            " 5   Years of Credit History       88910 non-null  float64\n",
            " 6   Months since last delinquent  88910 non-null  float64\n",
            " 7   Number of Open Accounts       88910 non-null  float64\n",
            " 8   Number of Credit Problems     88910 non-null  float64\n",
            " 9   Current Credit Balance        88910 non-null  float64\n",
            " 10  Maximum Open Credit           88910 non-null  float64\n",
            " 11  Bankruptcies                  88910 non-null  float64\n",
            " 12  Tax Liens                     88910 non-null  float64\n",
            "dtypes: float64(13)\n",
            "memory usage: 8.8 MB\n",
            "None\n"
          ]
        }
      ],
      "source": [
        "# Explicitly require this experimental feature\n",
        "from sklearn.experimental import enable_iterative_imputer\n",
        "# Now you can import normally from sklearn.impute\n",
        "from sklearn.impute import IterativeImputer\n",
        "\n",
        "# Subset numeric features: numeric_cols\n",
        "numeric_cols = loan_data.select_dtypes(include=[np.number])\n",
        "\n",
        "# Iteratively impute\n",
        "imp_iter = IterativeImputer(max_iter=5, sample_posterior=True, random_state=123)\n",
        "loans_imp_iter = imp_iter.fit_transform(numeric_cols)\n",
        "\n",
        "# Convert returned array to DataFrame\n",
        "loans_imp_iterDF = pd.DataFrame(loans_imp_iter, columns=numeric_cols.columns)\n",
        "\n",
        "# Check the DataFrame's info\n",
        "print(loans_imp_iterDF.info())"
      ]
    },
    {
      "cell_type": "code",
      "execution_count": null,
      "metadata": {
        "id": "GnyTgkuv2qWp"
      },
      "outputs": [],
      "source": [
        "# Replace load_data columns with loans_imp_iter\n",
        "for i in loans_imp_iterDF.columns:\n",
        "  loan_data[i] = loans_imp_iterDF[i]"
      ]
    },
    {
      "cell_type": "code",
      "execution_count": null,
      "metadata": {
        "colab": {
          "base_uri": "https://localhost:8080/"
        },
        "id": "lO1zVT-bhM1Y",
        "outputId": "b5cdc1cd-91f1-4bd0-f3f5-518cf452c42d"
      },
      "outputs": [
        {
          "name": "stdout",
          "output_type": "stream",
          "text": [
            "0.7178795036178908\n"
          ]
        }
      ],
      "source": [
        "# Apply LGReg to only numeric data\n",
        "\n",
        "from sklearn.linear_model import LogisticRegression\n",
        "from sklearn.metrics import accuracy_score\n",
        "\n",
        "\n",
        "# loan_data_num = loan_data.select_dtypes(np.number)\n",
        "loan_data_cat = loan_data.select_dtypes(np.object)\n",
        "\n",
        "# Create X matrix and y array\n",
        "# X = loan_data.drop(\"Loan Status\", axis=1)\n",
        "X = loans_imp_iterDF\n",
        "y = loan_data_cat[\"Loan Status\"]\n",
        "\n",
        "# Train/test split\n",
        "X_train, X_test, y_train, y_test = train_test_split(X, y, test_size=0.3, random_state=123)\n",
        "\n",
        "# Instantiate\n",
        "logistic = LogisticRegression()\n",
        "\n",
        "# Fit\n",
        "logistic.fit(X_train, y_train)\n",
        "\n",
        "# Predict and print accuracy\n",
        "print(accuracy_score(y_true=y_test, y_pred=logistic.predict(X_test)))"
      ]
    },
    {
      "cell_type": "code",
      "execution_count": null,
      "metadata": {
        "colab": {
          "base_uri": "https://localhost:8080/",
          "height": 345
        },
        "id": "4i-d09jXnKUH",
        "outputId": "5ef3c3cc-39a3-4ea9-a29f-5ddf21d1a36f"
      },
      "outputs": [
        {
          "data": {
            "text/html": [
              "<div>\n",
              "<style scoped>\n",
              "    .dataframe tbody tr th:only-of-type {\n",
              "        vertical-align: middle;\n",
              "    }\n",
              "\n",
              "    .dataframe tbody tr th {\n",
              "        vertical-align: top;\n",
              "    }\n",
              "\n",
              "    .dataframe thead th {\n",
              "        text-align: right;\n",
              "    }\n",
              "</style>\n",
              "<table border=\"1\" class=\"dataframe\">\n",
              "  <thead>\n",
              "    <tr style=\"text-align: right;\">\n",
              "      <th></th>\n",
              "      <th>Loan Status</th>\n",
              "      <th>Current Loan Amount</th>\n",
              "      <th>Term</th>\n",
              "      <th>Credit Score</th>\n",
              "      <th>Years in current job</th>\n",
              "      <th>Home Ownership</th>\n",
              "      <th>Purpose</th>\n",
              "      <th>Years of Credit History</th>\n",
              "      <th>Months since last delinquent</th>\n",
              "      <th>Number of Open Accounts</th>\n",
              "      <th>Number of Credit Problems</th>\n",
              "      <th>Current Credit Balance</th>\n",
              "      <th>Maximum Open Credit</th>\n",
              "      <th>Bankruptcies</th>\n",
              "      <th>Tax Liens</th>\n",
              "      <th>dti_ratio</th>\n",
              "    </tr>\n",
              "  </thead>\n",
              "  <tbody>\n",
              "    <tr>\n",
              "      <th>0</th>\n",
              "      <td>Charged Off</td>\n",
              "      <td>12232.0</td>\n",
              "      <td>Short Term</td>\n",
              "      <td>728.0</td>\n",
              "      <td>1.0</td>\n",
              "      <td>Rent</td>\n",
              "      <td>DebtConsolidation</td>\n",
              "      <td>18.0</td>\n",
              "      <td>10.000000</td>\n",
              "      <td>12.0</td>\n",
              "      <td>0.0</td>\n",
              "      <td>6762.0</td>\n",
              "      <td>7946.0</td>\n",
              "      <td>0.0</td>\n",
              "      <td>0.0</td>\n",
              "      <td>20.000172</td>\n",
              "    </tr>\n",
              "    <tr>\n",
              "      <th>1</th>\n",
              "      <td>Charged Off</td>\n",
              "      <td>25014.0</td>\n",
              "      <td>Long Term</td>\n",
              "      <td>733.0</td>\n",
              "      <td>10.0</td>\n",
              "      <td>Mortgage</td>\n",
              "      <td>DebtConsolidation</td>\n",
              "      <td>26.7</td>\n",
              "      <td>34.756537</td>\n",
              "      <td>14.0</td>\n",
              "      <td>0.0</td>\n",
              "      <td>35706.0</td>\n",
              "      <td>77961.0</td>\n",
              "      <td>0.0</td>\n",
              "      <td>0.0</td>\n",
              "      <td>13.200015</td>\n",
              "    </tr>\n",
              "    <tr>\n",
              "      <th>2</th>\n",
              "      <td>Charged Off</td>\n",
              "      <td>16117.0</td>\n",
              "      <td>Short Term</td>\n",
              "      <td>724.0</td>\n",
              "      <td>9.0</td>\n",
              "      <td>Mortgage</td>\n",
              "      <td>HomeImprovements</td>\n",
              "      <td>16.7</td>\n",
              "      <td>32.000000</td>\n",
              "      <td>11.0</td>\n",
              "      <td>1.0</td>\n",
              "      <td>11275.0</td>\n",
              "      <td>14815.0</td>\n",
              "      <td>1.0</td>\n",
              "      <td>0.0</td>\n",
              "      <td>24.700089</td>\n",
              "    </tr>\n",
              "    <tr>\n",
              "      <th>3</th>\n",
              "      <td>Charged Off</td>\n",
              "      <td>11716.0</td>\n",
              "      <td>Short Term</td>\n",
              "      <td>740.0</td>\n",
              "      <td>3.0</td>\n",
              "      <td>Rent</td>\n",
              "      <td>DebtConsolidation</td>\n",
              "      <td>10.0</td>\n",
              "      <td>24.479370</td>\n",
              "      <td>21.0</td>\n",
              "      <td>0.0</td>\n",
              "      <td>7009.0</td>\n",
              "      <td>43533.0</td>\n",
              "      <td>0.0</td>\n",
              "      <td>0.0</td>\n",
              "      <td>34.799333</td>\n",
              "    </tr>\n",
              "    <tr>\n",
              "      <th>4</th>\n",
              "      <td>Charged Off</td>\n",
              "      <td>9789.0</td>\n",
              "      <td>Long Term</td>\n",
              "      <td>686.0</td>\n",
              "      <td>10.0</td>\n",
              "      <td>Mortgage</td>\n",
              "      <td>HomeImprovements</td>\n",
              "      <td>16.7</td>\n",
              "      <td>25.000000</td>\n",
              "      <td>13.0</td>\n",
              "      <td>1.0</td>\n",
              "      <td>16913.0</td>\n",
              "      <td>19553.0</td>\n",
              "      <td>1.0</td>\n",
              "      <td>0.0</td>\n",
              "      <td>12.859860</td>\n",
              "    </tr>\n",
              "  </tbody>\n",
              "</table>\n",
              "</div>"
            ],
            "text/plain": [
              "   Loan Status  Current Loan Amount  ... Tax Liens  dti_ratio\n",
              "0  Charged Off              12232.0  ...       0.0  20.000172\n",
              "1  Charged Off              25014.0  ...       0.0  13.200015\n",
              "2  Charged Off              16117.0  ...       0.0  24.700089\n",
              "3  Charged Off              11716.0  ...       0.0  34.799333\n",
              "4  Charged Off               9789.0  ...       0.0  12.859860\n",
              "\n",
              "[5 rows x 16 columns]"
            ]
          },
          "execution_count": 21,
          "metadata": {},
          "output_type": "execute_result"
        }
      ],
      "source": [
        "# Convert Annual Income to monthly, and derive the ratio of Monthly Debt to monthly_income and store it in dti_ratio.\n",
        "# Convert income: monthly_income\n",
        "monthly_income = loan_data[\"Annual Income\"]/12\n",
        "\n",
        "# Make engineered feature, remove features used\n",
        "loan_data[\"dti_ratio\"] = loan_data[\"Monthly Debt\"]/monthly_income * 100\n",
        "loan_data = loan_data.drop([\"Monthly Debt\",\"Annual Income\"], axis=1)\n",
        "loan_data.head()"
      ]
    },
    {
      "cell_type": "code",
      "execution_count": null,
      "metadata": {
        "colab": {
          "base_uri": "https://localhost:8080/",
          "height": 278
        },
        "id": "u4pR3h3LnQVO",
        "outputId": "554bae89-9db1-4787-9b37-9e9fd2096c2f"
      },
      "outputs": [
        {
          "data": {
            "text/html": [
              "<div>\n",
              "<style scoped>\n",
              "    .dataframe tbody tr th:only-of-type {\n",
              "        vertical-align: middle;\n",
              "    }\n",
              "\n",
              "    .dataframe tbody tr th {\n",
              "        vertical-align: top;\n",
              "    }\n",
              "\n",
              "    .dataframe thead th {\n",
              "        text-align: right;\n",
              "    }\n",
              "</style>\n",
              "<table border=\"1\" class=\"dataframe\">\n",
              "  <thead>\n",
              "    <tr style=\"text-align: right;\">\n",
              "      <th></th>\n",
              "      <th>Loan Status</th>\n",
              "      <th>Current Loan Amount</th>\n",
              "      <th>Credit Score</th>\n",
              "      <th>Years in current job</th>\n",
              "      <th>Years of Credit History</th>\n",
              "      <th>Months since last delinquent</th>\n",
              "      <th>Number of Open Accounts</th>\n",
              "      <th>Number of Credit Problems</th>\n",
              "      <th>Current Credit Balance</th>\n",
              "      <th>Maximum Open Credit</th>\n",
              "      <th>Bankruptcies</th>\n",
              "      <th>Tax Liens</th>\n",
              "      <th>dti_ratio</th>\n",
              "      <th>Term_Short Term</th>\n",
              "      <th>Home Ownership_Own Home</th>\n",
              "      <th>Home Ownership_Rent</th>\n",
              "      <th>Purpose_CarPurchase</th>\n",
              "      <th>Purpose_DebtConsolidation</th>\n",
              "      <th>Purpose_EducationalExpenses</th>\n",
              "      <th>Purpose_HomeImprovements</th>\n",
              "      <th>Purpose_HomePurchase</th>\n",
              "      <th>Purpose_MajorPurchase</th>\n",
              "      <th>Purpose_MedicalBills</th>\n",
              "      <th>Purpose_Moving</th>\n",
              "      <th>Purpose_Other</th>\n",
              "      <th>Purpose_RenewableEnergyPurchase</th>\n",
              "      <th>Purpose_Vacation</th>\n",
              "      <th>Purpose_Wedding</th>\n",
              "    </tr>\n",
              "  </thead>\n",
              "  <tbody>\n",
              "    <tr>\n",
              "      <th>0</th>\n",
              "      <td>1</td>\n",
              "      <td>12232.0</td>\n",
              "      <td>728.0</td>\n",
              "      <td>1.0</td>\n",
              "      <td>18.0</td>\n",
              "      <td>10.000000</td>\n",
              "      <td>12.0</td>\n",
              "      <td>0.0</td>\n",
              "      <td>6762.0</td>\n",
              "      <td>7946.0</td>\n",
              "      <td>0.0</td>\n",
              "      <td>0.0</td>\n",
              "      <td>20.000172</td>\n",
              "      <td>1</td>\n",
              "      <td>0</td>\n",
              "      <td>1</td>\n",
              "      <td>0</td>\n",
              "      <td>1</td>\n",
              "      <td>0</td>\n",
              "      <td>0</td>\n",
              "      <td>0</td>\n",
              "      <td>0</td>\n",
              "      <td>0</td>\n",
              "      <td>0</td>\n",
              "      <td>0</td>\n",
              "      <td>0</td>\n",
              "      <td>0</td>\n",
              "      <td>0</td>\n",
              "    </tr>\n",
              "    <tr>\n",
              "      <th>1</th>\n",
              "      <td>1</td>\n",
              "      <td>25014.0</td>\n",
              "      <td>733.0</td>\n",
              "      <td>10.0</td>\n",
              "      <td>26.7</td>\n",
              "      <td>34.756537</td>\n",
              "      <td>14.0</td>\n",
              "      <td>0.0</td>\n",
              "      <td>35706.0</td>\n",
              "      <td>77961.0</td>\n",
              "      <td>0.0</td>\n",
              "      <td>0.0</td>\n",
              "      <td>13.200015</td>\n",
              "      <td>0</td>\n",
              "      <td>0</td>\n",
              "      <td>0</td>\n",
              "      <td>0</td>\n",
              "      <td>1</td>\n",
              "      <td>0</td>\n",
              "      <td>0</td>\n",
              "      <td>0</td>\n",
              "      <td>0</td>\n",
              "      <td>0</td>\n",
              "      <td>0</td>\n",
              "      <td>0</td>\n",
              "      <td>0</td>\n",
              "      <td>0</td>\n",
              "      <td>0</td>\n",
              "    </tr>\n",
              "    <tr>\n",
              "      <th>2</th>\n",
              "      <td>1</td>\n",
              "      <td>16117.0</td>\n",
              "      <td>724.0</td>\n",
              "      <td>9.0</td>\n",
              "      <td>16.7</td>\n",
              "      <td>32.000000</td>\n",
              "      <td>11.0</td>\n",
              "      <td>1.0</td>\n",
              "      <td>11275.0</td>\n",
              "      <td>14815.0</td>\n",
              "      <td>1.0</td>\n",
              "      <td>0.0</td>\n",
              "      <td>24.700089</td>\n",
              "      <td>1</td>\n",
              "      <td>0</td>\n",
              "      <td>0</td>\n",
              "      <td>0</td>\n",
              "      <td>0</td>\n",
              "      <td>0</td>\n",
              "      <td>1</td>\n",
              "      <td>0</td>\n",
              "      <td>0</td>\n",
              "      <td>0</td>\n",
              "      <td>0</td>\n",
              "      <td>0</td>\n",
              "      <td>0</td>\n",
              "      <td>0</td>\n",
              "      <td>0</td>\n",
              "    </tr>\n",
              "    <tr>\n",
              "      <th>3</th>\n",
              "      <td>1</td>\n",
              "      <td>11716.0</td>\n",
              "      <td>740.0</td>\n",
              "      <td>3.0</td>\n",
              "      <td>10.0</td>\n",
              "      <td>24.479370</td>\n",
              "      <td>21.0</td>\n",
              "      <td>0.0</td>\n",
              "      <td>7009.0</td>\n",
              "      <td>43533.0</td>\n",
              "      <td>0.0</td>\n",
              "      <td>0.0</td>\n",
              "      <td>34.799333</td>\n",
              "      <td>1</td>\n",
              "      <td>0</td>\n",
              "      <td>1</td>\n",
              "      <td>0</td>\n",
              "      <td>1</td>\n",
              "      <td>0</td>\n",
              "      <td>0</td>\n",
              "      <td>0</td>\n",
              "      <td>0</td>\n",
              "      <td>0</td>\n",
              "      <td>0</td>\n",
              "      <td>0</td>\n",
              "      <td>0</td>\n",
              "      <td>0</td>\n",
              "      <td>0</td>\n",
              "    </tr>\n",
              "    <tr>\n",
              "      <th>4</th>\n",
              "      <td>1</td>\n",
              "      <td>9789.0</td>\n",
              "      <td>686.0</td>\n",
              "      <td>10.0</td>\n",
              "      <td>16.7</td>\n",
              "      <td>25.000000</td>\n",
              "      <td>13.0</td>\n",
              "      <td>1.0</td>\n",
              "      <td>16913.0</td>\n",
              "      <td>19553.0</td>\n",
              "      <td>1.0</td>\n",
              "      <td>0.0</td>\n",
              "      <td>12.859860</td>\n",
              "      <td>0</td>\n",
              "      <td>0</td>\n",
              "      <td>0</td>\n",
              "      <td>0</td>\n",
              "      <td>0</td>\n",
              "      <td>0</td>\n",
              "      <td>1</td>\n",
              "      <td>0</td>\n",
              "      <td>0</td>\n",
              "      <td>0</td>\n",
              "      <td>0</td>\n",
              "      <td>0</td>\n",
              "      <td>0</td>\n",
              "      <td>0</td>\n",
              "      <td>0</td>\n",
              "    </tr>\n",
              "  </tbody>\n",
              "</table>\n",
              "</div>"
            ],
            "text/plain": [
              "   Loan Status  Current Loan Amount  ...  Purpose_Vacation  Purpose_Wedding\n",
              "0            1              12232.0  ...                 0                0\n",
              "1            1              25014.0  ...                 0                0\n",
              "2            1              16117.0  ...                 0                0\n",
              "3            1              11716.0  ...                 0                0\n",
              "4            1               9789.0  ...                 0                0\n",
              "\n",
              "[5 rows x 28 columns]"
            ]
          },
          "execution_count": 22,
          "metadata": {},
          "output_type": "execute_result"
        }
      ],
      "source": [
        "# Convert the target variable to numerical values and replace categorical features with dummy values.\n",
        "\n",
        "\n",
        "# Replace target variable levels\n",
        "loan_data[\"Loan Status\"] = loan_data[\"Loan Status\"].replace({'Fully Paid': 0, \n",
        "                                            'Charged Off': 1})\n",
        "\n",
        "# One-hot encode categorical variables\n",
        "loan_data = pd.get_dummies(data=loan_data, drop_first=True)\n",
        "\n",
        "loan_data.head()"
      ]
    },
    {
      "cell_type": "code",
      "execution_count": null,
      "metadata": {
        "colab": {
          "base_uri": "https://localhost:8080/"
        },
        "id": "UoYXgqT5YT9w",
        "outputId": "bf20adb6-b5a5-493b-d15f-304021420988"
      },
      "outputs": [
        {
          "data": {
            "text/plain": [
              "DebtConsolidation          70447\n",
              "Other                       7767\n",
              "HomeImprovements            5206\n",
              "BusinessLoan                1576\n",
              "CarPurchase                 1196\n",
              "MedicalBills                 955\n",
              "HomePurchase                 559\n",
              "Vacation                     536\n",
              "MajorPurchase                344\n",
              "Moving                       124\n",
              "Wedding                       99\n",
              "EducationalExpenses           92\n",
              "RenewableEnergyPurchase        9\n",
              "Name: Purpose, dtype: int64"
            ]
          },
          "execution_count": 23,
          "metadata": {},
          "output_type": "execute_result"
        }
      ],
      "source": [
        "loan_data_cat.Purpose.value_counts()"
      ]
    },
    {
      "cell_type": "code",
      "execution_count": null,
      "metadata": {
        "id": "pqPevfjJNNqI"
      },
      "outputs": [],
      "source": [
        "# from sklearn.preprocessing import OneHotEncoder\n",
        "# cat_encoder = OneHotEncoder()\n",
        "# loan_cat = cat_encoder.fit_transform(loan_data_cat)\n",
        "# print(loan_cat.toarray().shape)\n",
        "# print(loan_cat)\n"
      ]
    },
    {
      "cell_type": "code",
      "execution_count": null,
      "metadata": {
        "id": "wCqPznhYwHkw"
      },
      "outputs": [],
      "source": [
        "# # Fit and predict a Logistic Regression on loans_dti and evaluate the trained model's accuracy score.\n",
        "\n",
        "# from sklearn.preprocessing import StandardScaler\n",
        "# scalar = StandardScaler()\n",
        "\n",
        "# loans_dti_01 = pd.DataFrame(data=scalar.fit_transform(loans_imp_iterDF), columns=loans_imp_iterDF.columns.to_list())\n",
        "\n",
        "# loans_dti_02 = pd.get_dummies(loan_data_cat)\n",
        "\n",
        "# loans_dti = pd.concat([loans_dti_01, loans_dti_02], axis=1)\n",
        "# loans_dti.head()"
      ]
    },
    {
      "cell_type": "code",
      "execution_count": null,
      "metadata": {
        "colab": {
          "base_uri": "https://localhost:8080/"
        },
        "id": "bkH9lJuLxbY9",
        "outputId": "c2a69dc4-87d7-4341-99d7-2a0a131dc12d"
      },
      "outputs": [
        {
          "name": "stdout",
          "output_type": "stream",
          "text": [
            "0.7179169947137555\n"
          ]
        }
      ],
      "source": [
        "# Create X matrix and y array\n",
        "X = loan_data.drop(\"Loan Status\", axis=1)\n",
        "y = loan_data[\"Loan Status\"]\n",
        "\n",
        "# Train/test split\n",
        "X_train, X_test, y_train, y_test = train_test_split(X, y, test_size=0.3, random_state=123)\n",
        "\n",
        "# Instantiate\n",
        "logistic_dti = LogisticRegression()\n",
        "\n",
        "# Fit\n",
        "logistic_dti.fit(X_train, y_train)\n",
        "\n",
        "# Predict and print accuracy\n",
        "print(accuracy_score(y_true=y_test, y_pred=logistic_dti.predict(X_test)))"
      ]
    },
    {
      "cell_type": "markdown",
      "metadata": {
        "id": "HF3nso2Sx1mu"
      },
      "source": [
        "# Ensemble learning techniques\n",
        "* Bootstrap Aggregation\n",
        "* Boosting\n",
        "* Model stacking"
      ]
    },
    {
      "cell_type": "markdown",
      "metadata": {
        "id": "jj6D7O52RZNr"
      },
      "source": [
        "# Bagging (Bootstrap aggregation)\n",
        "* Bootstrapped samples\n",
        "  * Subset selected with replacement\n",
        "  * Same row of data may be chosen\n",
        "* Model built for each sample\n",
        "* Average the output\n",
        "* Reduces variance\n",
        "\n",
        "![](https://drive.google.com/uc?id=1MGWNBQw-7CJsGZLa-efl0e7dlDrOziK5)\n",
        "\n"
      ]
    },
    {
      "cell_type": "markdown",
      "metadata": {
        "id": "qJVXnBPaSlup"
      },
      "source": [
        "#Boosting\n",
        "* Multiple models built sequentially\n",
        "* Incorrect predictions are weighted\n",
        "* Reduces bias\n",
        "\n",
        "![](https://drive.google.com/uc?id=1vvRZ6pQVLl1VGt6Bt9Wuw6uDDYRRqnkf)"
      ]
    },
    {
      "cell_type": "markdown",
      "metadata": {
        "id": "NcHv-iHUUbHB"
      },
      "source": [
        "# Model stacking\n",
        "* Model 1 predictions\n",
        "* Model 2 predictions...\n",
        "* Model N predictions\n",
        "* Stack for highest accuracy model\n",
        "  * Uses base model (Model N) predictions\n",
        "as input to 2nd level model\n",
        "\n",
        "![](https://drive.google.com/uc?id=1YGbg7FRZzl80ZsNXc9G2JqBJM5z6l_HT)"
      ]
    },
    {
      "cell_type": "markdown",
      "metadata": {
        "id": "w51VwRM8aI8u"
      },
      "source": [
        "\n",
        "#Vecstack package\n",
        "https://towardsdatascience.com/automate-stacking-in-python-fc3e7834772e\n",
        "\n",
        "```\n",
        "# import modules\n",
        "\n",
        "from sklearn.ensemble import BaggingClassifier\n",
        "from sklearn.ensemble import AdaBoostClassifier\n",
        "from xgboost import XGBClassifier\n",
        "from vecstack import stacking\n",
        "\n",
        "# Create list: stacked_models\n",
        "\n",
        "stacked_models = [BaggingClassifier(n_estimators=25, random_state=123), AdaBoostClassifier(n_estimators=25, random_state=123)]\n",
        "\n",
        "# Stack the models: stack_train, stack_test\n",
        "\n",
        "stack_train, stack_test = stacking(stacked_models, X_train, y_train, X_test, regression=False, mode='oof_pred_bag',\n",
        "needs_proba=False, metric=accuracy_score, n_folds=4, stratified=True, shuffle=True, random_state=0, verbose=2)\n",
        "\n",
        "# Initialize and fit 2nd level model\n",
        "\n",
        "final_model = XGBClassifier(random_state=123, n_jobs=-1, learning_rate=0.1, n_estimators=10, max_depth=3)\n",
        "final_model_fit = final_model.fit(stack_train, y_train)\n",
        "\n",
        "# Predict: stacked_pred\n",
        "\n",
        "stacked_pred = final_model.predict(stack_test)\n",
        "\n",
        "# Final prediction score\n",
        "\n",
        "print('Final prediction score: [%.8f]' % accuracy_score(y_test, stacked_pred))\n",
        "```\n",
        "\n"
      ]
    },
    {
      "cell_type": "markdown",
      "metadata": {
        "id": "8Efj11E5aI6-"
      },
      "source": [
        "\n",
        "\n",
        "# Ensemble functions\n",
        "\n",
        "\n",
        "```\n",
        "Bootstrap aggregation              sklearn.ensemble.BaggingClassifier()\n",
        "Boosting                           sklearn.ensemble.AdaBoostClassifier()\n",
        "XGBoost                            xgboost.XGBClassifier()\n",
        "```\n",
        "\n"
      ]
    },
    {
      "cell_type": "markdown",
      "metadata": {
        "id": "Ehuf-FxnaI5Z"
      },
      "source": [
        "# Bagging vs boosting\n",
        "![](https://drive.google.com/uc?id=1ccanJOBQvME2HfQ5x0hu7b2MA069SUW-)"
      ]
    },
    {
      "cell_type": "markdown",
      "metadata": {
        "id": "8DyaYx2YaI2B"
      },
      "source": [
        "# Ensemble techniques\n",
        "\n",
        "* Boosting methods decrease model bias which, at the same time, helps increase variance to ,nd that sweet spot for best model generalization.\n",
        "\n",
        "* Boosting decreases model bias, which may or may not increase the predictive abilities of a classifier.\n",
        "\n",
        "* Bagging decreases model variance.\n",
        "\n",
        "* Model stacking takes the predictions from individual models and combines them to create a higher accuracy model."
      ]
    },
    {
      "cell_type": "markdown",
      "metadata": {
        "id": "4aUORwSNVaRp"
      },
      "source": [
        "# Bootstrap aggregation (bagging)\n",
        "In the last lesson, you got a small taste of classification models by applying logistic regression on data with engineered features. In machine learning interviews, it's sometimes worthwhile to know about ensemble models since they combine weak learners to create a strong learner that improves model accuracy.\n",
        "\n",
        "In this exercise, you will start off by applying a bagging classifier which uses a sampling technique, with replacement, to maintain randomness and reduce overfitting. You will be using functions from the sklearn.ensemble module which you saw in the video exercise"
      ]
    },
    {
      "cell_type": "code",
      "execution_count": null,
      "metadata": {
        "id": "MPpeben9Z4v4"
      },
      "outputs": [],
      "source": [
        "# Instantiate bootstrap aggregation model\n",
        "# Instantiate a bagging classifier by calling the appropriate function as introduced in the video exercise and set the appropriate argument for 50 estimators.\n",
        "from sklearn.ensemble import BaggingClassifier\n",
        "bagged_model = BaggingClassifier(n_estimators=50, random_state=123)"
      ]
    },
    {
      "cell_type": "code",
      "execution_count": null,
      "metadata": {
        "id": "Nmx66-VvcSUK"
      },
      "outputs": [],
      "source": [
        "# Fit\n",
        "bgm = bagged_model.fit(X_train, y_train)"
      ]
    },
    {
      "cell_type": "code",
      "execution_count": null,
      "metadata": {
        "colab": {
          "base_uri": "https://localhost:8080/"
        },
        "id": "Rkn7XrzcsRsW",
        "outputId": "b47cb834-bdd3-4262-ebc2-acdeadea6e4c"
      },
      "outputs": [
        {
          "name": "stdout",
          "output_type": "stream",
          "text": [
            "0.7199040227945863\n"
          ]
        }
      ],
      "source": [
        "# Predict\n",
        "bagged_pred = bgm.predict(X_test)\n",
        "\n",
        "# Print accuracy score\n",
        "print(accuracy_score(y_test, bagged_pred))"
      ]
    },
    {
      "cell_type": "markdown",
      "metadata": {
        "id": "X0cTs5nIsuM1"
      },
      "source": [
        "# Boosting\n",
        "In the last exercise, you started off with ensemble techniques by using bagging. In a machine learning interview, you might be prompted to try out or discuss more than one ensemble technique.\n",
        "\n",
        "Here, you'll practice Boosting which uses all data to train each learner, but instances that were misclassified by the previous learners are given more weight so that subsequent learners give more focus to them during training. This results in a model with decreased bias."
      ]
    },
    {
      "cell_type": "code",
      "execution_count": null,
      "metadata": {
        "id": "yfHsVJ5Ss6Tk"
      },
      "outputs": [],
      "source": [
        "# Instantiate an AdaBoost boosting classifier and set the appropriate argument to generate 50 estimators\n",
        "from sklearn.ensemble import AdaBoostClassifier\n",
        "boosted_model = AdaBoostClassifier(n_estimators=50, random_state=123)"
      ]
    },
    {
      "cell_type": "code",
      "execution_count": null,
      "metadata": {
        "id": "khQu3uIytwQk"
      },
      "outputs": [],
      "source": [
        "# Fit\n",
        "boosted_model_fit = boosted_model.fit(X_train, y_train)"
      ]
    },
    {
      "cell_type": "code",
      "execution_count": null,
      "metadata": {
        "id": "VT5DJhdWu0pS"
      },
      "outputs": [],
      "source": [
        "# Predict\n",
        "boosted_pred = boosted_model_fit.predict(X_test)"
      ]
    },
    {
      "cell_type": "code",
      "execution_count": null,
      "metadata": {
        "colab": {
          "base_uri": "https://localhost:8080/"
        },
        "id": "cB5NHmH-vBLN",
        "outputId": "4e2f0133-8e17-4f78-af35-a6f018814f92"
      },
      "outputs": [
        {
          "name": "stdout",
          "output_type": "stream",
          "text": [
            "0.7311888426498706\n"
          ]
        }
      ],
      "source": [
        "# Print model accuracy\n",
        "print(accuracy_score(y_test, boosted_pred))"
      ]
    },
    {
      "cell_type": "markdown",
      "metadata": {
        "id": "cZ5ZOx7jvKpk"
      },
      "source": [
        "# XG Boost\n",
        "XGBoost is an optimized distributed gradient boosting package that is \"taking over the world!\".\n",
        "\n",
        "The argument learning_rate=0.1 specifies the size of the step to take in each iteration while searching for the global minimum and max_depth controls the size (depth) of the decision trees, here 3."
      ]
    },
    {
      "cell_type": "code",
      "execution_count": null,
      "metadata": {
        "id": "J8J0pQFgvZgs"
      },
      "outputs": [],
      "source": [
        "# Instantiate an XGBoost boosting classifier and set the appropriate argument to generate 10 estimators.\n",
        "from xgboost import XGBClassifier\n",
        "\n",
        "# Instantiate\n",
        "xgb = XGBClassifier(n_estimators=10, random_state=123, learning_rate=0.1, max_depth=3)\n"
      ]
    },
    {
      "cell_type": "code",
      "execution_count": null,
      "metadata": {
        "id": "Ui92w0Uhv7Ej"
      },
      "outputs": [],
      "source": [
        "# Fit\n",
        "xgb = xgb.fit(X_train, y_train)"
      ]
    },
    {
      "cell_type": "code",
      "execution_count": null,
      "metadata": {
        "id": "Pjn_x7PbwVqL"
      },
      "outputs": [],
      "source": [
        "# Predict\n",
        "xgb_pred = xgb.predict(X_test)"
      ]
    },
    {
      "cell_type": "code",
      "execution_count": null,
      "metadata": {
        "colab": {
          "base_uri": "https://localhost:8080/"
        },
        "id": "LWUux5ROweDk",
        "outputId": "db4b8a0a-bdd8-4f82-fe5e-2a4ef10f3d24"
      },
      "outputs": [
        {
          "name": "stdout",
          "output_type": "stream",
          "text": [
            "Final prediction score: [0.72646496]\n"
          ]
        }
      ],
      "source": [
        "# Print accuracy score\n",
        "print('Final prediction score: [%.8f]' %accuracy_score(y_test, xgb_pred))"
      ]
    },
    {
      "cell_type": "code",
      "execution_count": null,
      "metadata": {
        "id": "KADfboS2Ui-i"
      },
      "outputs": [],
      "source": [
        ""
      ]
    },
    {
      "cell_type": "code",
      "execution_count": null,
      "metadata": {
        "id": "l_R24gTtUReb"
      },
      "outputs": [],
      "source": [
        "from sklearn.model_selection import GridSearchCV\n",
        "from sklearn.model_selection import StratifiedKFold\n",
        "model = XGBClassifier()\n",
        "n_estimators = range(16, 40, 2)\n",
        "param_grid = dict(n_estimators=n_estimators)\n",
        "kfold = StratifiedKFold(n_splits=10, shuffle=True, random_state=7)\n",
        "grid_search = GridSearchCV(model, param_grid, scoring=\"neg_log_loss\", n_jobs=-1, cv=kfold)\n",
        "\n",
        "grid_result = grid_search.fit(X_train, y_train)\n"
      ]
    },
    {
      "cell_type": "code",
      "execution_count": null,
      "metadata": {
        "colab": {
          "base_uri": "https://localhost:8080/"
        },
        "id": "zAma0QLqa0qP",
        "outputId": "2426c12f-e3bd-41c9-d2df-9fd07d03a76b"
      },
      "outputs": [
        {
          "name": "stdout",
          "output_type": "stream",
          "text": [
            "Best: -0.514729 using {'n_estimators': 38}\n",
            "-0.536694 (0.002002) with: {'n_estimators': 16}\n",
            "-0.532198 (0.002097) with: {'n_estimators': 18}\n",
            "-0.528656 (0.002116) with: {'n_estimators': 20}\n",
            "-0.525725 (0.002178) with: {'n_estimators': 22}\n",
            "-0.523387 (0.002144) with: {'n_estimators': 24}\n",
            "-0.521369 (0.002194) with: {'n_estimators': 26}\n",
            "-0.519763 (0.002186) with: {'n_estimators': 28}\n",
            "-0.518364 (0.002177) with: {'n_estimators': 30}\n",
            "-0.517239 (0.002173) with: {'n_estimators': 32}\n",
            "-0.516274 (0.002166) with: {'n_estimators': 34}\n",
            "-0.515431 (0.002125) with: {'n_estimators': 36}\n",
            "-0.514729 (0.002090) with: {'n_estimators': 38}\n"
          ]
        }
      ],
      "source": [
        "# summarize results\n",
        "print(\"Best: %f using %s\" % (grid_result.best_score_, grid_result.best_params_))\n",
        "means = grid_result.cv_results_['mean_test_score']\n",
        "stds = grid_result.cv_results_['std_test_score']\n",
        "params = grid_result.cv_results_['params']\n",
        "for mean, stdev, param in zip(means, stds, params):\n",
        "\tprint(\"%f (%f) with: %r\" % (mean, stdev, param))"
      ]
    },
    {
      "cell_type": "code",
      "execution_count": null,
      "metadata": {
        "colab": {
          "base_uri": "https://localhost:8080/",
          "height": 351
        },
        "id": "PT4_qdShbQPM",
        "outputId": "e5173c80-b5f2-479e-e938-3e25cdb09d0b"
      },
      "outputs": [
        {
          "name": "stdout",
          "output_type": "stream",
          "text": [
            "The results may vary given the stochastic nature of the algorithm or evaluation procedure,  \n",
            " or differences in numerical precision. We should consider running the example a few times and compare the average outcome.\n",
            "\n"
          ]
        },
        {
          "data": {
            "image/png": "[encoded data removed]",
            "text/plain": [
              "<Figure size 432x288 with 1 Axes>"
            ]
          },
          "metadata": {},
          "output_type": "display_data"
        }
      ],
      "source": [
        "from matplotlib import pyplot \n",
        "pyplot.errorbar(n_estimators, means, yerr=stds)\n",
        "pyplot.title(\"XGBoost n_estimators vs Log Loss\")\n",
        "pyplot.xlabel('n_estimators')\n",
        "pyplot.ylabel('Log Loss')\n",
        "pyplot.savefig('n_estimators.png')\n",
        "print('The results may vary given the stochastic nature of the algorithm or evaluation procedure, \\\n",
        " \\n or differences in numerical precision. We should consider running the example a few times and compare the average outcome.\\n')"
      ]
    },
    {
      "cell_type": "code",
      "execution_count": null,
      "metadata": {
        "colab": {
          "base_uri": "https://localhost:8080/"
        },
        "id": "uj7MFu5UwI-N",
        "outputId": "90570da1-d54d-4af0-a287-0b9410b4c401"
      },
      "outputs": [
        {
          "name": "stdout",
          "output_type": "stream",
          "text": [
            "Final prediction score: [0.73047651]\n"
          ]
        }
      ],
      "source": [
        "print('Final prediction score: [%.8f]' %accuracy_score(y_test, grid_search.predict(X_test)))"
      ]
    },
    {
      "cell_type": "markdown",
      "metadata": {
        "id": "GHvIYIrfwiBk"
      },
      "source": [
        "# Stacked Generalization\n",
        "Stacked Generalization or “Stacking” for short is an ensemble machine learning algorithm.\n",
        "\n",
        "It involves combining the predictions from multiple machine learning models on the same dataset, like bagging and boosting.\n",
        "\n",
        "# Stacking addresses the question:\n",
        "\n",
        "Given multiple machine learning models that are skillful on a problem, but in different ways, how do you choose which model to use (trust)?\n",
        "The approach to this question is to use another machine learning model that learns when to use or trust each model in the ensemble.\n",
        "\n",
        "Unlike bagging, in stacking, the models are typically different (e.g. not all decision trees) and fit on the same dataset (e.g. instead of samples of the training dataset).\n",
        "Unlike boosting, in stacking, a single model is used to learn how to best combine the predictions from the contributing models (e.g. instead of a sequence of models that correct the predictions of prior models)."
      ]
    },
    {
      "cell_type": "markdown",
      "metadata": {
        "id": "xF4dQfIb2XW4"
      },
      "source": [
        "# Architecture of a stacking model\n",
        "\n",
        "The architecture of a stacking model involves two or more base models, often referred to as level-0 models, and a meta-model that combines the predictions of the base models, referred to as a level-1 model.\n",
        "\n",
        "* **Level-0 Models (Base-Models):** Models fit on the training data and whose predictions are compiled. Base models use a diverse range of models that make different assumptions about the prediction task.\n",
        "* **Level-1 Model (Meta-Model):** Model that learns how to best combine the predictions of the base models."
      ]
    },
    {
      "cell_type": "markdown",
      "metadata": {
        "id": "l0X50vim2xK2"
      },
      "source": [
        "### Stacking Model- Step 1\n",
        "The meta-model is trained on the predictions made by base models on out-of-sample data. That is, data not used to train the base models is fed to the base models, predictions are made, and these predictions, along with the expected outputs, provide the input and output pairs of the training dataset used to fit the meta-model.\n",
        "\n",
        "The outputs from the base models used as input to the meta-model may be real value in the case of regression, and probability values, probability like values, or class labels in the case of classification."
      ]
    },
    {
      "cell_type": "markdown",
      "metadata": {
        "id": "2rVSuqjV3bic"
      },
      "source": [
        "### Stacking Model- Step 2\n",
        "\n",
        "The most common approach to preparing the training dataset for the meta-model is via **k-fold cross-validation** of the base models, where the **out-of-fold predictions** are used as the basis for the training dataset for the meta-model."
      ]
    },
    {
      "cell_type": "markdown",
      "metadata": {
        "id": "WDmDvimv3d_v"
      },
      "source": [
        "### Stacking Model- Step 3 \n",
        "\n",
        "Once the training dataset is prepared for the meta-model, the meta-model can be trained in isolation on this dataset, and the base-models can be trained on the entire original training dataset."
      ]
    },
    {
      "cell_type": "markdown",
      "metadata": {
        "id": "Axd_MqGB4cuc"
      },
      "source": [
        "# Stacking for Classification\n"
      ]
    },
    {
      "cell_type": "markdown",
      "metadata": {
        "id": "O_o83pDT5oYp"
      },
      "source": [
        "### 1- Get a list of models to evaluateEach model will be evaluated using repeated k-fold cross-validation.\n",
        "\n"
      ]
    },
    {
      "cell_type": "code",
      "execution_count": null,
      "metadata": {
        "id": "eTUMrS2L5jVy"
      },
      "outputs": [],
      "source": [
        "def get_models():\n",
        "\tmodels = dict()\n",
        "\tmodels['lr'] = LogisticRegression()\n",
        "\tmodels['knn'] = KNeighborsClassifier()\n",
        "\tmodels['cart'] = DecisionTreeClassifier()\n",
        "\tmodels['svm'] = SVC()\n",
        "\tmodels['bayes'] = GaussianNB()\n",
        "\treturn models"
      ]
    },
    {
      "cell_type": "markdown",
      "metadata": {
        "id": "JaHk6Nta5jS8"
      },
      "source": [
        "### 2- Evaluation of the models: The evaluate_model() function below takes a model instance and returns a list of scores from three repeats of stratified 10-fold cross-validation."
      ]
    },
    {
      "cell_type": "code",
      "execution_count": null,
      "metadata": {
        "id": "QK20ygjJ5jQI"
      },
      "outputs": [],
      "source": [
        "# evaluate a given model using cross-validation\n",
        "def evaluate_model(model, X, y):\n",
        "\tcv = RepeatedStratifiedKFold(n_splits=10, n_repeats=3, random_state=1)\n",
        "\tscores = cross_val_score(model, X, y, scoring='accuracy', cv=cv, n_jobs=-1, error_score='raise')\n",
        "\treturn scores\n",
        "  "
      ]
    },
    {
      "cell_type": "markdown",
      "metadata": {
        "id": "jlQ7G58c8g9H"
      },
      "source": [
        "# Application of a Stacking Model:"
      ]
    },
    {
      "cell_type": "code",
      "execution_count": null,
      "metadata": {
        "colab": {
          "base_uri": "https://localhost:8080/",
          "height": 356
        },
        "id": "bXE2t4_Z7-ss",
        "outputId": "9aef6c33-2f8f-49ab-ba05-25a1097ca028"
      },
      "outputs": [
        {
          "name": "stdout",
          "output_type": "stream",
          "text": [
            ">lr 0.716 (0.000)\n",
            ">knn 0.667 (0.004)\n",
            ">cart 0.648 (0.005)\n",
            ">svm 0.716 (0.000)\n",
            ">bayes 0.428 (0.004)\n"
          ]
        },
        {
          "data": {
            "image/png": "[encoded data removed]",
            "text/plain": [
              "<Figure size 432x288 with 1 Axes>"
            ]
          },
          "metadata": {},
          "output_type": "display_data"
        }
      ],
      "source": [
        "# compare standalone models for binary classification\n",
        "from numpy import mean\n",
        "from numpy import std\n",
        "from sklearn.datasets import make_classification\n",
        "from sklearn.model_selection import cross_val_score\n",
        "from sklearn.model_selection import RepeatedStratifiedKFold\n",
        "from sklearn.linear_model import LogisticRegression\n",
        "from sklearn.neighbors import KNeighborsClassifier\n",
        "from sklearn.tree import DecisionTreeClassifier\n",
        "from sklearn.svm import SVC\n",
        "from sklearn.naive_bayes import GaussianNB\n",
        "from matplotlib import pyplot\n",
        "\n",
        "# get the dataset\n",
        "# use the previous X_train and y_train\n",
        "\n",
        "# get a list of models to evaluate\n",
        "def get_models():\n",
        "\tmodels = dict()\n",
        "\tmodels['lr'] = LogisticRegression()\n",
        "\tmodels['knn'] = KNeighborsClassifier()\n",
        "\tmodels['cart'] = DecisionTreeClassifier()\n",
        "\tmodels['svm'] = SVC()\n",
        "\tmodels['bayes'] = GaussianNB()\n",
        "\treturn models\n",
        "\n",
        "# evaluate a given model using cross-validation\n",
        "def evaluate_model(model, X, y):\n",
        "\tcv = RepeatedStratifiedKFold(n_splits=10, n_repeats=3, random_state=1)\n",
        "\tscores = cross_val_score(model, X, y, scoring='accuracy', cv=cv, n_jobs=-1, error_score='raise')\n",
        "\treturn scores\n",
        "\n",
        "\n",
        "models = get_models()\n",
        "\n",
        "# evaluate the models and store results\n",
        "results, names = list(), list()\n",
        "\n",
        "for name, model in models.items():\n",
        "\tscores = evaluate_model(model, X_train, y_train)\n",
        "\tresults.append(scores)\n",
        "\tnames.append(name)\n",
        "\tprint('>%s %.3f (%.3f)' % (name, mean(scores), std(scores)))\n",
        "# plot model performance for comparison\n",
        "pyplot.boxplot(results, labels=names, showmeans=True)\n",
        "pyplot.show()"
      ]
    },
    {
      "cell_type": "markdown",
      "metadata": {
        "id": "6Tr2euN988TT"
      },
      "source": [
        "A box-and-whisker plot is then created comparing the distribution accuracy scores for each model, allowing us to clearly see that Lr and SVM perform better on average than KNN, CART, and Bayes."
      ]
    },
    {
      "cell_type": "markdown",
      "metadata": {
        "id": "1NBGtOF-UTYh"
      },
      "source": [
        "Next, we can try to combine these five models into a single ensemble model using stacking.\n",
        "\n",
        "We can use a logistic regression model to learn how to best combine the predictions from each of the separate five models.\n",
        "\n",
        "The get_stacking() function below defines the StackingClassifier model by first defining a list of tuples for the five base models, then defining the logistic regression meta-model to combine the predictions from the base models using 5-fold cross-validation."
      ]
    },
    {
      "cell_type": "code",
      "execution_count": 66,
      "metadata": {
        "colab": {
          "base_uri": "https://localhost:8080/",
          "height": 371
        },
        "id": "woReh12mfkcx",
        "outputId": "844724ee-af5f-49ba-d306-ebe98f184acd"
      },
      "outputs": [
        {
          "output_type": "stream",
          "name": "stdout",
          "text": [
            ">lr 0.717 (0.000)\n",
            ">knn 0.667 (0.003)\n",
            ">cart 0.652 (0.003)\n",
            ">svm 0.717 (0.000)\n",
            ">bayes 0.428 (0.003)\n",
            ">stacking 0.641 (0.072)\n"
          ]
        },
        {
          "output_type": "display_data",
          "data": {
            "image/png": "[encoded data removed]",
            "text/plain": [
              "<Figure size 432x288 with 1 Axes>"
            ]
          },
          "metadata": {
            "needs_background": "light"
          }
        }
      ],
      "source": [
        "from sklearn.ensemble import StackingClassifier\n",
        "\n",
        "def get_stacking():\n",
        "\n",
        "\t# define the base models\n",
        "\tlevel0 = list()\n",
        "\tlevel0.append(('lr', LogisticRegression()))\n",
        "\tlevel0.append(('knn', KNeighborsClassifier()))\n",
        "\tlevel0.append(('cart', DecisionTreeClassifier()))\n",
        "\tlevel0.append(('svm', SVC()))\n",
        "\tlevel0.append(('bayes', GaussianNB()))\n",
        " \n",
        "\t# define meta learner model\n",
        "\tlevel1 = LogisticRegression()\n",
        " \n",
        "\t# define the stacking ensemble\n",
        "\tmodel = StackingClassifier(estimators=level0, final_estimator=level1, cv=5)\n",
        "\treturn model\n",
        "\n",
        "\n",
        "# get a list of models to evaluate\n",
        "def get_models():\n",
        "\tmodels = dict()\n",
        "\tmodels['lr'] = LogisticRegression()\n",
        "\tmodels['knn'] = KNeighborsClassifier()\n",
        "\tmodels['cart'] = DecisionTreeClassifier()\n",
        "\tmodels['svm'] = SVC()\n",
        "\tmodels['bayes'] = GaussianNB()\n",
        "\tmodels['stacking'] = get_stacking()\n",
        "\treturn models\n",
        "\n",
        "# evaluate a give model using cross-validation\n",
        "def evaluate_model(model, X, y):\n",
        "\tcv = RepeatedStratifiedKFold(n_splits=5, n_repeats=2, random_state=1)\n",
        "\tscores = cross_val_score(model, X, y, scoring='accuracy', cv=cv, n_jobs=-1, error_score='raise')\n",
        "\treturn scores\n",
        "\n",
        "# get the models to evaluate\n",
        "models = get_models()\n",
        "\n",
        "# evaluate the models and store results\n",
        "results, names = list(), list()\n",
        "for name, model in models.items():\n",
        "\tscores = evaluate_model(model, X, y)\n",
        "\tresults.append(scores)\n",
        "\tnames.append(name)\n",
        "\tprint('>%s %.3f (%.3f)' % (name, mean(scores), std(scores)))\n",
        " \n",
        "# plot model performance for comparison\n",
        "pyplot.boxplot(results, labels=names, showmeans=True)\n",
        "pyplot.show()"
      ]
    },
    {
      "cell_type": "markdown",
      "metadata": {
        "id": "G5ZZEw_4juj_"
      },
      "source": [
        "# Prediction\n",
        "We can fit and use it to make predictions on the test data just like any other model."
      ]
    },
    {
      "cell_type": "code",
      "execution_count": 67,
      "metadata": {
        "id": "QRbXYQ8f310l",
        "colab": {
          "base_uri": "https://localhost:8080/"
        },
        "outputId": "66d2cb4c-a74b-4b1f-87b5-d91c15e1875e"
      },
      "outputs": [
        {
          "output_type": "stream",
          "name": "stdout",
          "text": [
            "0.7187792899186444\n"
          ]
        }
      ],
      "source": [
        "# define the base models\n",
        "level0 = list()\n",
        "level0.append(('lr', LogisticRegression()))\n",
        "level0.append(('knn', KNeighborsClassifier()))\n",
        "level0.append(('cart', DecisionTreeClassifier()))\n",
        "level0.append(('svm', SVC()))\n",
        "level0.append(('bayes', GaussianNB()))\n",
        "\n",
        "# define meta learner model\n",
        "level1 = LogisticRegression()\n",
        "\n",
        "stack_model = StackingClassifier(estimators=level0, final_estimator=level1, cv=5)\n",
        "stack_model.fit(X_train, y_train)\n",
        "# make a prediction for one example\n",
        "y_pred = stack_model.predict(X_test)\n",
        "\n",
        "print(accuracy_score(y_test, y_pred))"
      ]
    }
  ],
  "metadata": {
    "colab": {
      "collapsed_sections": [],
      "name": "ch_02.ipynb",
      "toc_visible": true,
      "provenance": [],
      "mount_file_id": "1ew_XBcNKImEZIqzku33Hf0PUs8WAibkL",
      "authorship_tag": "ABX9TyNyfvXfB2/yLYnzaTtuAX0x",
      "include_colab_link": true
    },
    "kernelspec": {
      "display_name": "Python 3",
      "name": "python3"
    },
    "language_info": {
      "name": "python"
    }
  },
  "nbformat": 4,
  "nbformat_minor": 0
}