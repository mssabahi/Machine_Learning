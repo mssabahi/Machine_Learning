{
  "nbformat": 4,
  "nbformat_minor": 5,
  "metadata": {
    "kernelspec": {
      "display_name": "Python 3",
      "language": "python",
      "name": "python3"
    },
    "language_info": {
      "codemirror_mode": {
        "name": "ipython",
        "version": 3
      },
      "file_extension": ".py",
      "mimetype": "text/x-python",
      "name": "python",
      "nbconvert_exporter": "python",
      "pygments_lexer": "ipython3",
      "version": "3.9.1"
    },
    "colab": {
      "name": "mnist.ipynb",
      "provenance": [],
      "toc_visible": true
    }
  },
  "cells": [
    {
      "cell_type": "markdown",
      "metadata": {
        "id": "going-behalf"
      },
      "source": [
        "#### The MNIST dataset is a set of 70,000 small images of digits handwritten by high school students and employees of the US Census Bureau. Each image is labeled with the digit it represents. This set has been studied so much that it is often called the “Hello World” of Machine Learning.\n",
        "\n",
        "#### There are 70,000 images, and each image has 784 features. This is because each image is 28×28 pixels, and each feature simply represents one pixel’s intensity, from 0 (white) to 255 (black)."
      ],
      "id": "going-behalf"
    },
    {
      "cell_type": "code",
      "metadata": {
        "id": "informational-trainer"
      },
      "source": [
        "# Common imports\n",
        "import numpy as np\n",
        "import os\n",
        "\n",
        "# to make this notebook's output stable across runs\n",
        "np.random.seed(42)\n",
        "\n",
        "# To plot pretty figures\n",
        "%matplotlib inline\n",
        "import matplotlib as mpl\n",
        "import matplotlib.pyplot as plt\n",
        "mpl.rc('axes', labelsize=14)\n",
        "mpl.rc('xtick', labelsize=12)\n",
        "mpl.rc('ytick', labelsize=12)\n",
        "\n",
        "# Where to save the figures\n",
        "PROJECT_ROOT_DIR = \".\"\n",
        "CHAPTER_ID = \"classification\"\n",
        "\n",
        "IMAGES_PATH = os.path.join(PROJECT_ROOT_DIR, \"images\", CHAPTER_ID)\n",
        "os.makedirs(IMAGES_PATH, exist_ok=True)\n",
        "\n",
        "def save_fig(fig_id, tight_layout=True):\n",
        "    path = os.path.join(PROJECT_ROOT_DIR, \"images\", CHAPTER_ID, fig_id + \".png\")\n",
        "    print(\"Saving figure\", fig_id)\n",
        "    if tight_layout:\n",
        "        plt.tight_layout()\n",
        "    plt.savefig(path, format='png', dpi=300)\n",
        "import warnings\n",
        "warnings.filterwarnings('ignore')"
      ],
      "id": "informational-trainer",
      "execution_count": 1,
      "outputs": []
    },
    {
      "cell_type": "markdown",
      "metadata": {
        "id": "structural-conclusion"
      },
      "source": [
        "### Loading the dataset from  sickit learn "
      ],
      "id": "structural-conclusion"
    },
    {
      "cell_type": "code",
      "metadata": {
        "colab": {
          "base_uri": "https://localhost:8080/"
        },
        "id": "sunset-architecture",
        "outputId": "3294c925-72fb-4778-f599-48cef4c7b2e3"
      },
      "source": [
        "from sklearn.datasets import fetch_openml\n",
        "mnist = fetch_openml('mnist_784', version=1)\n",
        "mnist.keys()"
      ],
      "id": "sunset-architecture",
      "execution_count": 2,
      "outputs": [
        {
          "output_type": "execute_result",
          "data": {
            "text/plain": [
              "dict_keys(['data', 'target', 'frame', 'feature_names', 'target_names', 'DESCR', 'details', 'categories', 'url'])"
            ]
          },
          "metadata": {
            "tags": []
          },
          "execution_count": 2
        }
      ]
    },
    {
      "cell_type": "markdown",
      "metadata": {
        "id": "cordless-volunteer"
      },
      "source": [
        "### To change the target from text to integer"
      ],
      "id": "cordless-volunteer"
    },
    {
      "cell_type": "code",
      "metadata": {
        "id": "premier-python"
      },
      "source": [
        "mnist.target = mnist.target.astype(np.int8)"
      ],
      "id": "premier-python",
      "execution_count": 3,
      "outputs": []
    },
    {
      "cell_type": "code",
      "metadata": {
        "id": "electoral-homework"
      },
      "source": [
        "X, y = mnist['data'], mnist['target']"
      ],
      "id": "electoral-homework",
      "execution_count": 4,
      "outputs": []
    },
    {
      "cell_type": "code",
      "metadata": {
        "colab": {
          "base_uri": "https://localhost:8080/"
        },
        "id": "featured-central",
        "outputId": "e33f6894-e575-4369-f0d7-d3c501c78a75"
      },
      "source": [
        "X = np.array(X)\n",
        "y = np.array(y)\n",
        "print('dimension of X = {}'.format(X.shape))\n",
        "print('dimension of y = {}'.format(y.shape))"
      ],
      "id": "featured-central",
      "execution_count": 5,
      "outputs": [
        {
          "output_type": "stream",
          "text": [
            "dimension of X = (70000, 784)\n",
            "dimension of y = (70000,)\n"
          ],
          "name": "stdout"
        }
      ]
    },
    {
      "cell_type": "markdown",
      "metadata": {
        "id": "dietary-college"
      },
      "source": [
        "### Plot and arbitrary image number."
      ],
      "id": "dietary-college"
    },
    {
      "cell_type": "code",
      "metadata": {
        "colab": {
          "base_uri": "https://localhost:8080/",
          "height": 269
        },
        "id": "sonic-offering",
        "outputId": "a9498c78-fe91-478d-a822-26adcfc7d72e"
      },
      "source": [
        "import matplotlib as mpl\n",
        "import matplotlib.pyplot as plt\n",
        "some_digit = X[1500]\n",
        "some_digit_image = some_digit.reshape(28,28)\n",
        "\n",
        "plt.imshow(some_digit_image, cmap='binary')\n",
        "plt.show()"
      ],
      "id": "sonic-offering",
      "execution_count": 6,
      "outputs": [
        {
          "output_type": "display_data",
          "data": {
            "image/png": "[encoded data removed]",
            "text/plain": [
              "<Figure size 432x288 with 1 Axes>"
            ]
          },
          "metadata": {
            "tags": [],
            "needs_background": "light"
          }
        }
      ]
    },
    {
      "cell_type": "markdown",
      "metadata": {
        "id": "extensive-smith"
      },
      "source": [
        "### Lets check the value with respect to this image. It looks like 9"
      ],
      "id": "extensive-smith"
    },
    {
      "cell_type": "code",
      "metadata": {
        "colab": {
          "base_uri": "https://localhost:8080/"
        },
        "id": "polar-wonder",
        "outputId": "d577db89-29e1-48c9-b51d-c75cd524f6ab"
      },
      "source": [
        "y[1500]"
      ],
      "id": "polar-wonder",
      "execution_count": 7,
      "outputs": [
        {
          "output_type": "execute_result",
          "data": {
            "text/plain": [
              "9"
            ]
          },
          "metadata": {
            "tags": []
          },
          "execution_count": 7
        }
      ]
    },
    {
      "cell_type": "markdown",
      "metadata": {
        "id": "nonprofit-conversation"
      },
      "source": [
        "### Split the data into train and test"
      ],
      "id": "nonprofit-conversation"
    },
    {
      "cell_type": "markdown",
      "metadata": {
        "id": "experimental-rescue"
      },
      "source": [
        "### The training test is already shuffled for us ---> It guarantees that all cross validation folds will be similar."
      ],
      "id": "experimental-rescue"
    },
    {
      "cell_type": "markdown",
      "metadata": {
        "id": "qualified-universe"
      },
      "source": [
        "### In case the data is not shuffled, the following command is usful:"
      ],
      "id": "qualified-universe"
    },
    {
      "cell_type": "code",
      "metadata": {
        "id": "registered-manner"
      },
      "source": [
        "# import numpy as np\n",
        "# shuffle_index = np.random.permutation(60000)\n",
        "# X_train, y_train = X_train[shuffle_index], y_train[shuffle_index]    "
      ],
      "id": "registered-manner",
      "execution_count": 8,
      "outputs": []
    },
    {
      "cell_type": "code",
      "metadata": {
        "scrolled": true,
        "colab": {
          "base_uri": "https://localhost:8080/"
        },
        "id": "civilian-madonna",
        "outputId": "8ba53796-39ee-40a4-8c0b-83e21cd3fd91"
      },
      "source": [
        "np.random.permutation(60000)"
      ],
      "id": "civilian-madonna",
      "execution_count": 9,
      "outputs": [
        {
          "output_type": "execute_result",
          "data": {
            "text/plain": [
              "array([12628, 37730, 39991, ...,   860, 15795, 56422])"
            ]
          },
          "metadata": {
            "tags": []
          },
          "execution_count": 9
        }
      ]
    },
    {
      "cell_type": "code",
      "metadata": {
        "id": "homeless-workplace"
      },
      "source": [
        "X_train, X_test, y_train, y_test = X[:60000], X[60000:], y[:60000], y[60000:]"
      ],
      "id": "homeless-workplace",
      "execution_count": 10,
      "outputs": []
    },
    {
      "cell_type": "markdown",
      "metadata": {
        "id": "breathing-phoenix"
      },
      "source": [
        "### Traing a Binary Classifier"
      ],
      "id": "breathing-phoenix"
    },
    {
      "cell_type": "markdown",
      "metadata": {
        "id": "israeli-representative"
      },
      "source": [
        "Let’s simplify the problem for now and only try to identify one digit—for example,\n",
        "the number 9. This “5-detector” will be an example of a binary classifier, capable of\n",
        "distinguishing between just two classes, 9 and not-9."
      ],
      "id": "israeli-representative"
    },
    {
      "cell_type": "code",
      "metadata": {
        "id": "apparent-analysis"
      },
      "source": [
        "y_train_9 = (y_train == 9) # True for all 9s, False for all other digits.\n",
        "y_test_9 = (y_test == 9)"
      ],
      "id": "apparent-analysis",
      "execution_count": 11,
      "outputs": []
    },
    {
      "cell_type": "code",
      "metadata": {
        "colab": {
          "base_uri": "https://localhost:8080/"
        },
        "id": "italic-classroom",
        "outputId": "68161cda-42ea-43bc-8e95-142fcf56ab0f"
      },
      "source": [
        "y_test_9"
      ],
      "id": "italic-classroom",
      "execution_count": 12,
      "outputs": [
        {
          "output_type": "execute_result",
          "data": {
            "text/plain": [
              "array([False, False, False, ..., False, False, False])"
            ]
          },
          "metadata": {
            "tags": []
          },
          "execution_count": 12
        }
      ]
    },
    {
      "cell_type": "markdown",
      "metadata": {
        "id": "developmental-receiver"
      },
      "source": [
        "### SGDClassifier\n",
        "A good place to start is with a Stochastic\n",
        "Gradient Descent (SGD) classifier, using Scikit-Learn’s SGDClassifier class. This classifier\n",
        "has the advantage of being capable of handling very large datasets efficiently.\n",
        "This is in part because SGD deals with training instances independently, one at a time\n",
        "(which also makes SGD well suited for online learning), as we will see later."
      ],
      "id": "developmental-receiver"
    },
    {
      "cell_type": "code",
      "metadata": {
        "colab": {
          "base_uri": "https://localhost:8080/"
        },
        "id": "proved-equity",
        "outputId": "586d34cd-94ce-4bbb-a8e3-7dd6eff1eb88"
      },
      "source": [
        "from sklearn.linear_model import SGDClassifier\n",
        "sgd_clf = SGDClassifier(random_state=42)\n",
        "sgd_clf.fit(X_train, y_train_9)"
      ],
      "id": "proved-equity",
      "execution_count": 13,
      "outputs": [
        {
          "output_type": "execute_result",
          "data": {
            "text/plain": [
              "SGDClassifier(alpha=0.0001, average=False, class_weight=None,\n",
              "              early_stopping=False, epsilon=0.1, eta0=0.0, fit_intercept=True,\n",
              "              l1_ratio=0.15, learning_rate='optimal', loss='hinge',\n",
              "              max_iter=1000, n_iter_no_change=5, n_jobs=None, penalty='l2',\n",
              "              power_t=0.5, random_state=42, shuffle=True, tol=0.001,\n",
              "              validation_fraction=0.1, verbose=0, warm_start=False)"
            ]
          },
          "metadata": {
            "tags": []
          },
          "execution_count": 13
        }
      ]
    },
    {
      "cell_type": "markdown",
      "metadata": {
        "id": "serious-nylon"
      },
      "source": [
        "### To check how the classifier works "
      ],
      "id": "serious-nylon"
    },
    {
      "cell_type": "code",
      "metadata": {
        "colab": {
          "base_uri": "https://localhost:8080/"
        },
        "id": "fifteen-suggestion",
        "outputId": "873dad45-3de9-4883-9b92-975194044109"
      },
      "source": [
        "# put a list of arraye\n",
        "sgd_clf.predict([some_digit])"
      ],
      "id": "fifteen-suggestion",
      "execution_count": 14,
      "outputs": [
        {
          "output_type": "execute_result",
          "data": {
            "text/plain": [
              "array([ True])"
            ]
          },
          "metadata": {
            "tags": []
          },
          "execution_count": 14
        }
      ]
    },
    {
      "cell_type": "markdown",
      "metadata": {
        "id": "determined-compatibility"
      },
      "source": [
        "### Performance Measures"
      ],
      "id": "determined-compatibility"
    },
    {
      "cell_type": "code",
      "metadata": {
        "colab": {
          "base_uri": "https://localhost:8080/"
        },
        "id": "governmental-authentication",
        "outputId": "a2ef7dcc-43ca-483f-f95c-ca7e25272c6b"
      },
      "source": [
        "from sklearn.model_selection import cross_val_score\n",
        "cross_val_score(sgd_clf,X_train, y_train_9, cv=3, scoring='accuracy')"
      ],
      "id": "governmental-authentication",
      "execution_count": 15,
      "outputs": [
        {
          "output_type": "execute_result",
          "data": {
            "text/plain": [
              "array([0.9456 , 0.95195, 0.9509 ])"
            ]
          },
          "metadata": {
            "tags": []
          },
          "execution_count": 15
        }
      ]
    },
    {
      "cell_type": "markdown",
      "metadata": {
        "id": "thorough-rwanda"
      },
      "source": [
        "### Lets check if these amazing resuls make sense :)"
      ],
      "id": "thorough-rwanda"
    },
    {
      "cell_type": "code",
      "metadata": {
        "colab": {
          "base_uri": "https://localhost:8080/"
        },
        "id": "relevant-vehicle",
        "outputId": "59a3ed25-61d6-4e8c-bf73-662558da6639"
      },
      "source": [
        "from sklearn.dummy import DummyClassifier\n",
        "dummy_majority = DummyClassifier(strategy='most_frequent').fit(X_train, y_train_9)\n",
        "pred_most_frequent = dummy_majority.predict(X_test)\n",
        "print(\"Unique predicted labels: {}\".format(np.unique(pred_most_frequent)))\n",
        "print(\"Test score: {:.2f}\".format(dummy_majority.score(X_test, y_test_9)))"
      ],
      "id": "relevant-vehicle",
      "execution_count": 16,
      "outputs": [
        {
          "output_type": "stream",
          "text": [
            "Unique predicted labels: [False]\n",
            "Test score: 0.90\n"
          ],
          "name": "stdout"
        }
      ]
    },
    {
      "cell_type": "markdown",
      "metadata": {
        "id": "stainless-tribe"
      },
      "source": [
        "We obtained close to 90% accuracy without learning anything. This might seem striking,\n",
        "but think about it for a minute. Imagine someone telling you their model is 90%\n",
        "accurate. You might think they did a very good job. But depending on the problem,\n",
        "that might be possible by just predicting one class. \n",
        "\n",
        "This demonstrates why accuracy is generally not the preferred performance measure\n",
        "for classifiers, especially when you are dealing with skewed datasets (i.e., when some\n",
        "classes are much more frequent than others)."
      ],
      "id": "stainless-tribe"
    },
    {
      "cell_type": "markdown",
      "metadata": {
        "id": "vocal-coast"
      },
      "source": [
        "### Confusion Matrix"
      ],
      "id": "vocal-coast"
    },
    {
      "cell_type": "markdown",
      "metadata": {
        "id": "gorgeous-renaissance"
      },
      "source": [
        "A much better way to evaluate the performance of a classifier is to look at the confusion\n",
        "matrix."
      ],
      "id": "gorgeous-renaissance"
    },
    {
      "cell_type": "markdown",
      "metadata": {
        "id": "closing-polls"
      },
      "source": [
        "### Each row in a confusion matrix represents an actual class, while each column represents a predicted class."
      ],
      "id": "closing-polls"
    },
    {
      "cell_type": "code",
      "metadata": {
        "scrolled": true,
        "colab": {
          "base_uri": "https://localhost:8080/",
          "height": 692
        },
        "id": "extreme-pledge",
        "outputId": "061b8550-e170-4098-909c-e9a354087617"
      },
      "source": [
        "!pip install mglearn\n",
        "import mglearn\n",
        "mglearn.plots.plot_binary_confusion_matrix()"
      ],
      "id": "extreme-pledge",
      "execution_count": 19,
      "outputs": [
        {
          "output_type": "stream",
          "text": [
            "Collecting mglearn\n",
            "\u001b[?25l  Downloading https://files.pythonhosted.org/packages/65/38/8aced26fce0b2ae82c3c87cd3b6105f38ca6d9d51704ecc44aa54473e6b9/mglearn-0.1.9.tar.gz (540kB)\n",
            "\r\u001b[K     |▋                               | 10kB 12.6MB/s eta 0:00:01\r\u001b[K     |█▏                              | 20kB 17.7MB/s eta 0:00:01\r\u001b[K     |█▉                              | 30kB 16.1MB/s eta 0:00:01\r\u001b[K     |██▍                             | 40kB 11.7MB/s eta 0:00:01\r\u001b[K     |███                             | 51kB 10.6MB/s eta 0:00:01\r\u001b[K     |███▋                            | 61kB 8.8MB/s eta 0:00:01\r\u001b[K     |████▎                           | 71kB 9.8MB/s eta 0:00:01\r\u001b[K     |████▉                           | 81kB 10.8MB/s eta 0:00:01\r\u001b[K     |█████▌                          | 92kB 9.6MB/s eta 0:00:01\r\u001b[K     |██████                          | 102kB 9.3MB/s eta 0:00:01\r\u001b[K     |██████▊                         | 112kB 9.3MB/s eta 0:00:01\r\u001b[K     |███████▎                        | 122kB 9.3MB/s eta 0:00:01\r\u001b[K     |███████▉                        | 133kB 9.3MB/s eta 0:00:01\r\u001b[K     |████████▌                       | 143kB 9.3MB/s eta 0:00:01\r\u001b[K     |█████████                       | 153kB 9.3MB/s eta 0:00:01\r\u001b[K     |█████████▊                      | 163kB 9.3MB/s eta 0:00:01\r\u001b[K     |██████████▎                     | 174kB 9.3MB/s eta 0:00:01\r\u001b[K     |███████████                     | 184kB 9.3MB/s eta 0:00:01\r\u001b[K     |███████████▌                    | 194kB 9.3MB/s eta 0:00:01\r\u001b[K     |████████████▏                   | 204kB 9.3MB/s eta 0:00:01\r\u001b[K     |████████████▊                   | 215kB 9.3MB/s eta 0:00:01\r\u001b[K     |█████████████▍                  | 225kB 9.3MB/s eta 0:00:01\r\u001b[K     |██████████████                  | 235kB 9.3MB/s eta 0:00:01\r\u001b[K     |██████████████▋                 | 245kB 9.3MB/s eta 0:00:01\r\u001b[K     |███████████████▏                | 256kB 9.3MB/s eta 0:00:01\r\u001b[K     |███████████████▊                | 266kB 9.3MB/s eta 0:00:01\r\u001b[K     |████████████████▍               | 276kB 9.3MB/s eta 0:00:01\r\u001b[K     |█████████████████               | 286kB 9.3MB/s eta 0:00:01\r\u001b[K     |█████████████████▋              | 296kB 9.3MB/s eta 0:00:01\r\u001b[K     |██████████████████▏             | 307kB 9.3MB/s eta 0:00:01\r\u001b[K     |██████████████████▉             | 317kB 9.3MB/s eta 0:00:01\r\u001b[K     |███████████████████▍            | 327kB 9.3MB/s eta 0:00:01\r\u001b[K     |████████████████████            | 337kB 9.3MB/s eta 0:00:01\r\u001b[K     |████████████████████▋           | 348kB 9.3MB/s eta 0:00:01\r\u001b[K     |█████████████████████▎          | 358kB 9.3MB/s eta 0:00:01\r\u001b[K     |█████████████████████▉          | 368kB 9.3MB/s eta 0:00:01\r\u001b[K     |██████████████████████▌         | 378kB 9.3MB/s eta 0:00:01\r\u001b[K     |███████████████████████         | 389kB 9.3MB/s eta 0:00:01\r\u001b[K     |███████████████████████▋        | 399kB 9.3MB/s eta 0:00:01\r\u001b[K     |████████████████████████▎       | 409kB 9.3MB/s eta 0:00:01\r\u001b[K     |████████████████████████▉       | 419kB 9.3MB/s eta 0:00:01\r\u001b[K     |█████████████████████████▌      | 430kB 9.3MB/s eta 0:00:01\r\u001b[K     |██████████████████████████      | 440kB 9.3MB/s eta 0:00:01\r\u001b[K     |██████████████████████████▊     | 450kB 9.3MB/s eta 0:00:01\r\u001b[K     |███████████████████████████▎    | 460kB 9.3MB/s eta 0:00:01\r\u001b[K     |████████████████████████████    | 471kB 9.3MB/s eta 0:00:01\r\u001b[K     |████████████████████████████▌   | 481kB 9.3MB/s eta 0:00:01\r\u001b[K     |█████████████████████████████▏  | 491kB 9.3MB/s eta 0:00:01\r\u001b[K     |█████████████████████████████▊  | 501kB 9.3MB/s eta 0:00:01\r\u001b[K     |██████████████████████████████▍ | 512kB 9.3MB/s eta 0:00:01\r\u001b[K     |███████████████████████████████ | 522kB 9.3MB/s eta 0:00:01\r\u001b[K     |███████████████████████████████▌| 532kB 9.3MB/s eta 0:00:01\r\u001b[K     |████████████████████████████████| 542kB 9.3MB/s \n",
            "\u001b[?25hRequirement already satisfied: numpy in /usr/local/lib/python3.7/dist-packages (from mglearn) (1.19.5)\n",
            "Requirement already satisfied: matplotlib in /usr/local/lib/python3.7/dist-packages (from mglearn) (3.2.2)\n",
            "Requirement already satisfied: scikit-learn in /usr/local/lib/python3.7/dist-packages (from mglearn) (0.22.2.post1)\n",
            "Requirement already satisfied: pandas in /usr/local/lib/python3.7/dist-packages (from mglearn) (1.1.5)\n",
            "Requirement already satisfied: pillow in /usr/local/lib/python3.7/dist-packages (from mglearn) (7.0.0)\n",
            "Requirement already satisfied: cycler in /usr/local/lib/python3.7/dist-packages (from mglearn) (0.10.0)\n",
            "Requirement already satisfied: imageio in /usr/local/lib/python3.7/dist-packages (from mglearn) (2.4.1)\n",
            "Requirement already satisfied: joblib in /usr/local/lib/python3.7/dist-packages (from mglearn) (1.0.1)\n",
            "Requirement already satisfied: python-dateutil>=2.1 in /usr/local/lib/python3.7/dist-packages (from matplotlib->mglearn) (2.8.1)\n",
            "Requirement already satisfied: kiwisolver>=1.0.1 in /usr/local/lib/python3.7/dist-packages (from matplotlib->mglearn) (1.3.1)\n",
            "Requirement already satisfied: pyparsing!=2.0.4,!=2.1.2,!=2.1.6,>=2.0.1 in /usr/local/lib/python3.7/dist-packages (from matplotlib->mglearn) (2.4.7)\n",
            "Requirement already satisfied: scipy>=0.17.0 in /usr/local/lib/python3.7/dist-packages (from scikit-learn->mglearn) (1.4.1)\n",
            "Requirement already satisfied: pytz>=2017.2 in /usr/local/lib/python3.7/dist-packages (from pandas->mglearn) (2018.9)\n",
            "Requirement already satisfied: six in /usr/local/lib/python3.7/dist-packages (from cycler->mglearn) (1.15.0)\n",
            "Building wheels for collected packages: mglearn\n",
            "  Building wheel for mglearn (setup.py) ... \u001b[?25l\u001b[?25hdone\n",
            "  Created wheel for mglearn: filename=mglearn-0.1.9-py2.py3-none-any.whl size=582638 sha256=3230c89a6b69dddcdab8d78710b31cd1db302f5f1adee098479307b7e9dac982\n",
            "  Stored in directory: /root/.cache/pip/wheels/eb/a6/ea/a6a3716233fa62fc561259b5cb1e28f79e9ff3592c0adac5f0\n",
            "Successfully built mglearn\n",
            "Installing collected packages: mglearn\n",
            "Successfully installed mglearn-0.1.9\n"
          ],
          "name": "stdout"
        },
        {
          "output_type": "display_data",
          "data": {
            "image/png": "[encoded data removed]",
            "text/plain": [
              "<Figure size 432x288 with 1 Axes>"
            ]
          },
          "metadata": {
            "tags": [],
            "needs_background": "light"
          }
        }
      ]
    },
    {
      "cell_type": "markdown",
      "metadata": {
        "id": "alike-communication"
      },
      "source": [
        "### Confusion Matrix on the test set for the Dummy CLF"
      ],
      "id": "alike-communication"
    },
    {
      "cell_type": "code",
      "metadata": {
        "colab": {
          "base_uri": "https://localhost:8080/"
        },
        "id": "rolled-break",
        "outputId": "b580179c-7348-4231-cb28-951450dcc5c4"
      },
      "source": [
        "from sklearn.metrics import confusion_matrix\n",
        "confusion = confusion_matrix(y_test_9, pred_most_frequent)\n",
        "print(\"Confusion matrix:\\n{}\".format(confusion))"
      ],
      "id": "rolled-break",
      "execution_count": 20,
      "outputs": [
        {
          "output_type": "stream",
          "text": [
            "Confusion matrix:\n",
            "[[8991    0]\n",
            " [1009    0]]\n"
          ],
          "name": "stdout"
        }
      ]
    },
    {
      "cell_type": "markdown",
      "metadata": {
        "id": "other-speed"
      },
      "source": [
        "### Just like the cross_val_score() function, cross_val_predict() performs K-fold cross-validation, but instead of returning the evaluation scores, it returns the predictions made on each test fold. This means that you get a clean prediction for each instance in the training set (“clean” meaning that the prediction is made by a model that never saw the data during training)."
      ],
      "id": "other-speed"
    },
    {
      "cell_type": "code",
      "metadata": {
        "id": "executive-elephant"
      },
      "source": [
        "from sklearn.model_selection import cross_val_predict\n",
        "y_train_pred = cross_val_predict(sgd_clf, X_train, y_train_9, cv=3)"
      ],
      "id": "executive-elephant",
      "execution_count": 21,
      "outputs": []
    },
    {
      "cell_type": "code",
      "metadata": {
        "colab": {
          "base_uri": "https://localhost:8080/"
        },
        "id": "retained-question",
        "outputId": "85cc792a-6da1-4ab0-edda-ab906029de08"
      },
      "source": [
        "y_train_pred # An array of True and False"
      ],
      "id": "retained-question",
      "execution_count": 22,
      "outputs": [
        {
          "output_type": "execute_result",
          "data": {
            "text/plain": [
              "array([False, False, False, ..., False, False, False])"
            ]
          },
          "metadata": {
            "tags": []
          },
          "execution_count": 22
        }
      ]
    },
    {
      "cell_type": "markdown",
      "metadata": {
        "id": "liberal-window"
      },
      "source": [
        "### The confusion matrix on training bins for the SGD CLF"
      ],
      "id": "liberal-window"
    },
    {
      "cell_type": "code",
      "metadata": {
        "colab": {
          "base_uri": "https://localhost:8080/"
        },
        "id": "heavy-means",
        "outputId": "5b9ec964-b302-4e0a-a2bd-eeeef9e016b2"
      },
      "source": [
        "confusion_matrix(y_train_9, y_train_pred)"
      ],
      "id": "heavy-means",
      "execution_count": 23,
      "outputs": [
        {
          "output_type": "execute_result",
          "data": {
            "text/plain": [
              "array([[52715,  1336],\n",
              "       [ 1695,  4254]])"
            ]
          },
          "metadata": {
            "tags": []
          },
          "execution_count": 23
        }
      ]
    },
    {
      "cell_type": "markdown",
      "metadata": {
        "id": "impressive-alloy"
      },
      "source": [
        "### In a perfect condition we have:\n"
      ],
      "id": "impressive-alloy"
    },
    {
      "cell_type": "code",
      "metadata": {
        "colab": {
          "base_uri": "https://localhost:8080/"
        },
        "id": "appointed-stomach",
        "outputId": "f4668e25-d233-43ae-b289-7ff387bb0d9f"
      },
      "source": [
        "y_train_perfect_predictions = y_train_9\n",
        "confusion_matrix(y_train_9, y_train_perfect_predictions)"
      ],
      "id": "appointed-stomach",
      "execution_count": 24,
      "outputs": [
        {
          "output_type": "execute_result",
          "data": {
            "text/plain": [
              "array([[54051,     0],\n",
              "       [    0,  5949]])"
            ]
          },
          "metadata": {
            "tags": []
          },
          "execution_count": 24
        }
      ]
    },
    {
      "cell_type": "markdown",
      "metadata": {
        "id": "isolated-shark"
      },
      "source": [
        "Inspecting the full confusion matrix is a bit cumbersome, and while we gained a lot of insight from looking at all aspects of the matrix, the process was very manual and qualitative. There are several ways to summarize the information in the confusion matrix:\n",
        "\n",
        "1- computing accuracy, which can be expressed as:\n",
        "(TP+TN)/(TP+TN+FP+FN)\n",
        "\n",
        "2- Precision = TP/(TP+FP)\n",
        "\n",
        "3- Recall = TP/(TP+FN)\n",
        "\n",
        "4- The harmonic mean of precision and recall: F = 2 * Precision * Recall/(Precison+Recall)"
      ],
      "id": "isolated-shark"
    },
    {
      "cell_type": "code",
      "metadata": {
        "colab": {
          "base_uri": "https://localhost:8080/"
        },
        "id": "tight-delight",
        "outputId": "8188619a-baa1-4a82-b289-3afa804cb9db"
      },
      "source": [
        "from sklearn.metrics import precision_score, recall_score\n",
        "\n",
        "precision_score(y_train_9, y_train_pred)"
      ],
      "id": "tight-delight",
      "execution_count": 25,
      "outputs": [
        {
          "output_type": "execute_result",
          "data": {
            "text/plain": [
              "0.7610017889087657"
            ]
          },
          "metadata": {
            "tags": []
          },
          "execution_count": 25
        }
      ]
    },
    {
      "cell_type": "code",
      "metadata": {
        "colab": {
          "base_uri": "https://localhost:8080/"
        },
        "id": "bizarre-awareness",
        "outputId": "b911beba-265d-4a8a-bda7-784a3f894435"
      },
      "source": [
        "4254/(4254+1336)"
      ],
      "id": "bizarre-awareness",
      "execution_count": 26,
      "outputs": [
        {
          "output_type": "execute_result",
          "data": {
            "text/plain": [
              "0.7610017889087657"
            ]
          },
          "metadata": {
            "tags": []
          },
          "execution_count": 26
        }
      ]
    },
    {
      "cell_type": "code",
      "metadata": {
        "colab": {
          "base_uri": "https://localhost:8080/"
        },
        "id": "external-minute",
        "outputId": "62483f34-a2a9-4be8-83ad-a1aa249eddad"
      },
      "source": [
        "recall_score(y_train_9, y_train_pred)"
      ],
      "id": "external-minute",
      "execution_count": 27,
      "outputs": [
        {
          "output_type": "execute_result",
          "data": {
            "text/plain": [
              "0.7150781643973777"
            ]
          },
          "metadata": {
            "tags": []
          },
          "execution_count": 27
        }
      ]
    },
    {
      "cell_type": "code",
      "metadata": {
        "colab": {
          "base_uri": "https://localhost:8080/"
        },
        "id": "polyphonic-buddy",
        "outputId": "46476936-b049-49c2-dcf3-0d9ad5ab5faf"
      },
      "source": [
        "4254/(4254+1695)"
      ],
      "id": "polyphonic-buddy",
      "execution_count": 28,
      "outputs": [
        {
          "output_type": "execute_result",
          "data": {
            "text/plain": [
              "0.7150781643973777"
            ]
          },
          "metadata": {
            "tags": []
          },
          "execution_count": 28
        }
      ]
    },
    {
      "cell_type": "code",
      "metadata": {
        "colab": {
          "base_uri": "https://localhost:8080/"
        },
        "id": "interstate-spirit",
        "outputId": "b3eb17de-b508-47ca-f885-7f77b9b5549f"
      },
      "source": [
        "from sklearn.metrics import f1_score\n",
        "f1_score(y_train_9, y_train_pred)"
      ],
      "id": "interstate-spirit",
      "execution_count": 29,
      "outputs": [
        {
          "output_type": "execute_result",
          "data": {
            "text/plain": [
              "0.737325591472398"
            ]
          },
          "metadata": {
            "tags": []
          },
          "execution_count": 29
        }
      ]
    },
    {
      "cell_type": "markdown",
      "metadata": {
        "id": "explicit-anthropology"
      },
      "source": [
        "### Precision-Recall Trade off"
      ],
      "id": "explicit-anthropology"
    },
    {
      "cell_type": "markdown",
      "metadata": {
        "id": "injured-greensboro"
      },
      "source": [
        "### By inceresing the threshold, the precision increases (number of false posotives decrease, i.e., getting more pure) and the recall decreases (number of false negatives decrease)."
      ],
      "id": "injured-greensboro"
    },
    {
      "cell_type": "markdown",
      "metadata": {
        "id": "soviet-command"
      },
      "source": [
        "### Scikit-Learn does not let you set the threshold directly, but it does give you access to the decision scores that it uses to make predictions. Instead of calling the classifier’s predict() method, you can call its decision_function() method, which returns a score for each instance, and then make predictions based on those scores using any threshold you want:\n",
        "\n"
      ],
      "id": "soviet-command"
    },
    {
      "cell_type": "code",
      "metadata": {
        "colab": {
          "base_uri": "https://localhost:8080/"
        },
        "id": "atlantic-recruitment",
        "outputId": "0c82eab9-c504-4dfa-e163-bc18d57f110d"
      },
      "source": [
        "y_scores = sgd_clf.decision_function([some_digit])\n",
        "y_scores"
      ],
      "id": "atlantic-recruitment",
      "execution_count": 30,
      "outputs": [
        {
          "output_type": "execute_result",
          "data": {
            "text/plain": [
              "array([454.40903078])"
            ]
          },
          "metadata": {
            "tags": []
          },
          "execution_count": 30
        }
      ]
    },
    {
      "cell_type": "code",
      "metadata": {
        "colab": {
          "base_uri": "https://localhost:8080/"
        },
        "id": "latter-cookie",
        "outputId": "b967c94f-d30c-43fc-901c-8d42083a360b"
      },
      "source": [
        "threshold = 0\n",
        "y_some_digit_pred = (y_scores > threshold)\n",
        "y_some_digit_pred"
      ],
      "id": "latter-cookie",
      "execution_count": 31,
      "outputs": [
        {
          "output_type": "execute_result",
          "data": {
            "text/plain": [
              "array([ True])"
            ]
          },
          "metadata": {
            "tags": []
          },
          "execution_count": 31
        }
      ]
    },
    {
      "cell_type": "code",
      "metadata": {
        "colab": {
          "base_uri": "https://localhost:8080/"
        },
        "id": "interpreted-estimate",
        "outputId": "f0c4ff87-35e9-4bae-c6e7-5ec013b93a6c"
      },
      "source": [
        "# Increasing the threshold:\n",
        "threshold = 500\n",
        "y_some_digit_pred = (y_scores > threshold)\n",
        "y_some_digit_pred"
      ],
      "id": "interpreted-estimate",
      "execution_count": 32,
      "outputs": [
        {
          "output_type": "execute_result",
          "data": {
            "text/plain": [
              "array([False])"
            ]
          },
          "metadata": {
            "tags": []
          },
          "execution_count": 32
        }
      ]
    },
    {
      "cell_type": "markdown",
      "metadata": {
        "id": "sonic-adult"
      },
      "source": [
        "### The SGDClassifier uses a threshold equal to 0.\n",
        "\n",
        "### So how can we decide which threshold to use? For this we will first need to get the scores of all instances in the training set using the cross_val_predict() function again, but this time specifying that we want it to return decision scores instead of predictions:"
      ],
      "id": "sonic-adult"
    },
    {
      "cell_type": "code",
      "metadata": {
        "colab": {
          "base_uri": "https://localhost:8080/"
        },
        "id": "distant-candidate",
        "outputId": "c5926217-486f-488b-b3c5-241ca81a0b92"
      },
      "source": [
        "y_scores = cross_val_predict(sgd_clf, X_train, y_train_9, cv=3,method=\"decision_function\")\n",
        "y_scores # Return the scores that yields True and False "
      ],
      "id": "distant-candidate",
      "execution_count": 34,
      "outputs": [
        {
          "output_type": "execute_result",
          "data": {
            "text/plain": [
              "array([-23009.36445429, -18436.99768895, -15940.48683084, ...,\n",
              "       -30278.93992241, -28156.99780661,  -6860.27399688])"
            ]
          },
          "metadata": {
            "tags": []
          },
          "execution_count": 34
        }
      ]
    },
    {
      "cell_type": "markdown",
      "metadata": {
        "id": "tested-water"
      },
      "source": [
        "### With these scores we can compute precision and recall for all possible thresholds using the precision_recall_curve() function"
      ],
      "id": "tested-water"
    },
    {
      "cell_type": "code",
      "metadata": {
        "id": "western-hawaii"
      },
      "source": [
        "from sklearn.metrics import precision_recall_curve\n",
        "precisions, recalls, thresholds = precision_recall_curve(y_train_9, y_scores)"
      ],
      "id": "western-hawaii",
      "execution_count": 35,
      "outputs": []
    },
    {
      "cell_type": "code",
      "metadata": {
        "colab": {
          "base_uri": "https://localhost:8080/",
          "height": 315
        },
        "id": "written-blogger",
        "outputId": "f0d82bfb-e04c-40eb-e135-f03d1e458819"
      },
      "source": [
        "def plot_precision_recall_vs_threshold(precisions, recalls, thresholds):\n",
        "    plt.plot(thresholds, precisions[:-1], \"b--\", label=\"Precision\", linewidth=2)\n",
        "    plt.plot(thresholds, recalls[:-1], \"g-\", label=\"Recall\", linewidth=2)\n",
        "    plt.xlabel(\"Threshold\", fontsize=16)\n",
        "    plt.legend(loc=\"upper left\", fontsize=16)\n",
        "    plt.ylim([0, 1])\n",
        "\n",
        "plt.figure(figsize=(8, 4))\n",
        "plot_precision_recall_vs_threshold(precisions, recalls, thresholds)\n",
        "plt.xlim([-50000, 30000])\n",
        "save_fig(\"precision_recall_vs_threshold_plot\")\n",
        "plt.show()"
      ],
      "id": "written-blogger",
      "execution_count": 36,
      "outputs": [
        {
          "output_type": "stream",
          "text": [
            "Saving figure precision_recall_vs_threshold_plot\n"
          ],
          "name": "stdout"
        },
        {
          "output_type": "display_data",
          "data": {
            "image/png": "[encoded data removed]",
            "text/plain": [
              "<Figure size 576x288 with 1 Axes>"
            ]
          },
          "metadata": {
            "tags": [],
            "needs_background": "light"
          }
        }
      ]
    },
    {
      "cell_type": "code",
      "metadata": {
        "colab": {
          "base_uri": "https://localhost:8080/"
        },
        "id": "fluid-republican",
        "outputId": "6b0fb6a8-3d18-4205-cf2b-897cc1ffbeca"
      },
      "source": [
        "thresholds"
      ],
      "id": "fluid-republican",
      "execution_count": 37,
      "outputs": [
        {
          "output_type": "execute_result",
          "data": {
            "text/plain": [
              "array([-52486.6904895 , -52483.5824911 , -52479.6675275 , ...,\n",
              "        20225.53507163,  20552.95117091,  21027.68503262])"
            ]
          },
          "metadata": {
            "tags": []
          },
          "execution_count": 37
        }
      ]
    },
    {
      "cell_type": "code",
      "metadata": {
        "colab": {
          "base_uri": "https://localhost:8080/"
        },
        "id": "atmospheric-fifteen",
        "outputId": "83c1765c-7972-449b-9de1-6b1dccc330ad"
      },
      "source": [
        "precisions"
      ],
      "id": "atmospheric-fifteen",
      "execution_count": 38,
      "outputs": [
        {
          "output_type": "execute_result",
          "data": {
            "text/plain": [
              "array([0.10595968, 0.10594375, 0.10594564, ..., 1.        , 1.        ,\n",
              "       1.        ])"
            ]
          },
          "metadata": {
            "tags": []
          },
          "execution_count": 38
        }
      ]
    },
    {
      "cell_type": "code",
      "metadata": {
        "colab": {
          "base_uri": "https://localhost:8080/"
        },
        "id": "aggregate-father",
        "outputId": "32664354-581b-4b07-d017-f7bb5c802a4f"
      },
      "source": [
        "thresholds_90_precision = thresholds[np.argmax(precisions>0.9)]\n",
        "thresholds_90_precision"
      ],
      "id": "aggregate-father",
      "execution_count": 40,
      "outputs": [
        {
          "output_type": "execute_result",
          "data": {
            "text/plain": [
              "4255.5613542876035"
            ]
          },
          "metadata": {
            "tags": []
          },
          "execution_count": 40
        }
      ]
    },
    {
      "cell_type": "code",
      "metadata": {
        "id": "subsequent-welding"
      },
      "source": [
        "# 90% Precision\n",
        "y_train_pred_90 = (y_scores >= thresholds_90_precision)"
      ],
      "id": "subsequent-welding",
      "execution_count": 41,
      "outputs": []
    },
    {
      "cell_type": "code",
      "metadata": {
        "colab": {
          "base_uri": "https://localhost:8080/"
        },
        "id": "painted-stanley",
        "outputId": "7badbb9b-dc77-4dbf-a413-fde5828f27c1"
      },
      "source": [
        "precision_score(y_train_9, y_train_pred_90)"
      ],
      "id": "painted-stanley",
      "execution_count": 42,
      "outputs": [
        {
          "output_type": "execute_result",
          "data": {
            "text/plain": [
              "0.9001728608470182"
            ]
          },
          "metadata": {
            "tags": []
          },
          "execution_count": 42
        }
      ]
    },
    {
      "cell_type": "code",
      "metadata": {
        "colab": {
          "base_uri": "https://localhost:8080/"
        },
        "id": "romantic-casting",
        "outputId": "08b18f1b-9fb0-4e76-cca0-1c3905fd3012"
      },
      "source": [
        "recall_score(y_train_9, y_train_pred_90)"
      ],
      "id": "romantic-casting",
      "execution_count": 43,
      "outputs": [
        {
          "output_type": "execute_result",
          "data": {
            "text/plain": [
              "0.3501428811564969"
            ]
          },
          "metadata": {
            "tags": []
          },
          "execution_count": 43
        }
      ]
    },
    {
      "cell_type": "markdown",
      "metadata": {
        "id": "linear-karen"
      },
      "source": [
        "### It is fairly easy to create a classifier with virtually any precision we want: just set a high enough threshold."
      ],
      "id": "linear-karen"
    },
    {
      "cell_type": "markdown",
      "metadata": {
        "id": "surprising-spell"
      },
      "source": [
        "### Plot Precision vs Recall"
      ],
      "id": "surprising-spell"
    },
    {
      "cell_type": "code",
      "metadata": {
        "id": "lasting-cannon",
        "outputId": "aba52ca1-a67a-4f7d-955c-f9f5cc9341c6"
      },
      "source": [
        "def plot_precision_vs_recall(precisions, recalls):\n",
        "    plt.plot(recalls, precisions, \"b-\", linewidth=2)\n",
        "    plt.xlabel(\"Recall\", fontsize=16)\n",
        "    plt.ylabel(\"Precision\", fontsize=16)\n",
        "    plt.axis([0, 1, 0, 1])\n",
        "\n",
        "plt.figure(figsize=(8, 6))\n",
        "plot_precision_vs_recall(precisions, recalls)\n",
        "save_fig(\"precision_vs_recall_plot\")\n",
        "plt.show()"
      ],
      "id": "lasting-cannon",
      "execution_count": null,
      "outputs": [
        {
          "output_type": "stream",
          "text": [
            "Saving figure precision_vs_recall_plot\n"
          ],
          "name": "stdout"
        },
        {
          "output_type": "display_data",
          "data": {
            "image/png": "[encoded data removed]",
            "text/plain": [
              "<Figure size 576x432 with 1 Axes>"
            ]
          },
          "metadata": {
            "tags": [],
            "needs_background": "light"
          }
        }
      ]
    },
    {
      "cell_type": "markdown",
      "metadata": {
        "id": "J-eyokFQRAwf"
      },
      "source": [
        "It seems that around 80 percent we have an acceptable recall as well. "
      ],
      "id": "J-eyokFQRAwf"
    },
    {
      "cell_type": "markdown",
      "metadata": {
        "id": "quality-jaguar"
      },
      "source": [
        "### ROC Curves"
      ],
      "id": "quality-jaguar"
    },
    {
      "cell_type": "markdown",
      "metadata": {
        "id": "insured-identity"
      },
      "source": [
        "### Definitions\n",
        "\n",
        "### ROC curve: TPR vs FPR\n",
        "\n",
        "### TPR (True Positive Rate)(Sensitivity)(Recall) = TP/(TP+FN)\n",
        "\n",
        "### FPR (False Positive Rate) the ratio of negative instances that are incorrectly classified as positive. \n",
        "### = 1-TNR = FP/(TN+FP)\n",
        "\n",
        "### TNR = TN/(TN+FP) = Specifity\n"
      ],
      "id": "insured-identity"
    },
    {
      "cell_type": "code",
      "metadata": {
        "id": "growing-liverpool"
      },
      "source": [
        "from sklearn.metrics import roc_curve\n",
        "fpr, tpr, thresholds = roc_curve(y_train_9, y_scores)"
      ],
      "id": "growing-liverpool",
      "execution_count": 44,
      "outputs": []
    },
    {
      "cell_type": "code",
      "metadata": {
        "colab": {
          "base_uri": "https://localhost:8080/",
          "height": 459
        },
        "id": "arranged-metallic",
        "outputId": "6838f1d5-5521-40f1-cc10-57f1e164e65e"
      },
      "source": [
        "def plot_roc_curve(fpr, tpr, label=None):\n",
        "    plt.plot(fpr, tpr, linewidth=2, label=label)\n",
        "    plt.plot([0, 1], [0, 1], 'k--')\n",
        "    plt.axis([0, 1, 0, 1])\n",
        "    plt.xlabel('False Positive Rate', fontsize=16)\n",
        "    plt.ylabel('True Positive Rate', fontsize=16)\n",
        "\n",
        "plt.figure(figsize=(8, 6))\n",
        "plot_roc_curve(fpr, tpr)\n",
        "save_fig(\"roc_curve_plot\")\n",
        "plt.show()"
      ],
      "id": "arranged-metallic",
      "execution_count": 45,
      "outputs": [
        {
          "output_type": "stream",
          "text": [
            "Saving figure roc_curve_plot\n"
          ],
          "name": "stdout"
        },
        {
          "output_type": "display_data",
          "data": {
            "image/png": "[encoded data removed]",
            "text/plain": [
              "<Figure size 576x432 with 1 Axes>"
            ]
          },
          "metadata": {
            "tags": [],
            "needs_background": "light"
          }
        }
      ]
    },
    {
      "cell_type": "markdown",
      "metadata": {
        "id": "backed-conflict"
      },
      "source": [
        "### The higher the recall (TPR), the more false positives (FPR) the classifier produces. A good classifier stays as far away from that line as possible (toward the top-left corner)"
      ],
      "id": "backed-conflict"
    },
    {
      "cell_type": "code",
      "metadata": {
        "id": "dental-hierarchy"
      },
      "source": [
        "from sklearn.metrics import roc_auc_score"
      ],
      "id": "dental-hierarchy",
      "execution_count": 46,
      "outputs": []
    },
    {
      "cell_type": "code",
      "metadata": {
        "colab": {
          "base_uri": "https://localhost:8080/"
        },
        "id": "australian-motor",
        "outputId": "44c26757-1ee4-4e45-b09c-20f5728172b9"
      },
      "source": [
        "roc_auc_score(y_train_9, y_scores)"
      ],
      "id": "australian-motor",
      "execution_count": 47,
      "outputs": [
        {
          "output_type": "execute_result",
          "data": {
            "text/plain": [
              "0.96114559368217"
            ]
          },
          "metadata": {
            "tags": []
          },
          "execution_count": 47
        }
      ]
    },
    {
      "cell_type": "markdown",
      "metadata": {
        "id": "peaceful-scholarship"
      },
      "source": [
        "# Train a Random Forest Classifier"
      ],
      "id": "peaceful-scholarship"
    },
    {
      "cell_type": "markdown",
      "metadata": {
        "id": "cosmetic-bristol"
      },
      "source": [
        "### The RandomForestClassifier class does not have a decision_function() method. Instead it has a predict_proba() method."
      ],
      "id": "cosmetic-bristol"
    },
    {
      "cell_type": "code",
      "metadata": {
        "id": "caring-wings"
      },
      "source": [
        "from sklearn.ensemble import RandomForestClassifier\n",
        "forest_clf = RandomForestClassifier(random_state= 42)\n",
        "y_proba_forest = cross_val_predict(forest_clf, X_train, y_train_9, cv=3,\n",
        "method=\"predict_proba\")"
      ],
      "id": "caring-wings",
      "execution_count": 48,
      "outputs": []
    },
    {
      "cell_type": "markdown",
      "metadata": {
        "id": "undefined-peninsula"
      },
      "source": [
        "### To plot a ROC curve, we need scores, not probabilities. A simple solution is to use the positive class’s probability as the score."
      ],
      "id": "undefined-peninsula"
    },
    {
      "cell_type": "code",
      "metadata": {
        "id": "neither-launch",
        "outputId": "77a35c8a-5ed9-4549-e87f-24736c71cf4a"
      },
      "source": [
        "# The second element is the probability of the positive class.\n",
        "y_proba_forest"
      ],
      "id": "neither-launch",
      "execution_count": null,
      "outputs": [
        {
          "output_type": "execute_result",
          "data": {
            "text/plain": [
              "array([[0.99, 0.01],\n",
              "       [1.  , 0.  ],\n",
              "       [0.95, 0.05],\n",
              "       ...,\n",
              "       [0.91, 0.09],\n",
              "       [0.98, 0.02],\n",
              "       [0.98, 0.02]])"
            ]
          },
          "metadata": {
            "tags": []
          },
          "execution_count": 227
        }
      ]
    },
    {
      "cell_type": "code",
      "metadata": {
        "id": "british-destiny"
      },
      "source": [
        "y_scores_forest = y_proba_forest[:, 1] "
      ],
      "id": "british-destiny",
      "execution_count": 49,
      "outputs": []
    },
    {
      "cell_type": "code",
      "metadata": {
        "id": "accomplished-boating"
      },
      "source": [
        "fpr_forest, tpr_forest, thresholds_forest = roc_curve(y_train_9,y_scores_forest)"
      ],
      "id": "accomplished-boating",
      "execution_count": 50,
      "outputs": []
    },
    {
      "cell_type": "code",
      "metadata": {
        "colab": {
          "base_uri": "https://localhost:8080/",
          "height": 292
        },
        "id": "beginning-denial",
        "outputId": "b95e418d-73e0-4b49-aba2-ca066787e397"
      },
      "source": [
        "plot_roc_curve(fpr_forest, tpr_forest, \"Random Forest\")\n",
        "plt.legend(loc=\"best\")\n",
        "plt.show()"
      ],
      "id": "beginning-denial",
      "execution_count": 51,
      "outputs": [
        {
          "output_type": "display_data",
          "data": {
            "image/png": "[encoded data removed]",
            "text/plain": [
              "<Figure size 432x288 with 1 Axes>"
            ]
          },
          "metadata": {
            "tags": [],
            "needs_background": "light"
          }
        }
      ]
    },
    {
      "cell_type": "markdown",
      "metadata": {
        "id": "clear-plant"
      },
      "source": [
        "### To plot both SGD and Random Forrest"
      ],
      "id": "clear-plant"
    },
    {
      "cell_type": "code",
      "metadata": {
        "colab": {
          "base_uri": "https://localhost:8080/",
          "height": 292
        },
        "id": "distinct-eating",
        "outputId": "2a12e621-5728-4e40-f1ea-82f0034ec2eb"
      },
      "source": [
        "plt.plot(fpr, tpr, \"r:\", label=\"SGD\")\n",
        "plot_roc_curve(fpr_forest, tpr_forest, \"Random Forest\")\n",
        "plt.legend(loc=\"best\")\n",
        "plt.show()\n"
      ],
      "id": "distinct-eating",
      "execution_count": 52,
      "outputs": [
        {
          "output_type": "display_data",
          "data": {
            "image/png": "[encoded data removed]",
            "text/plain": [
              "<Figure size 432x288 with 1 Axes>"
            ]
          },
          "metadata": {
            "tags": [],
            "needs_background": "light"
          }
        }
      ]
    },
    {
      "cell_type": "markdown",
      "metadata": {
        "id": "threatened-consistency"
      },
      "source": [
        "### The RandomForestClassifier’s ROC curve looks much better than the SGDClassifier’s."
      ],
      "id": "threatened-consistency"
    },
    {
      "cell_type": "code",
      "metadata": {
        "colab": {
          "base_uri": "https://localhost:8080/"
        },
        "id": "terminal-float",
        "outputId": "0edd8d28-34b7-498c-c8be-150031cc6a31"
      },
      "source": [
        "roc_auc_score(y_train_9, y_scores_forest)"
      ],
      "id": "terminal-float",
      "execution_count": 53,
      "outputs": [
        {
          "output_type": "execute_result",
          "data": {
            "text/plain": [
              "0.9952328942154235"
            ]
          },
          "metadata": {
            "tags": []
          },
          "execution_count": 53
        }
      ]
    },
    {
      "cell_type": "markdown",
      "metadata": {
        "id": "constitutional-failure"
      },
      "source": [
        "### Calculate the Recall and Precision for the Random Forrest classifier"
      ],
      "id": "constitutional-failure"
    },
    {
      "cell_type": "code",
      "metadata": {
        "colab": {
          "base_uri": "https://localhost:8080/"
        },
        "id": "floral-broadcast",
        "outputId": "d42d2664-d7ab-4482-f620-75379cabc751"
      },
      "source": [
        "y_train_pred_forest = cross_val_predict(forest_clf, X_train, y_train_9, cv=3)\n",
        "\n",
        "recall_score(y_train_9, y_train_pred_forest)"
      ],
      "id": "floral-broadcast",
      "execution_count": 54,
      "outputs": [
        {
          "output_type": "execute_result",
          "data": {
            "text/plain": [
              "0.8404773911581779"
            ]
          },
          "metadata": {
            "tags": []
          },
          "execution_count": 54
        }
      ]
    },
    {
      "cell_type": "code",
      "metadata": {
        "colab": {
          "base_uri": "https://localhost:8080/"
        },
        "id": "adult-ideal",
        "outputId": "48901243-c5dc-448c-b765-2c786a831593"
      },
      "source": [
        "precision_score(y_train_9, y_train_pred_forest)"
      ],
      "id": "adult-ideal",
      "execution_count": 56,
      "outputs": [
        {
          "output_type": "execute_result",
          "data": {
            "text/plain": [
              "0.9819324430479183"
            ]
          },
          "metadata": {
            "tags": []
          },
          "execution_count": 56
        }
      ]
    },
    {
      "cell_type": "markdown",
      "metadata": {
        "id": "different-thesaurus"
      },
      "source": [
        "# Multiclass Classification"
      ],
      "id": "different-thesaurus"
    },
    {
      "cell_type": "markdown",
      "metadata": {
        "id": "opened-retrieval"
      },
      "source": [
        "Whereas binary classifiers distinguish between two classes, multiclass classifiers (also\n",
        "called multinomial classifiers) can distinguish between more than two classes."
      ],
      "id": "opened-retrieval"
    },
    {
      "cell_type": "markdown",
      "metadata": {
        "id": "ruled-agreement"
      },
      "source": [
        "### 1- one-versus-all (OvA) strategy:\n",
        "one way to create a system that can classify the digit images into 10\n",
        "classes (from 0 to 9) is to train 10 binary classifiers, one for each digit (a 0-detector, a\n",
        "1-detector, a 2-detector, and so on). Then when you want to classify an image, you get\n",
        "the decision score from each classifier for that image and you select the class whose\n",
        "classifier outputs the highest score.\n",
        "\n",
        "### 2- one-versus-one (OvO) strategy:\n",
        "If there are N classes, you need to\n",
        "train N × (N – 1) / 2 classifiers. For the MNIST problem, this means training 45\n",
        "binary classifiers! When you want to classify an image, you have to run the image\n",
        "through all 45 classifiers and see which class wins the most duels. The main advantage\n",
        "of OvO is that each classifier only needs to be trained on the part of the training\n",
        "set for the two classes that it must distinguish."
      ],
      "id": "ruled-agreement"
    },
    {
      "cell_type": "markdown",
      "metadata": {
        "id": "handed-assignment"
      },
      "source": [
        "### Some algorithms (such as Support Vector Machine classifiers) scale poorly with the size of the training set, so for these algorithms OvO is preferred since it is faster to train many classifiers on small training sets than training few classifiers on large training sets."
      ],
      "id": "handed-assignment"
    },
    {
      "cell_type": "markdown",
      "metadata": {
        "id": "medieval-census"
      },
      "source": [
        "### SGD Classifier"
      ],
      "id": "medieval-census"
    },
    {
      "cell_type": "code",
      "metadata": {
        "colab": {
          "base_uri": "https://localhost:8080/"
        },
        "id": "searching-bryan",
        "outputId": "29bb994e-7d9d-4e4e-c3aa-0b88e8153dae"
      },
      "source": [
        "sgd_clf.fit(X_train, y_train)\n",
        "sgd_clf.predict([some_digit])"
      ],
      "id": "searching-bryan",
      "execution_count": 55,
      "outputs": [
        {
          "output_type": "execute_result",
          "data": {
            "text/plain": [
              "array([9], dtype=int8)"
            ]
          },
          "metadata": {
            "tags": []
          },
          "execution_count": 55
        }
      ]
    },
    {
      "cell_type": "code",
      "metadata": {
        "colab": {
          "base_uri": "https://localhost:8080/"
        },
        "id": "english-republican",
        "outputId": "d07c0349-2c9d-4c7f-ed6c-1be0c6137040"
      },
      "source": [
        "some_digit_scores = sgd_clf.decision_function([some_digit])\n",
        "some_digit_scores"
      ],
      "id": "english-republican",
      "execution_count": 57,
      "outputs": [
        {
          "output_type": "execute_result",
          "data": {
            "text/plain": [
              "array([[-35309.05255708, -20528.66709235, -13296.3494342 ,\n",
              "         -2541.46673774,  -6163.74656635,  -3029.38543399,\n",
              "        -16208.23230499,  -6139.24883511,  -2694.24429202,\n",
              "          1955.24306203]])"
            ]
          },
          "metadata": {
            "tags": []
          },
          "execution_count": 57
        }
      ]
    },
    {
      "cell_type": "code",
      "metadata": {
        "colab": {
          "base_uri": "https://localhost:8080/"
        },
        "id": "prerequisite-abortion",
        "outputId": "2af93a43-3b6f-4b96-e802-a784e5d4202d"
      },
      "source": [
        "np.argmax(some_digit_scores)"
      ],
      "id": "prerequisite-abortion",
      "execution_count": 58,
      "outputs": [
        {
          "output_type": "execute_result",
          "data": {
            "text/plain": [
              "9"
            ]
          },
          "metadata": {
            "tags": []
          },
          "execution_count": 58
        }
      ]
    },
    {
      "cell_type": "code",
      "metadata": {
        "colab": {
          "base_uri": "https://localhost:8080/"
        },
        "id": "finnish-northern",
        "outputId": "1afd261d-f571-4bac-f135-bbbe282dd0c8"
      },
      "source": [
        "sgd_clf.classes_"
      ],
      "id": "finnish-northern",
      "execution_count": 59,
      "outputs": [
        {
          "output_type": "execute_result",
          "data": {
            "text/plain": [
              "array([0, 1, 2, 3, 4, 5, 6, 7, 8, 9], dtype=int8)"
            ]
          },
          "metadata": {
            "tags": []
          },
          "execution_count": 59
        }
      ]
    },
    {
      "cell_type": "markdown",
      "metadata": {
        "id": "optimum-leeds"
      },
      "source": [
        "### Support Vector Machine Classifier\n",
        "#### Scikit-Learn detects when you try to use a binary classification algorithm for a multiclass classification task, and it automatically runs OvA (except for SVM classifiers for which it uses OvO)."
      ],
      "id": "optimum-leeds"
    },
    {
      "cell_type": "code",
      "metadata": {
        "colab": {
          "base_uri": "https://localhost:8080/"
        },
        "id": "worth-captain",
        "outputId": "af901794-fa21-41be-b55a-d6c3455d70e3"
      },
      "source": [
        "from sklearn.svm import SVC\n",
        "svm_cls = SVC()\n",
        "svm_cls.fit(X_train, y_train)\n"
      ],
      "id": "worth-captain",
      "execution_count": 60,
      "outputs": [
        {
          "output_type": "execute_result",
          "data": {
            "text/plain": [
              "SVC(C=1.0, break_ties=False, cache_size=200, class_weight=None, coef0=0.0,\n",
              "    decision_function_shape='ovr', degree=3, gamma='scale', kernel='rbf',\n",
              "    max_iter=-1, probability=False, random_state=None, shrinking=True,\n",
              "    tol=0.001, verbose=False)"
            ]
          },
          "metadata": {
            "tags": []
          },
          "execution_count": 60
        }
      ]
    },
    {
      "cell_type": "code",
      "metadata": {
        "colab": {
          "base_uri": "https://localhost:8080/"
        },
        "id": "efficient-swiss",
        "outputId": "b6149bf9-6c27-46d6-8e4d-c06ead1ea336"
      },
      "source": [
        "svm_cls.predict([some_digit])"
      ],
      "id": "efficient-swiss",
      "execution_count": 61,
      "outputs": [
        {
          "output_type": "execute_result",
          "data": {
            "text/plain": [
              "array([9], dtype=int8)"
            ]
          },
          "metadata": {
            "tags": []
          },
          "execution_count": 61
        }
      ]
    },
    {
      "cell_type": "code",
      "metadata": {
        "colab": {
          "base_uri": "https://localhost:8080/"
        },
        "id": "aerial-squad",
        "outputId": "ccff5de9-db22-49cd-d4e6-f7fb5672b7f7"
      },
      "source": [
        "some_digit_scores_svc = svm_cls.decision_function([some_digit])\n",
        "some_digit_scores_svc"
      ],
      "id": "aerial-squad",
      "execution_count": 62,
      "outputs": [
        {
          "output_type": "execute_result",
          "data": {
            "text/plain": [
              "array([[-0.29818099,  2.75443752,  1.70600536,  5.24322993,  8.27092459,\n",
              "         6.20988898,  0.70090549,  7.27483832,  4.02413208,  9.31106935]])"
            ]
          },
          "metadata": {
            "tags": []
          },
          "execution_count": 62
        }
      ]
    },
    {
      "cell_type": "code",
      "metadata": {
        "colab": {
          "base_uri": "https://localhost:8080/"
        },
        "id": "automated-dispatch",
        "outputId": "7ddae53e-0c28-437b-b864-b4ebf33982ec"
      },
      "source": [
        "np.argmax(some_digit_scores_svc)"
      ],
      "id": "automated-dispatch",
      "execution_count": 63,
      "outputs": [
        {
          "output_type": "execute_result",
          "data": {
            "text/plain": [
              "9"
            ]
          },
          "metadata": {
            "tags": []
          },
          "execution_count": 63
        }
      ]
    },
    {
      "cell_type": "markdown",
      "metadata": {
        "id": "written-identity"
      },
      "source": [
        "### OneVsOneClassifier or OneVsRestClassifier classes."
      ],
      "id": "written-identity"
    },
    {
      "cell_type": "code",
      "metadata": {
        "id": "suspected-closer"
      },
      "source": [
        "from sklearn.multiclass import OneVsOneClassifier\n"
      ],
      "id": "suspected-closer",
      "execution_count": 64,
      "outputs": []
    },
    {
      "cell_type": "markdown",
      "metadata": {
        "id": "conceptual-springer"
      },
      "source": [
        "### OneVsOneClassifier using SGD algorithm"
      ],
      "id": "conceptual-springer"
    },
    {
      "cell_type": "code",
      "metadata": {
        "colab": {
          "base_uri": "https://localhost:8080/"
        },
        "id": "excess-eleven",
        "outputId": "e4cce006-930d-4eb6-fb6c-3a94a15ba6b4"
      },
      "source": [
        "ovo_clf_sgd = OneVsOneClassifier(SGDClassifier(random_state=42))\n",
        "ovo_clf_sgd.fit(X_train, y_train)"
      ],
      "id": "excess-eleven",
      "execution_count": 65,
      "outputs": [
        {
          "output_type": "execute_result",
          "data": {
            "text/plain": [
              "OneVsOneClassifier(estimator=SGDClassifier(alpha=0.0001, average=False,\n",
              "                                           class_weight=None,\n",
              "                                           early_stopping=False, epsilon=0.1,\n",
              "                                           eta0=0.0, fit_intercept=True,\n",
              "                                           l1_ratio=0.15,\n",
              "                                           learning_rate='optimal',\n",
              "                                           loss='hinge', max_iter=1000,\n",
              "                                           n_iter_no_change=5, n_jobs=None,\n",
              "                                           penalty='l2', power_t=0.5,\n",
              "                                           random_state=42, shuffle=True,\n",
              "                                           tol=0.001, validation_fraction=0.1,\n",
              "                                           verbose=0, warm_start=False),\n",
              "                   n_jobs=None)"
            ]
          },
          "metadata": {
            "tags": []
          },
          "execution_count": 65
        }
      ]
    },
    {
      "cell_type": "code",
      "metadata": {
        "colab": {
          "base_uri": "https://localhost:8080/"
        },
        "id": "sufficient-round",
        "outputId": "e92da316-5139-4d2b-8a41-4c1cb9fd3508"
      },
      "source": [
        "ovo_clf_sgd.predict([some_digit])"
      ],
      "id": "sufficient-round",
      "execution_count": 66,
      "outputs": [
        {
          "output_type": "execute_result",
          "data": {
            "text/plain": [
              "array([9], dtype=int8)"
            ]
          },
          "metadata": {
            "tags": []
          },
          "execution_count": 66
        }
      ]
    },
    {
      "cell_type": "markdown",
      "metadata": {
        "id": "dense-dryer"
      },
      "source": [
        "### OneVsOneClassifier using SVM algorithm"
      ],
      "id": "dense-dryer"
    },
    {
      "cell_type": "code",
      "metadata": {
        "colab": {
          "base_uri": "https://localhost:8080/"
        },
        "id": "interstate-novelty",
        "outputId": "ce2bd5ce-b18c-4fda-ed80-01d659201d12"
      },
      "source": [
        "ovo_clf_svc = OneVsOneClassifier(SVC())\n",
        "ovo_clf_svc.fit(X_train, y_train)"
      ],
      "id": "interstate-novelty",
      "execution_count": 67,
      "outputs": [
        {
          "output_type": "execute_result",
          "data": {
            "text/plain": [
              "OneVsOneClassifier(estimator=SVC(C=1.0, break_ties=False, cache_size=200,\n",
              "                                 class_weight=None, coef0=0.0,\n",
              "                                 decision_function_shape='ovr', degree=3,\n",
              "                                 gamma='scale', kernel='rbf', max_iter=-1,\n",
              "                                 probability=False, random_state=None,\n",
              "                                 shrinking=True, tol=0.001, verbose=False),\n",
              "                   n_jobs=None)"
            ]
          },
          "metadata": {
            "tags": []
          },
          "execution_count": 67
        }
      ]
    },
    {
      "cell_type": "code",
      "metadata": {
        "colab": {
          "base_uri": "https://localhost:8080/"
        },
        "id": "chronic-sleeve",
        "outputId": "82e0bb5f-20ef-4d58-d219-1d51fb0cd103"
      },
      "source": [
        "ovo_clf_svc.predict([some_digit])"
      ],
      "id": "chronic-sleeve",
      "execution_count": 68,
      "outputs": [
        {
          "output_type": "execute_result",
          "data": {
            "text/plain": [
              "array([9], dtype=int8)"
            ]
          },
          "metadata": {
            "tags": []
          },
          "execution_count": 68
        }
      ]
    },
    {
      "cell_type": "code",
      "metadata": {
        "colab": {
          "base_uri": "https://localhost:8080/"
        },
        "id": "interim-telescope",
        "outputId": "031c2014-8db3-41f6-cac2-0a36ec83ec6a"
      },
      "source": [
        "len(ovo_clf_svc.estimators_)"
      ],
      "id": "interim-telescope",
      "execution_count": 69,
      "outputs": [
        {
          "output_type": "execute_result",
          "data": {
            "text/plain": [
              "45"
            ]
          },
          "metadata": {
            "tags": []
          },
          "execution_count": 69
        }
      ]
    },
    {
      "cell_type": "markdown",
      "metadata": {
        "id": "hundred-atlas"
      },
      "source": [
        "### Evaluate the SGDClassifier’s accuracy using the cross_val_score() function:"
      ],
      "id": "hundred-atlas"
    },
    {
      "cell_type": "code",
      "metadata": {
        "colab": {
          "base_uri": "https://localhost:8080/"
        },
        "id": "generic-cleaners",
        "outputId": "ed982bfe-9db4-4bf8-b4d4-aef0b09c7b68"
      },
      "source": [
        "cross_val_score(sgd_clf, X_train, y_train, cv=3, scoring=\"accuracy\")"
      ],
      "id": "generic-cleaners",
      "execution_count": 70,
      "outputs": [
        {
          "output_type": "execute_result",
          "data": {
            "text/plain": [
              "array([0.87365, 0.85835, 0.8689 ])"
            ]
          },
          "metadata": {
            "tags": []
          },
          "execution_count": 70
        }
      ]
    },
    {
      "cell_type": "code",
      "metadata": {
        "id": "decimal-thinking"
      },
      "source": [
        "# It gets over 86% on all test folds."
      ],
      "id": "decimal-thinking",
      "execution_count": 71,
      "outputs": []
    },
    {
      "cell_type": "markdown",
      "metadata": {
        "id": "southern-still"
      },
      "source": [
        "### Increase the accuracy by scaling the inputs"
      ],
      "id": "southern-still"
    },
    {
      "cell_type": "code",
      "metadata": {
        "colab": {
          "base_uri": "https://localhost:8080/"
        },
        "id": "realistic-benefit",
        "outputId": "82bc0bcc-551b-41e1-c9b5-c1639da9ec5a"
      },
      "source": [
        "from sklearn.preprocessing import StandardScaler\n",
        "scaler = StandardScaler()\n",
        "X_train_scaled = scaler.fit_transform(X_train.astype(np.float64))\n",
        "cross_val_score(sgd_clf, X_train_scaled, y_train, cv=3, scoring=\"accuracy\")"
      ],
      "id": "realistic-benefit",
      "execution_count": 72,
      "outputs": [
        {
          "output_type": "execute_result",
          "data": {
            "text/plain": [
              "array([0.8983, 0.891 , 0.9018])"
            ]
          },
          "metadata": {
            "tags": []
          },
          "execution_count": 72
        }
      ]
    },
    {
      "cell_type": "markdown",
      "metadata": {
        "id": "every-mathematics"
      },
      "source": [
        "### Random Forest Classifier"
      ],
      "id": "every-mathematics"
    },
    {
      "cell_type": "code",
      "metadata": {
        "colab": {
          "base_uri": "https://localhost:8080/"
        },
        "id": "clean-chick",
        "outputId": "8c556b12-921f-46e4-ae8c-6e0417704b43"
      },
      "source": [
        "forest_clf.fit(X_train,y_train)\n",
        "forest_clf.predict([some_digit])"
      ],
      "id": "clean-chick",
      "execution_count": 73,
      "outputs": [
        {
          "output_type": "execute_result",
          "data": {
            "text/plain": [
              "array([9], dtype=int8)"
            ]
          },
          "metadata": {
            "tags": []
          },
          "execution_count": 73
        }
      ]
    },
    {
      "cell_type": "code",
      "metadata": {
        "colab": {
          "base_uri": "https://localhost:8080/"
        },
        "id": "amateur-failure",
        "outputId": "7259634c-e7f0-4b26-d37d-5abab60b1439"
      },
      "source": [
        "forest_clf.predict_proba([some_digit])"
      ],
      "id": "amateur-failure",
      "execution_count": 74,
      "outputs": [
        {
          "output_type": "execute_result",
          "data": {
            "text/plain": [
              "array([[0.  , 0.  , 0.  , 0.01, 0.01, 0.04, 0.  , 0.07, 0.01, 0.86]])"
            ]
          },
          "metadata": {
            "tags": []
          },
          "execution_count": 74
        }
      ]
    },
    {
      "cell_type": "markdown",
      "metadata": {
        "id": "wound-intent"
      },
      "source": [
        "### The model estimates an 86% probability that the image represents a 9."
      ],
      "id": "wound-intent"
    },
    {
      "cell_type": "code",
      "metadata": {
        "id": "changing-solid"
      },
      "source": [
        ""
      ],
      "id": "changing-solid",
      "execution_count": 74,
      "outputs": []
    },
    {
      "cell_type": "code",
      "metadata": {
        "colab": {
          "base_uri": "https://localhost:8080/"
        },
        "id": "specified-accommodation",
        "outputId": "74e5e202-e46a-42c9-cba9-ba946b18ebad"
      },
      "source": [
        "from sklearn.model_selection import GridSearchCV\n",
        "\n",
        "param_grid = [\n",
        "    # try 12 (3×4) combinations of hyperparameters\n",
        "    {'n_estimators': [3, 10, 30], 'max_features': [2, 4, 6, 11]},\n",
        "    # then try 6 (2×3) combinations with bootstrap set as False\n",
        "    {'bootstrap': [False], 'n_estimators': [3, 10, 30, 40], 'max_features': [2, 3, 4, 8, 11]},\n",
        "  ]\n",
        "\n",
        "# train across 5 folds, that's a total of (12+6)*5=90 rounds of training \n",
        "grid_search = GridSearchCV(forest_clf, param_grid, cv=3, return_train_score=True)\n",
        "grid_search.fit(X_train,y_train)"
      ],
      "id": "specified-accommodation",
      "execution_count": 75,
      "outputs": [
        {
          "output_type": "execute_result",
          "data": {
            "text/plain": [
              "GridSearchCV(cv=3, error_score=nan,\n",
              "             estimator=RandomForestClassifier(bootstrap=True, ccp_alpha=0.0,\n",
              "                                              class_weight=None,\n",
              "                                              criterion='gini', max_depth=None,\n",
              "                                              max_features='auto',\n",
              "                                              max_leaf_nodes=None,\n",
              "                                              max_samples=None,\n",
              "                                              min_impurity_decrease=0.0,\n",
              "                                              min_impurity_split=None,\n",
              "                                              min_samples_leaf=1,\n",
              "                                              min_samples_split=2,\n",
              "                                              min_weight_fraction_leaf=0.0,\n",
              "                                              n_estimators=100, n_jobs=None,\n",
              "                                              oob_score=False, random_state=42,\n",
              "                                              verbose=0, warm_start=False),\n",
              "             iid='deprecated', n_jobs=None,\n",
              "             param_grid=[{'max_features': [2, 4, 6, 11],\n",
              "                          'n_estimators': [3, 10, 30]},\n",
              "                         {'bootstrap': [False],\n",
              "                          'max_features': [2, 3, 4, 8, 11],\n",
              "                          'n_estimators': [3, 10, 30, 40]}],\n",
              "             pre_dispatch='2*n_jobs', refit=True, return_train_score=True,\n",
              "             scoring=None, verbose=0)"
            ]
          },
          "metadata": {
            "tags": []
          },
          "execution_count": 75
        }
      ]
    },
    {
      "cell_type": "code",
      "metadata": {
        "collapsed": true,
        "colab": {
          "base_uri": "https://localhost:8080/"
        },
        "id": "hollow-issue",
        "outputId": "3ffdc1e3-a05d-442b-faa9-7375e8178b73"
      },
      "source": [
        "cvres = grid_search.cv_results_\n",
        "for mean_score, params in zip(cvres[\"mean_test_score\"], cvres[\"params\"]):\n",
        "    print(np.sqrt(-mean_score), params)"
      ],
      "id": "hollow-issue",
      "execution_count": 76,
      "outputs": [
        {
          "output_type": "stream",
          "text": [
            "nan {'max_features': 2, 'n_estimators': 3}\n",
            "nan {'max_features': 2, 'n_estimators': 10}\n",
            "nan {'max_features': 2, 'n_estimators': 30}\n",
            "nan {'max_features': 4, 'n_estimators': 3}\n",
            "nan {'max_features': 4, 'n_estimators': 10}\n",
            "nan {'max_features': 4, 'n_estimators': 30}\n",
            "nan {'max_features': 6, 'n_estimators': 3}\n",
            "nan {'max_features': 6, 'n_estimators': 10}\n",
            "nan {'max_features': 6, 'n_estimators': 30}\n",
            "nan {'max_features': 11, 'n_estimators': 3}\n",
            "nan {'max_features': 11, 'n_estimators': 10}\n",
            "nan {'max_features': 11, 'n_estimators': 30}\n",
            "nan {'bootstrap': False, 'max_features': 2, 'n_estimators': 3}\n",
            "nan {'bootstrap': False, 'max_features': 2, 'n_estimators': 10}\n",
            "nan {'bootstrap': False, 'max_features': 2, 'n_estimators': 30}\n",
            "nan {'bootstrap': False, 'max_features': 2, 'n_estimators': 40}\n",
            "nan {'bootstrap': False, 'max_features': 3, 'n_estimators': 3}\n",
            "nan {'bootstrap': False, 'max_features': 3, 'n_estimators': 10}\n",
            "nan {'bootstrap': False, 'max_features': 3, 'n_estimators': 30}\n",
            "nan {'bootstrap': False, 'max_features': 3, 'n_estimators': 40}\n",
            "nan {'bootstrap': False, 'max_features': 4, 'n_estimators': 3}\n",
            "nan {'bootstrap': False, 'max_features': 4, 'n_estimators': 10}\n",
            "nan {'bootstrap': False, 'max_features': 4, 'n_estimators': 30}\n",
            "nan {'bootstrap': False, 'max_features': 4, 'n_estimators': 40}\n",
            "nan {'bootstrap': False, 'max_features': 8, 'n_estimators': 3}\n",
            "nan {'bootstrap': False, 'max_features': 8, 'n_estimators': 10}\n",
            "nan {'bootstrap': False, 'max_features': 8, 'n_estimators': 30}\n",
            "nan {'bootstrap': False, 'max_features': 8, 'n_estimators': 40}\n",
            "nan {'bootstrap': False, 'max_features': 11, 'n_estimators': 3}\n",
            "nan {'bootstrap': False, 'max_features': 11, 'n_estimators': 10}\n",
            "nan {'bootstrap': False, 'max_features': 11, 'n_estimators': 30}\n",
            "nan {'bootstrap': False, 'max_features': 11, 'n_estimators': 40}\n"
          ],
          "name": "stdout"
        }
      ]
    },
    {
      "cell_type": "code",
      "metadata": {
        "collapsed": true,
        "colab": {
          "base_uri": "https://localhost:8080/",
          "height": 1000
        },
        "id": "pacific-jacket",
        "outputId": "6c1e047f-4fea-4dad-e1a2-6ddbaaf9fa8a"
      },
      "source": [
        "import pandas as pd\n",
        "pd.DataFrame(grid_search.cv_results_)"
      ],
      "id": "pacific-jacket",
      "execution_count": 77,
      "outputs": [
        {
          "output_type": "execute_result",
          "data": {
            "text/html": [
              "<div>\n",
              "<style scoped>\n",
              "    .dataframe tbody tr th:only-of-type {\n",
              "        vertical-align: middle;\n",
              "    }\n",
              "\n",
              "    .dataframe tbody tr th {\n",
              "        vertical-align: top;\n",
              "    }\n",
              "\n",
              "    .dataframe thead th {\n",
              "        text-align: right;\n",
              "    }\n",
              "</style>\n",
              "<table border=\"1\" class=\"dataframe\">\n",
              "  <thead>\n",
              "    <tr style=\"text-align: right;\">\n",
              "      <th></th>\n",
              "      <th>mean_fit_time</th>\n",
              "      <th>std_fit_time</th>\n",
              "      <th>mean_score_time</th>\n",
              "      <th>std_score_time</th>\n",
              "      <th>param_max_features</th>\n",
              "      <th>param_n_estimators</th>\n",
              "      <th>param_bootstrap</th>\n",
              "      <th>params</th>\n",
              "      <th>split0_test_score</th>\n",
              "      <th>split1_test_score</th>\n",
              "      <th>split2_test_score</th>\n",
              "      <th>mean_test_score</th>\n",
              "      <th>std_test_score</th>\n",
              "      <th>rank_test_score</th>\n",
              "      <th>split0_train_score</th>\n",
              "      <th>split1_train_score</th>\n",
              "      <th>split2_train_score</th>\n",
              "      <th>mean_train_score</th>\n",
              "      <th>std_train_score</th>\n",
              "    </tr>\n",
              "  </thead>\n",
              "  <tbody>\n",
              "    <tr>\n",
              "      <th>0</th>\n",
              "      <td>0.422035</td>\n",
              "      <td>0.088964</td>\n",
              "      <td>0.065729</td>\n",
              "      <td>0.000671</td>\n",
              "      <td>2</td>\n",
              "      <td>3</td>\n",
              "      <td>NaN</td>\n",
              "      <td>{'max_features': 2, 'n_estimators': 3}</td>\n",
              "      <td>0.77350</td>\n",
              "      <td>0.77090</td>\n",
              "      <td>0.77740</td>\n",
              "      <td>0.773933</td>\n",
              "      <td>0.002671</td>\n",
              "      <td>32</td>\n",
              "      <td>0.962100</td>\n",
              "      <td>0.961800</td>\n",
              "      <td>0.960625</td>\n",
              "      <td>0.961508</td>\n",
              "      <td>0.000637</td>\n",
              "    </tr>\n",
              "    <tr>\n",
              "      <th>1</th>\n",
              "      <td>0.749464</td>\n",
              "      <td>0.004239</td>\n",
              "      <td>0.137845</td>\n",
              "      <td>0.000360</td>\n",
              "      <td>2</td>\n",
              "      <td>10</td>\n",
              "      <td>NaN</td>\n",
              "      <td>{'max_features': 2, 'n_estimators': 10}</td>\n",
              "      <td>0.90435</td>\n",
              "      <td>0.90120</td>\n",
              "      <td>0.90755</td>\n",
              "      <td>0.904367</td>\n",
              "      <td>0.002592</td>\n",
              "      <td>23</td>\n",
              "      <td>0.998925</td>\n",
              "      <td>0.998900</td>\n",
              "      <td>0.999175</td>\n",
              "      <td>0.999000</td>\n",
              "      <td>0.000124</td>\n",
              "    </tr>\n",
              "    <tr>\n",
              "      <th>2</th>\n",
              "      <td>1.895238</td>\n",
              "      <td>0.016536</td>\n",
              "      <td>0.359416</td>\n",
              "      <td>0.003178</td>\n",
              "      <td>2</td>\n",
              "      <td>30</td>\n",
              "      <td>NaN</td>\n",
              "      <td>{'max_features': 2, 'n_estimators': 30}</td>\n",
              "      <td>0.94045</td>\n",
              "      <td>0.93980</td>\n",
              "      <td>0.94355</td>\n",
              "      <td>0.941267</td>\n",
              "      <td>0.001636</td>\n",
              "      <td>14</td>\n",
              "      <td>1.000000</td>\n",
              "      <td>1.000000</td>\n",
              "      <td>1.000000</td>\n",
              "      <td>1.000000</td>\n",
              "      <td>0.000000</td>\n",
              "    </tr>\n",
              "    <tr>\n",
              "      <th>3</th>\n",
              "      <td>0.400485</td>\n",
              "      <td>0.002063</td>\n",
              "      <td>0.066409</td>\n",
              "      <td>0.001485</td>\n",
              "      <td>4</td>\n",
              "      <td>3</td>\n",
              "      <td>NaN</td>\n",
              "      <td>{'max_features': 4, 'n_estimators': 3}</td>\n",
              "      <td>0.79630</td>\n",
              "      <td>0.79295</td>\n",
              "      <td>0.80605</td>\n",
              "      <td>0.798433</td>\n",
              "      <td>0.005557</td>\n",
              "      <td>31</td>\n",
              "      <td>0.965125</td>\n",
              "      <td>0.965500</td>\n",
              "      <td>0.966275</td>\n",
              "      <td>0.965633</td>\n",
              "      <td>0.000479</td>\n",
              "    </tr>\n",
              "    <tr>\n",
              "      <th>4</th>\n",
              "      <td>0.885266</td>\n",
              "      <td>0.000768</td>\n",
              "      <td>0.137854</td>\n",
              "      <td>0.001590</td>\n",
              "      <td>4</td>\n",
              "      <td>10</td>\n",
              "      <td>NaN</td>\n",
              "      <td>{'max_features': 4, 'n_estimators': 10}</td>\n",
              "      <td>0.91370</td>\n",
              "      <td>0.91205</td>\n",
              "      <td>0.91755</td>\n",
              "      <td>0.914433</td>\n",
              "      <td>0.002304</td>\n",
              "      <td>22</td>\n",
              "      <td>0.999175</td>\n",
              "      <td>0.998875</td>\n",
              "      <td>0.999100</td>\n",
              "      <td>0.999050</td>\n",
              "      <td>0.000127</td>\n",
              "    </tr>\n",
              "    <tr>\n",
              "      <th>5</th>\n",
              "      <td>2.276264</td>\n",
              "      <td>0.003737</td>\n",
              "      <td>0.359960</td>\n",
              "      <td>0.009678</td>\n",
              "      <td>4</td>\n",
              "      <td>30</td>\n",
              "      <td>NaN</td>\n",
              "      <td>{'max_features': 4, 'n_estimators': 30}</td>\n",
              "      <td>0.94670</td>\n",
              "      <td>0.94505</td>\n",
              "      <td>0.95005</td>\n",
              "      <td>0.947267</td>\n",
              "      <td>0.002080</td>\n",
              "      <td>13</td>\n",
              "      <td>1.000000</td>\n",
              "      <td>1.000000</td>\n",
              "      <td>1.000000</td>\n",
              "      <td>1.000000</td>\n",
              "      <td>0.000000</td>\n",
              "    </tr>\n",
              "    <tr>\n",
              "      <th>6</th>\n",
              "      <td>0.448657</td>\n",
              "      <td>0.005383</td>\n",
              "      <td>0.064129</td>\n",
              "      <td>0.000547</td>\n",
              "      <td>6</td>\n",
              "      <td>3</td>\n",
              "      <td>NaN</td>\n",
              "      <td>{'max_features': 6, 'n_estimators': 3}</td>\n",
              "      <td>0.81590</td>\n",
              "      <td>0.81150</td>\n",
              "      <td>0.81830</td>\n",
              "      <td>0.815233</td>\n",
              "      <td>0.002816</td>\n",
              "      <td>27</td>\n",
              "      <td>0.969950</td>\n",
              "      <td>0.967675</td>\n",
              "      <td>0.969325</td>\n",
              "      <td>0.968983</td>\n",
              "      <td>0.000960</td>\n",
              "    </tr>\n",
              "    <tr>\n",
              "      <th>7</th>\n",
              "      <td>1.056465</td>\n",
              "      <td>0.002747</td>\n",
              "      <td>0.132385</td>\n",
              "      <td>0.001291</td>\n",
              "      <td>6</td>\n",
              "      <td>10</td>\n",
              "      <td>NaN</td>\n",
              "      <td>{'max_features': 6, 'n_estimators': 10}</td>\n",
              "      <td>0.92225</td>\n",
              "      <td>0.91835</td>\n",
              "      <td>0.92280</td>\n",
              "      <td>0.921133</td>\n",
              "      <td>0.001981</td>\n",
              "      <td>20</td>\n",
              "      <td>0.999200</td>\n",
              "      <td>0.999150</td>\n",
              "      <td>0.999150</td>\n",
              "      <td>0.999167</td>\n",
              "      <td>0.000024</td>\n",
              "    </tr>\n",
              "    <tr>\n",
              "      <th>8</th>\n",
              "      <td>2.781782</td>\n",
              "      <td>0.005160</td>\n",
              "      <td>0.343273</td>\n",
              "      <td>0.001772</td>\n",
              "      <td>6</td>\n",
              "      <td>30</td>\n",
              "      <td>NaN</td>\n",
              "      <td>{'max_features': 6, 'n_estimators': 30}</td>\n",
              "      <td>0.95080</td>\n",
              "      <td>0.94865</td>\n",
              "      <td>0.95215</td>\n",
              "      <td>0.950533</td>\n",
              "      <td>0.001441</td>\n",
              "      <td>10</td>\n",
              "      <td>1.000000</td>\n",
              "      <td>1.000000</td>\n",
              "      <td>0.999950</td>\n",
              "      <td>0.999983</td>\n",
              "      <td>0.000024</td>\n",
              "    </tr>\n",
              "    <tr>\n",
              "      <th>9</th>\n",
              "      <td>0.577140</td>\n",
              "      <td>0.004803</td>\n",
              "      <td>0.062968</td>\n",
              "      <td>0.000264</td>\n",
              "      <td>11</td>\n",
              "      <td>3</td>\n",
              "      <td>NaN</td>\n",
              "      <td>{'max_features': 11, 'n_estimators': 3}</td>\n",
              "      <td>0.83840</td>\n",
              "      <td>0.84160</td>\n",
              "      <td>0.83950</td>\n",
              "      <td>0.839833</td>\n",
              "      <td>0.001327</td>\n",
              "      <td>26</td>\n",
              "      <td>0.971575</td>\n",
              "      <td>0.974950</td>\n",
              "      <td>0.972925</td>\n",
              "      <td>0.973150</td>\n",
              "      <td>0.001387</td>\n",
              "    </tr>\n",
              "    <tr>\n",
              "      <th>10</th>\n",
              "      <td>1.481140</td>\n",
              "      <td>0.009523</td>\n",
              "      <td>0.126600</td>\n",
              "      <td>0.000756</td>\n",
              "      <td>11</td>\n",
              "      <td>10</td>\n",
              "      <td>NaN</td>\n",
              "      <td>{'max_features': 11, 'n_estimators': 10}</td>\n",
              "      <td>0.93225</td>\n",
              "      <td>0.93035</td>\n",
              "      <td>0.93190</td>\n",
              "      <td>0.931500</td>\n",
              "      <td>0.000826</td>\n",
              "      <td>17</td>\n",
              "      <td>0.999125</td>\n",
              "      <td>0.999150</td>\n",
              "      <td>0.999125</td>\n",
              "      <td>0.999133</td>\n",
              "      <td>0.000012</td>\n",
              "    </tr>\n",
              "    <tr>\n",
              "      <th>11</th>\n",
              "      <td>4.063493</td>\n",
              "      <td>0.010857</td>\n",
              "      <td>0.328278</td>\n",
              "      <td>0.001272</td>\n",
              "      <td>11</td>\n",
              "      <td>30</td>\n",
              "      <td>NaN</td>\n",
              "      <td>{'max_features': 11, 'n_estimators': 30}</td>\n",
              "      <td>0.95435</td>\n",
              "      <td>0.95255</td>\n",
              "      <td>0.95670</td>\n",
              "      <td>0.954533</td>\n",
              "      <td>0.001699</td>\n",
              "      <td>6</td>\n",
              "      <td>0.999975</td>\n",
              "      <td>1.000000</td>\n",
              "      <td>0.999975</td>\n",
              "      <td>0.999983</td>\n",
              "      <td>0.000012</td>\n",
              "    </tr>\n",
              "    <tr>\n",
              "      <th>12</th>\n",
              "      <td>0.431900</td>\n",
              "      <td>0.003191</td>\n",
              "      <td>0.068599</td>\n",
              "      <td>0.000208</td>\n",
              "      <td>2</td>\n",
              "      <td>3</td>\n",
              "      <td>False</td>\n",
              "      <td>{'bootstrap': False, 'max_features': 2, 'n_est...</td>\n",
              "      <td>0.80740</td>\n",
              "      <td>0.79935</td>\n",
              "      <td>0.80630</td>\n",
              "      <td>0.804350</td>\n",
              "      <td>0.003564</td>\n",
              "      <td>30</td>\n",
              "      <td>1.000000</td>\n",
              "      <td>1.000000</td>\n",
              "      <td>1.000000</td>\n",
              "      <td>1.000000</td>\n",
              "      <td>0.000000</td>\n",
              "    </tr>\n",
              "    <tr>\n",
              "      <th>13</th>\n",
              "      <td>0.998689</td>\n",
              "      <td>0.002033</td>\n",
              "      <td>0.146876</td>\n",
              "      <td>0.000949</td>\n",
              "      <td>2</td>\n",
              "      <td>10</td>\n",
              "      <td>False</td>\n",
              "      <td>{'bootstrap': False, 'max_features': 2, 'n_est...</td>\n",
              "      <td>0.91935</td>\n",
              "      <td>0.91335</td>\n",
              "      <td>0.91825</td>\n",
              "      <td>0.916983</td>\n",
              "      <td>0.002608</td>\n",
              "      <td>21</td>\n",
              "      <td>1.000000</td>\n",
              "      <td>1.000000</td>\n",
              "      <td>1.000000</td>\n",
              "      <td>1.000000</td>\n",
              "      <td>0.000000</td>\n",
              "    </tr>\n",
              "    <tr>\n",
              "      <th>14</th>\n",
              "      <td>2.615019</td>\n",
              "      <td>0.008547</td>\n",
              "      <td>0.378279</td>\n",
              "      <td>0.002520</td>\n",
              "      <td>2</td>\n",
              "      <td>30</td>\n",
              "      <td>False</td>\n",
              "      <td>{'bootstrap': False, 'max_features': 2, 'n_est...</td>\n",
              "      <td>0.94980</td>\n",
              "      <td>0.94650</td>\n",
              "      <td>0.95205</td>\n",
              "      <td>0.949450</td>\n",
              "      <td>0.002279</td>\n",
              "      <td>12</td>\n",
              "      <td>1.000000</td>\n",
              "      <td>1.000000</td>\n",
              "      <td>1.000000</td>\n",
              "      <td>1.000000</td>\n",
              "      <td>0.000000</td>\n",
              "    </tr>\n",
              "    <tr>\n",
              "      <th>15</th>\n",
              "      <td>3.439178</td>\n",
              "      <td>0.012911</td>\n",
              "      <td>0.494754</td>\n",
              "      <td>0.001234</td>\n",
              "      <td>2</td>\n",
              "      <td>40</td>\n",
              "      <td>False</td>\n",
              "      <td>{'bootstrap': False, 'max_features': 2, 'n_est...</td>\n",
              "      <td>0.95155</td>\n",
              "      <td>0.95005</td>\n",
              "      <td>0.95575</td>\n",
              "      <td>0.952450</td>\n",
              "      <td>0.002412</td>\n",
              "      <td>9</td>\n",
              "      <td>1.000000</td>\n",
              "      <td>1.000000</td>\n",
              "      <td>1.000000</td>\n",
              "      <td>1.000000</td>\n",
              "      <td>0.000000</td>\n",
              "    </tr>\n",
              "    <tr>\n",
              "      <th>16</th>\n",
              "      <td>0.466346</td>\n",
              "      <td>0.002593</td>\n",
              "      <td>0.068041</td>\n",
              "      <td>0.000680</td>\n",
              "      <td>3</td>\n",
              "      <td>3</td>\n",
              "      <td>False</td>\n",
              "      <td>{'bootstrap': False, 'max_features': 3, 'n_est...</td>\n",
              "      <td>0.81830</td>\n",
              "      <td>0.80170</td>\n",
              "      <td>0.81885</td>\n",
              "      <td>0.812950</td>\n",
              "      <td>0.007958</td>\n",
              "      <td>29</td>\n",
              "      <td>1.000000</td>\n",
              "      <td>1.000000</td>\n",
              "      <td>1.000000</td>\n",
              "      <td>1.000000</td>\n",
              "      <td>0.000000</td>\n",
              "    </tr>\n",
              "    <tr>\n",
              "      <th>17</th>\n",
              "      <td>1.113697</td>\n",
              "      <td>0.002231</td>\n",
              "      <td>0.144490</td>\n",
              "      <td>0.001150</td>\n",
              "      <td>3</td>\n",
              "      <td>10</td>\n",
              "      <td>False</td>\n",
              "      <td>{'bootstrap': False, 'max_features': 3, 'n_est...</td>\n",
              "      <td>0.92360</td>\n",
              "      <td>0.91790</td>\n",
              "      <td>0.92455</td>\n",
              "      <td>0.922017</td>\n",
              "      <td>0.002937</td>\n",
              "      <td>19</td>\n",
              "      <td>1.000000</td>\n",
              "      <td>1.000000</td>\n",
              "      <td>1.000000</td>\n",
              "      <td>1.000000</td>\n",
              "      <td>0.000000</td>\n",
              "    </tr>\n",
              "    <tr>\n",
              "      <th>18</th>\n",
              "      <td>2.972981</td>\n",
              "      <td>0.016177</td>\n",
              "      <td>0.370500</td>\n",
              "      <td>0.004336</td>\n",
              "      <td>3</td>\n",
              "      <td>30</td>\n",
              "      <td>False</td>\n",
              "      <td>{'bootstrap': False, 'max_features': 3, 'n_est...</td>\n",
              "      <td>0.94990</td>\n",
              "      <td>0.94805</td>\n",
              "      <td>0.95290</td>\n",
              "      <td>0.950283</td>\n",
              "      <td>0.001998</td>\n",
              "      <td>11</td>\n",
              "      <td>1.000000</td>\n",
              "      <td>1.000000</td>\n",
              "      <td>1.000000</td>\n",
              "      <td>1.000000</td>\n",
              "      <td>0.000000</td>\n",
              "    </tr>\n",
              "    <tr>\n",
              "      <th>19</th>\n",
              "      <td>3.931223</td>\n",
              "      <td>0.017562</td>\n",
              "      <td>0.480980</td>\n",
              "      <td>0.002990</td>\n",
              "      <td>3</td>\n",
              "      <td>40</td>\n",
              "      <td>False</td>\n",
              "      <td>{'bootstrap': False, 'max_features': 3, 'n_est...</td>\n",
              "      <td>0.95420</td>\n",
              "      <td>0.95070</td>\n",
              "      <td>0.95700</td>\n",
              "      <td>0.953967</td>\n",
              "      <td>0.002577</td>\n",
              "      <td>7</td>\n",
              "      <td>1.000000</td>\n",
              "      <td>1.000000</td>\n",
              "      <td>1.000000</td>\n",
              "      <td>1.000000</td>\n",
              "      <td>0.000000</td>\n",
              "    </tr>\n",
              "    <tr>\n",
              "      <th>20</th>\n",
              "      <td>0.505994</td>\n",
              "      <td>0.003538</td>\n",
              "      <td>0.067149</td>\n",
              "      <td>0.000199</td>\n",
              "      <td>4</td>\n",
              "      <td>3</td>\n",
              "      <td>False</td>\n",
              "      <td>{'bootstrap': False, 'max_features': 4, 'n_est...</td>\n",
              "      <td>0.81295</td>\n",
              "      <td>0.81235</td>\n",
              "      <td>0.81935</td>\n",
              "      <td>0.814883</td>\n",
              "      <td>0.003168</td>\n",
              "      <td>28</td>\n",
              "      <td>1.000000</td>\n",
              "      <td>1.000000</td>\n",
              "      <td>1.000000</td>\n",
              "      <td>1.000000</td>\n",
              "      <td>0.000000</td>\n",
              "    </tr>\n",
              "    <tr>\n",
              "      <th>21</th>\n",
              "      <td>1.228296</td>\n",
              "      <td>0.004734</td>\n",
              "      <td>0.141656</td>\n",
              "      <td>0.000908</td>\n",
              "      <td>4</td>\n",
              "      <td>10</td>\n",
              "      <td>False</td>\n",
              "      <td>{'bootstrap': False, 'max_features': 4, 'n_est...</td>\n",
              "      <td>0.92540</td>\n",
              "      <td>0.91880</td>\n",
              "      <td>0.92495</td>\n",
              "      <td>0.923050</td>\n",
              "      <td>0.003011</td>\n",
              "      <td>18</td>\n",
              "      <td>1.000000</td>\n",
              "      <td>1.000000</td>\n",
              "      <td>1.000000</td>\n",
              "      <td>1.000000</td>\n",
              "      <td>0.000000</td>\n",
              "    </tr>\n",
              "    <tr>\n",
              "      <th>22</th>\n",
              "      <td>3.326970</td>\n",
              "      <td>0.014590</td>\n",
              "      <td>0.361948</td>\n",
              "      <td>0.002637</td>\n",
              "      <td>4</td>\n",
              "      <td>30</td>\n",
              "      <td>False</td>\n",
              "      <td>{'bootstrap': False, 'max_features': 4, 'n_est...</td>\n",
              "      <td>0.95240</td>\n",
              "      <td>0.95240</td>\n",
              "      <td>0.95610</td>\n",
              "      <td>0.953633</td>\n",
              "      <td>0.001744</td>\n",
              "      <td>8</td>\n",
              "      <td>1.000000</td>\n",
              "      <td>1.000000</td>\n",
              "      <td>1.000000</td>\n",
              "      <td>1.000000</td>\n",
              "      <td>0.000000</td>\n",
              "    </tr>\n",
              "    <tr>\n",
              "      <th>23</th>\n",
              "      <td>4.387277</td>\n",
              "      <td>0.031584</td>\n",
              "      <td>0.465467</td>\n",
              "      <td>0.006271</td>\n",
              "      <td>4</td>\n",
              "      <td>40</td>\n",
              "      <td>False</td>\n",
              "      <td>{'bootstrap': False, 'max_features': 4, 'n_est...</td>\n",
              "      <td>0.95490</td>\n",
              "      <td>0.95520</td>\n",
              "      <td>0.95840</td>\n",
              "      <td>0.956167</td>\n",
              "      <td>0.001584</td>\n",
              "      <td>5</td>\n",
              "      <td>1.000000</td>\n",
              "      <td>1.000000</td>\n",
              "      <td>1.000000</td>\n",
              "      <td>1.000000</td>\n",
              "      <td>0.000000</td>\n",
              "    </tr>\n",
              "    <tr>\n",
              "      <th>24</th>\n",
              "      <td>0.656233</td>\n",
              "      <td>0.005191</td>\n",
              "      <td>0.065539</td>\n",
              "      <td>0.000963</td>\n",
              "      <td>8</td>\n",
              "      <td>3</td>\n",
              "      <td>False</td>\n",
              "      <td>{'bootstrap': False, 'max_features': 8, 'n_est...</td>\n",
              "      <td>0.84180</td>\n",
              "      <td>0.84665</td>\n",
              "      <td>0.85305</td>\n",
              "      <td>0.847167</td>\n",
              "      <td>0.004607</td>\n",
              "      <td>25</td>\n",
              "      <td>1.000000</td>\n",
              "      <td>1.000000</td>\n",
              "      <td>1.000000</td>\n",
              "      <td>1.000000</td>\n",
              "      <td>0.000000</td>\n",
              "    </tr>\n",
              "    <tr>\n",
              "      <th>25</th>\n",
              "      <td>1.753755</td>\n",
              "      <td>0.005208</td>\n",
              "      <td>0.135472</td>\n",
              "      <td>0.001812</td>\n",
              "      <td>8</td>\n",
              "      <td>10</td>\n",
              "      <td>False</td>\n",
              "      <td>{'bootstrap': False, 'max_features': 8, 'n_est...</td>\n",
              "      <td>0.93615</td>\n",
              "      <td>0.93285</td>\n",
              "      <td>0.93565</td>\n",
              "      <td>0.934883</td>\n",
              "      <td>0.001452</td>\n",
              "      <td>16</td>\n",
              "      <td>1.000000</td>\n",
              "      <td>1.000000</td>\n",
              "      <td>1.000000</td>\n",
              "      <td>1.000000</td>\n",
              "      <td>0.000000</td>\n",
              "    </tr>\n",
              "    <tr>\n",
              "      <th>26</th>\n",
              "      <td>4.917808</td>\n",
              "      <td>0.017925</td>\n",
              "      <td>0.350361</td>\n",
              "      <td>0.002254</td>\n",
              "      <td>8</td>\n",
              "      <td>30</td>\n",
              "      <td>False</td>\n",
              "      <td>{'bootstrap': False, 'max_features': 8, 'n_est...</td>\n",
              "      <td>0.95830</td>\n",
              "      <td>0.95635</td>\n",
              "      <td>0.96000</td>\n",
              "      <td>0.958217</td>\n",
              "      <td>0.001491</td>\n",
              "      <td>4</td>\n",
              "      <td>1.000000</td>\n",
              "      <td>1.000000</td>\n",
              "      <td>1.000000</td>\n",
              "      <td>1.000000</td>\n",
              "      <td>0.000000</td>\n",
              "    </tr>\n",
              "    <tr>\n",
              "      <th>27</th>\n",
              "      <td>6.516601</td>\n",
              "      <td>0.010682</td>\n",
              "      <td>0.441054</td>\n",
              "      <td>0.001511</td>\n",
              "      <td>8</td>\n",
              "      <td>40</td>\n",
              "      <td>False</td>\n",
              "      <td>{'bootstrap': False, 'max_features': 8, 'n_est...</td>\n",
              "      <td>0.96035</td>\n",
              "      <td>0.95865</td>\n",
              "      <td>0.96260</td>\n",
              "      <td>0.960533</td>\n",
              "      <td>0.001618</td>\n",
              "      <td>2</td>\n",
              "      <td>1.000000</td>\n",
              "      <td>1.000000</td>\n",
              "      <td>1.000000</td>\n",
              "      <td>1.000000</td>\n",
              "      <td>0.000000</td>\n",
              "    </tr>\n",
              "    <tr>\n",
              "      <th>28</th>\n",
              "      <td>0.772964</td>\n",
              "      <td>0.008478</td>\n",
              "      <td>0.064318</td>\n",
              "      <td>0.000182</td>\n",
              "      <td>11</td>\n",
              "      <td>3</td>\n",
              "      <td>False</td>\n",
              "      <td>{'bootstrap': False, 'max_features': 11, 'n_es...</td>\n",
              "      <td>0.85775</td>\n",
              "      <td>0.85495</td>\n",
              "      <td>0.86005</td>\n",
              "      <td>0.857583</td>\n",
              "      <td>0.002085</td>\n",
              "      <td>24</td>\n",
              "      <td>1.000000</td>\n",
              "      <td>1.000000</td>\n",
              "      <td>1.000000</td>\n",
              "      <td>1.000000</td>\n",
              "      <td>0.000000</td>\n",
              "    </tr>\n",
              "    <tr>\n",
              "      <th>29</th>\n",
              "      <td>2.164032</td>\n",
              "      <td>0.001517</td>\n",
              "      <td>0.129703</td>\n",
              "      <td>0.000800</td>\n",
              "      <td>11</td>\n",
              "      <td>10</td>\n",
              "      <td>False</td>\n",
              "      <td>{'bootstrap': False, 'max_features': 11, 'n_es...</td>\n",
              "      <td>0.93960</td>\n",
              "      <td>0.93875</td>\n",
              "      <td>0.94145</td>\n",
              "      <td>0.939933</td>\n",
              "      <td>0.001127</td>\n",
              "      <td>15</td>\n",
              "      <td>1.000000</td>\n",
              "      <td>1.000000</td>\n",
              "      <td>1.000000</td>\n",
              "      <td>1.000000</td>\n",
              "      <td>0.000000</td>\n",
              "    </tr>\n",
              "    <tr>\n",
              "      <th>30</th>\n",
              "      <td>6.218895</td>\n",
              "      <td>0.038770</td>\n",
              "      <td>0.350930</td>\n",
              "      <td>0.001373</td>\n",
              "      <td>11</td>\n",
              "      <td>30</td>\n",
              "      <td>False</td>\n",
              "      <td>{'bootstrap': False, 'max_features': 11, 'n_es...</td>\n",
              "      <td>0.96070</td>\n",
              "      <td>0.95935</td>\n",
              "      <td>0.96140</td>\n",
              "      <td>0.960483</td>\n",
              "      <td>0.000851</td>\n",
              "      <td>3</td>\n",
              "      <td>1.000000</td>\n",
              "      <td>1.000000</td>\n",
              "      <td>1.000000</td>\n",
              "      <td>1.000000</td>\n",
              "      <td>0.000000</td>\n",
              "    </tr>\n",
              "    <tr>\n",
              "      <th>31</th>\n",
              "      <td>8.181895</td>\n",
              "      <td>0.017416</td>\n",
              "      <td>0.444305</td>\n",
              "      <td>0.003567</td>\n",
              "      <td>11</td>\n",
              "      <td>40</td>\n",
              "      <td>False</td>\n",
              "      <td>{'bootstrap': False, 'max_features': 11, 'n_es...</td>\n",
              "      <td>0.96170</td>\n",
              "      <td>0.96150</td>\n",
              "      <td>0.96495</td>\n",
              "      <td>0.962717</td>\n",
              "      <td>0.001581</td>\n",
              "      <td>1</td>\n",
              "      <td>1.000000</td>\n",
              "      <td>1.000000</td>\n",
              "      <td>1.000000</td>\n",
              "      <td>1.000000</td>\n",
              "      <td>0.000000</td>\n",
              "    </tr>\n",
              "  </tbody>\n",
              "</table>\n",
              "</div>"
            ],
            "text/plain": [
              "    mean_fit_time  std_fit_time  ...  mean_train_score  std_train_score\n",
              "0        0.422035      0.088964  ...          0.961508         0.000637\n",
              "1        0.749464      0.004239  ...          0.999000         0.000124\n",
              "2        1.895238      0.016536  ...          1.000000         0.000000\n",
              "3        0.400485      0.002063  ...          0.965633         0.000479\n",
              "4        0.885266      0.000768  ...          0.999050         0.000127\n",
              "5        2.276264      0.003737  ...          1.000000         0.000000\n",
              "6        0.448657      0.005383  ...          0.968983         0.000960\n",
              "7        1.056465      0.002747  ...          0.999167         0.000024\n",
              "8        2.781782      0.005160  ...          0.999983         0.000024\n",
              "9        0.577140      0.004803  ...          0.973150         0.001387\n",
              "10       1.481140      0.009523  ...          0.999133         0.000012\n",
              "11       4.063493      0.010857  ...          0.999983         0.000012\n",
              "12       0.431900      0.003191  ...          1.000000         0.000000\n",
              "13       0.998689      0.002033  ...          1.000000         0.000000\n",
              "14       2.615019      0.008547  ...          1.000000         0.000000\n",
              "15       3.439178      0.012911  ...          1.000000         0.000000\n",
              "16       0.466346      0.002593  ...          1.000000         0.000000\n",
              "17       1.113697      0.002231  ...          1.000000         0.000000\n",
              "18       2.972981      0.016177  ...          1.000000         0.000000\n",
              "19       3.931223      0.017562  ...          1.000000         0.000000\n",
              "20       0.505994      0.003538  ...          1.000000         0.000000\n",
              "21       1.228296      0.004734  ...          1.000000         0.000000\n",
              "22       3.326970      0.014590  ...          1.000000         0.000000\n",
              "23       4.387277      0.031584  ...          1.000000         0.000000\n",
              "24       0.656233      0.005191  ...          1.000000         0.000000\n",
              "25       1.753755      0.005208  ...          1.000000         0.000000\n",
              "26       4.917808      0.017925  ...          1.000000         0.000000\n",
              "27       6.516601      0.010682  ...          1.000000         0.000000\n",
              "28       0.772964      0.008478  ...          1.000000         0.000000\n",
              "29       2.164032      0.001517  ...          1.000000         0.000000\n",
              "30       6.218895      0.038770  ...          1.000000         0.000000\n",
              "31       8.181895      0.017416  ...          1.000000         0.000000\n",
              "\n",
              "[32 rows x 19 columns]"
            ]
          },
          "metadata": {
            "tags": []
          },
          "execution_count": 77
        }
      ]
    },
    {
      "cell_type": "code",
      "metadata": {
        "colab": {
          "base_uri": "https://localhost:8080/"
        },
        "id": "assumed-constitutional",
        "outputId": "38255d92-785a-437d-e43c-ef538b53fdd9"
      },
      "source": [
        "print(\"Best parameters:\", grid_search.best_params_)"
      ],
      "id": "assumed-constitutional",
      "execution_count": 78,
      "outputs": [
        {
          "output_type": "stream",
          "text": [
            "Best parameters: {'bootstrap': False, 'max_features': 11, 'n_estimators': 40}\n"
          ],
          "name": "stdout"
        }
      ]
    },
    {
      "cell_type": "code",
      "metadata": {
        "id": "suspended-antibody"
      },
      "source": [
        ""
      ],
      "id": "suspended-antibody",
      "execution_count": 78,
      "outputs": []
    },
    {
      "cell_type": "code",
      "metadata": {
        "id": "optical-vertex"
      },
      "source": [
        ""
      ],
      "id": "optical-vertex",
      "execution_count": 78,
      "outputs": []
    },
    {
      "cell_type": "markdown",
      "metadata": {
        "id": "negative-depression"
      },
      "source": [
        "# Error Analysis"
      ],
      "id": "negative-depression"
    },
    {
      "cell_type": "code",
      "metadata": {
        "colab": {
          "base_uri": "https://localhost:8080/"
        },
        "id": "limited-oracle",
        "outputId": "1f8dd591-ebe7-4b26-bbc0-77f2bad78912"
      },
      "source": [
        "y_train_pred = cross_val_predict(sgd_clf, X_train_scaled, y_train, cv=3)\n",
        "conf_mx = confusion_matrix(y_train, y_train_pred)\n",
        "conf_mx"
      ],
      "id": "limited-oracle",
      "execution_count": 103,
      "outputs": [
        {
          "output_type": "execute_result",
          "data": {
            "text/plain": [
              "array([[5577,    0,   22,    5,    8,   43,   36,    6,  225,    1],\n",
              "       [   0, 6400,   37,   24,    4,   44,    4,    7,  212,   10],\n",
              "       [  27,   27, 5220,   92,   73,   27,   67,   36,  378,   11],\n",
              "       [  22,   17,  117, 5227,    2,  203,   27,   40,  403,   73],\n",
              "       [  12,   14,   41,    9, 5182,   12,   34,   27,  347,  164],\n",
              "       [  27,   15,   30,  168,   53, 4444,   75,   14,  535,   60],\n",
              "       [  30,   15,   42,    3,   44,   97, 5552,    3,  131,    1],\n",
              "       [  21,   10,   51,   30,   49,   12,    3, 5684,  195,  210],\n",
              "       [  17,   63,   48,   86,    3,  126,   25,   10, 5429,   44],\n",
              "       [  25,   18,   30,   64,  118,   36,    1,  179,  371, 5107]])"
            ]
          },
          "metadata": {
            "tags": []
          },
          "execution_count": 103
        }
      ]
    },
    {
      "cell_type": "markdown",
      "metadata": {
        "id": "-sJgZxG07BcM"
      },
      "source": [
        "#### To plot the confusion matrix:\r\n",
        "\r\n",
        "#### PLot of corrected values"
      ],
      "id": "-sJgZxG07BcM"
    },
    {
      "cell_type": "code",
      "metadata": {
        "colab": {
          "base_uri": "https://localhost:8080/",
          "height": 278
        },
        "id": "prospective-recommendation",
        "outputId": "059624d6-23e3-4a21-a1a6-89d2629998e9"
      },
      "source": [
        "plt.matshow(conf_mx, cmap=plt.cm.gray)\r\n",
        "plt.show()"
      ],
      "id": "prospective-recommendation",
      "execution_count": 86,
      "outputs": [
        {
          "output_type": "display_data",
          "data": {
            "image/png": "[encoded data removed]",
            "text/plain": [
              "<Figure size 288x288 with 1 Axes>"
            ]
          },
          "metadata": {
            "tags": [],
            "needs_background": "light"
          }
        }
      ]
    },
    {
      "cell_type": "markdown",
      "metadata": {
        "id": "wllsGSuM7dpl"
      },
      "source": [
        "#### The most images are in the main diagonal which means most of the numbers were classified correctly."
      ],
      "id": "wllsGSuM7dpl"
    },
    {
      "cell_type": "code",
      "metadata": {
        "colab": {
          "base_uri": "https://localhost:8080/"
        },
        "id": "roman-ministry",
        "outputId": "9530c660-e40f-4e28-dcf5-a907c39486b2"
      },
      "source": [
        "conf_mx.max(1)"
      ],
      "id": "roman-ministry",
      "execution_count": 99,
      "outputs": [
        {
          "output_type": "execute_result",
          "data": {
            "text/plain": [
              "array([5577, 6400, 5220, 5227, 5182, 4444, 5552, 5684, 5429, 5107])"
            ]
          },
          "metadata": {
            "tags": []
          },
          "execution_count": 99
        }
      ]
    },
    {
      "cell_type": "code",
      "metadata": {
        "id": "interior-cornwall"
      },
      "source": [
        "row_sums = conf_mx.sum(axis=1, keepdims=True)\r\n",
        "norm_conf_mx = conf_mx / row_sums"
      ],
      "id": "interior-cornwall",
      "execution_count": 101,
      "outputs": []
    },
    {
      "cell_type": "markdown",
      "metadata": {
        "id": "hSqdoiQAB5-l"
      },
      "source": [
        "#### Plot of Errors"
      ],
      "id": "hSqdoiQAB5-l"
    },
    {
      "cell_type": "code",
      "metadata": {
        "colab": {
          "base_uri": "https://localhost:8080/",
          "height": 295
        },
        "id": "extreme-wells",
        "outputId": "da13a92e-aad2-45a7-a5d9-1714da315ab1"
      },
      "source": [
        "np.fill_diagonal(norm_conf_mx, 0)\r\n",
        "plt.matshow(norm_conf_mx, cmap=plt.cm.gray)\r\n",
        "save_fig(\"confusion_matrix_errors_plot\", tight_layout=False)\r\n",
        "plt.show()"
      ],
      "id": "extreme-wells",
      "execution_count": 102,
      "outputs": [
        {
          "output_type": "stream",
          "text": [
            "Saving figure confusion_matrix_errors_plot\n"
          ],
          "name": "stdout"
        },
        {
          "output_type": "display_data",
          "data": {
            "image/png": "[encoded data removed]",
            "text/plain": [
              "<Figure size 288x288 with 1 Axes>"
            ]
          },
          "metadata": {
            "tags": [],
            "needs_background": "light"
          }
        }
      ]
    },
    {
      "cell_type": "markdown",
      "metadata": {
        "id": "DrPeYO_sGpl_"
      },
      "source": [
        "Summary:\r\n",
        "\r\n",
        "*   The rows represent actual classes, while columns represent predicted classes.\r\n",
        "*   The column for classes 8 is quite bright, which means many images get misclassified as 8s.\r\n",
        "*   However, the roe for class 8 is not that bad, meaning that actual 8s get properly classified. \r\n",
        "*   Some rows are pretty dark,such as row 1: this means that most 1s are classified correctly (a few are confused with 8s, but that’s about it).\r\n",
        "*   3s and 5s often get confused.\r\n",
        "\r\n",
        "*   A note about SGD classifier:\r\n",
        "A simple SGDClassifier is a linear model. All it does is assign a\r\n",
        "weight per class to each pixel, and when it sees a new image it just sums up the weighted pixel intensities to get a score for each class. Since 3s and 5s differ only by a few pixels, this model will easily confuse them.\r\n",
        "\r\n",
        "\r\n"
      ],
      "id": "DrPeYO_sGpl_"
    },
    {
      "cell_type": "code",
      "metadata": {
        "id": "vOewwcZI-7O0"
      },
      "source": [
        ""
      ],
      "id": "vOewwcZI-7O0",
      "execution_count": null,
      "outputs": []
    }
  ]
}