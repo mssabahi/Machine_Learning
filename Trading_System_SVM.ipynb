{
  "nbformat": 4,
  "nbformat_minor": 0,
  "metadata": {
    "anaconda-cloud": {},
    "celltoolbar": "Raw Cell Format",
    "colab": {
      "name": "Trading_System_SVM.ipynb",
      "provenance": [],
      "collapsed_sections": [
        "9c_Nsih3V_OK"
      ],
      "include_colab_link": true
    },
    "kernelspec": {
      "display_name": "Python 3",
      "language": "python",
      "name": "python3"
    },
    "language_info": {
      "codemirror_mode": {
        "name": "ipython",
        "version": 3
      },
      "file_extension": ".py",
      "mimetype": "text/x-python",
      "name": "python",
      "nbconvert_exporter": "python",
      "pygments_lexer": "ipython3",
      "version": "3.7.10"
    }
  },
  "cells": [
    {
      "cell_type": "markdown",
      "metadata": {
        "id": "view-in-github",
        "colab_type": "text"
      },
      "source": [
        "<a href=\"https://colab.research.google.com/github/mssabahi/Machine_Learning/blob/master/Trading_System_SVM.ipynb\" target=\"_parent\"><img src=\"https://colab.research.google.com/assets/colab-badge.svg\" alt=\"Open In Colab\"/></a>"
      ]
    },
    {
      "cell_type": "code",
      "metadata": {
        "colab": {
          "base_uri": "https://localhost:8080/"
        },
        "id": "TMa4cYFGMX1b",
        "outputId": "60586bee-a0c5-4dc8-84fa-ab641b7f4ae6"
      },
      "source": [
        "url = 'https://launchpad.net/~mario-mariomedina/+archive/ubuntu/talib/+files'\n",
        "!wget $url/libta-lib0_0.4.0-oneiric1_amd64.deb -qO libta.deb\n",
        "!wget $url/ta-lib0-dev_0.4.0-oneiric1_amd64.deb -qO ta.deb\n",
        "!dpkg -i libta.deb ta.deb\n",
        "!pip install ta-lib"
      ],
      "execution_count": 1,
      "outputs": [
        {
          "output_type": "stream",
          "name": "stdout",
          "text": [
            "(Reading database ... 155073 files and directories currently installed.)\n",
            "Preparing to unpack libta.deb ...\n",
            "Unpacking libta-lib0 (0.4.0-oneiric1) over (0.4.0-oneiric1) ...\n",
            "Preparing to unpack ta.deb ...\n",
            "Unpacking ta-lib0-dev (0.4.0-oneiric1) over (0.4.0-oneiric1) ...\n",
            "Setting up libta-lib0 (0.4.0-oneiric1) ...\n",
            "Setting up ta-lib0-dev (0.4.0-oneiric1) ...\n",
            "Processing triggers for man-db (2.8.3-2ubuntu0.1) ...\n",
            "Processing triggers for libc-bin (2.27-3ubuntu1.3) ...\n",
            "/sbin/ldconfig.real: /usr/local/lib/python3.7/dist-packages/ideep4py/lib/libmkldnn.so.0 is not a symbolic link\n",
            "\n",
            "Requirement already satisfied: ta-lib in /usr/local/lib/python3.7/dist-packages (0.4.21)\n",
            "Requirement already satisfied: numpy in /usr/local/lib/python3.7/dist-packages (from ta-lib) (1.19.5)\n"
          ]
        }
      ]
    },
    {
      "cell_type": "markdown",
      "metadata": {
        "id": "VvOInA7sV_Ny"
      },
      "source": [
        "## DATA CREATION "
      ]
    },
    {
      "cell_type": "markdown",
      "metadata": {
        "id": "wtOE7gN7V_Nz"
      },
      "source": [
        "### Importing Libraries\n",
        "\n",
        "First, we will import the SVC class which will be used later to instantiate a support vector classifier."
      ]
    },
    {
      "cell_type": "code",
      "metadata": {
        "id": "1iaAHUu-V_N2"
      },
      "source": [
        "from sklearn.svm import SVC\n",
        "from sklearn.metrics import plot_confusion_matrix \n",
        "from sklearn.preprocessing import StandardScaler\n",
        "from sklearn.model_selection import RandomizedSearchCV\n",
        "from sklearn.model_selection import GridSearchCV\n",
        "from sklearn.model_selection import TimeSeriesSplit\n",
        "from sklearn.pipeline import Pipeline\n",
        "# from fwTimeSeriesSplit import fwTimeSeriesSplit\n",
        "from sklearn.metrics import precision_score\n",
        "from sklearn.metrics import recall_score \n",
        "from sklearn.metrics import f1_score\n",
        "from sklearn.metrics import accuracy_score\n",
        "import pandas as pd\n",
        "import numpy as np\n",
        "import talib as ta\n",
        "import seaborn\n",
        "import matplotlib.pyplot as plt\n",
        "%matplotlib inline"
      ],
      "execution_count": 2,
      "outputs": []
    },
    {
      "cell_type": "markdown",
      "metadata": {
        "id": "eNWzMJhxV_N3"
      },
      "source": [
        "### Importing Data (Open-High-Low-Close-Volume)\n",
        "\n",
        "We will upload the data and save it in a Dataframe named as ‘Df’\n",
        "To upload we use \"pandas.read_csv(\"NSE_cash.csv\")\".\n",
        "Our data is a 10 minute OHLCV data for the data. \n"
      ]
    },
    {
      "cell_type": "code",
      "metadata": {
        "id": "Pdn4G92QV_N4"
      },
      "source": [
        "df = pd.read_csv('data.csv') \n",
        "df = df[['Time','Open','High','Low','Close','Volume']]"
      ],
      "execution_count": 3,
      "outputs": []
    },
    {
      "cell_type": "code",
      "metadata": {
        "colab": {
          "base_uri": "https://localhost:8080/",
          "height": 205
        },
        "id": "nAI5IjA3V_N5",
        "outputId": "da5b7ccc-0b57-4754-a277-7a037cd5c33d"
      },
      "source": [
        "df.head()"
      ],
      "execution_count": 4,
      "outputs": [
        {
          "output_type": "execute_result",
          "data": {
            "text/html": [
              "<div>\n",
              "<style scoped>\n",
              "    .dataframe tbody tr th:only-of-type {\n",
              "        vertical-align: middle;\n",
              "    }\n",
              "\n",
              "    .dataframe tbody tr th {\n",
              "        vertical-align: top;\n",
              "    }\n",
              "\n",
              "    .dataframe thead th {\n",
              "        text-align: right;\n",
              "    }\n",
              "</style>\n",
              "<table border=\"1\" class=\"dataframe\">\n",
              "  <thead>\n",
              "    <tr style=\"text-align: right;\">\n",
              "      <th></th>\n",
              "      <th>Time</th>\n",
              "      <th>Open</th>\n",
              "      <th>High</th>\n",
              "      <th>Low</th>\n",
              "      <th>Close</th>\n",
              "      <th>Volume</th>\n",
              "    </tr>\n",
              "  </thead>\n",
              "  <tbody>\n",
              "    <tr>\n",
              "      <th>0</th>\n",
              "      <td>09:15:59</td>\n",
              "      <td>319.25</td>\n",
              "      <td>319.40</td>\n",
              "      <td>316.05</td>\n",
              "      <td>317.70</td>\n",
              "      <td>143354</td>\n",
              "    </tr>\n",
              "    <tr>\n",
              "      <th>1</th>\n",
              "      <td>09:16:59</td>\n",
              "      <td>317.70</td>\n",
              "      <td>318.20</td>\n",
              "      <td>317.70</td>\n",
              "      <td>318.00</td>\n",
              "      <td>52695</td>\n",
              "    </tr>\n",
              "    <tr>\n",
              "      <th>2</th>\n",
              "      <td>09:17:59</td>\n",
              "      <td>318.00</td>\n",
              "      <td>318.85</td>\n",
              "      <td>318.00</td>\n",
              "      <td>318.55</td>\n",
              "      <td>47179</td>\n",
              "    </tr>\n",
              "    <tr>\n",
              "      <th>3</th>\n",
              "      <td>09:18:59</td>\n",
              "      <td>318.65</td>\n",
              "      <td>319.40</td>\n",
              "      <td>318.50</td>\n",
              "      <td>319.20</td>\n",
              "      <td>44745</td>\n",
              "    </tr>\n",
              "    <tr>\n",
              "      <th>4</th>\n",
              "      <td>09:19:59</td>\n",
              "      <td>319.30</td>\n",
              "      <td>319.85</td>\n",
              "      <td>319.20</td>\n",
              "      <td>319.65</td>\n",
              "      <td>57892</td>\n",
              "    </tr>\n",
              "  </tbody>\n",
              "</table>\n",
              "</div>"
            ],
            "text/plain": [
              "       Time    Open    High     Low   Close  Volume\n",
              "0  09:15:59  319.25  319.40  316.05  317.70  143354\n",
              "1  09:16:59  317.70  318.20  317.70  318.00   52695\n",
              "2  09:17:59  318.00  318.85  318.00  318.55   47179\n",
              "3  09:18:59  318.65  319.40  318.50  319.20   44745\n",
              "4  09:19:59  319.30  319.85  319.20  319.65   57892"
            ]
          },
          "metadata": {},
          "execution_count": 4
        }
      ]
    },
    {
      "cell_type": "markdown",
      "metadata": {
        "id": "xmTueKt7V_N7"
      },
      "source": [
        "We will drop all rows which have no traded volume. This is done to avoid training on low liquidity moves. Alternatively, we can drop all those rows where volume is less than some value we know beforehand.\n"
      ]
    },
    {
      "cell_type": "code",
      "metadata": {
        "id": "gOZUHcXqV_N8"
      },
      "source": [
        "df = df.drop(df[df['Volume']==0].index)\n",
        "df.dropna(inplace=True)"
      ],
      "execution_count": 5,
      "outputs": []
    },
    {
      "cell_type": "markdown",
      "metadata": {
        "id": "q1ejPDcbV_N8"
      },
      "source": [
        "Now, we shoul change the Time column to a ‘datetime’ type. "
      ]
    },
    {
      "cell_type": "code",
      "metadata": {
        "id": "bBLbhD4FV_N9"
      },
      "source": [
        "df['Time'] = pd.to_datetime(df['Time'])"
      ],
      "execution_count": 6,
      "outputs": []
    },
    {
      "cell_type": "code",
      "metadata": {
        "colab": {
          "base_uri": "https://localhost:8080/",
          "height": 205
        },
        "id": "zvGHsPU0V_N9",
        "outputId": "338fbc89-dcce-4fc6-8051-7e362566d9fd"
      },
      "source": [
        "df.head()"
      ],
      "execution_count": 7,
      "outputs": [
        {
          "output_type": "execute_result",
          "data": {
            "text/html": [
              "<div>\n",
              "<style scoped>\n",
              "    .dataframe tbody tr th:only-of-type {\n",
              "        vertical-align: middle;\n",
              "    }\n",
              "\n",
              "    .dataframe tbody tr th {\n",
              "        vertical-align: top;\n",
              "    }\n",
              "\n",
              "    .dataframe thead th {\n",
              "        text-align: right;\n",
              "    }\n",
              "</style>\n",
              "<table border=\"1\" class=\"dataframe\">\n",
              "  <thead>\n",
              "    <tr style=\"text-align: right;\">\n",
              "      <th></th>\n",
              "      <th>Time</th>\n",
              "      <th>Open</th>\n",
              "      <th>High</th>\n",
              "      <th>Low</th>\n",
              "      <th>Close</th>\n",
              "      <th>Volume</th>\n",
              "    </tr>\n",
              "  </thead>\n",
              "  <tbody>\n",
              "    <tr>\n",
              "      <th>0</th>\n",
              "      <td>2021-10-18 09:15:59</td>\n",
              "      <td>319.25</td>\n",
              "      <td>319.40</td>\n",
              "      <td>316.05</td>\n",
              "      <td>317.70</td>\n",
              "      <td>143354</td>\n",
              "    </tr>\n",
              "    <tr>\n",
              "      <th>1</th>\n",
              "      <td>2021-10-18 09:16:59</td>\n",
              "      <td>317.70</td>\n",
              "      <td>318.20</td>\n",
              "      <td>317.70</td>\n",
              "      <td>318.00</td>\n",
              "      <td>52695</td>\n",
              "    </tr>\n",
              "    <tr>\n",
              "      <th>2</th>\n",
              "      <td>2021-10-18 09:17:59</td>\n",
              "      <td>318.00</td>\n",
              "      <td>318.85</td>\n",
              "      <td>318.00</td>\n",
              "      <td>318.55</td>\n",
              "      <td>47179</td>\n",
              "    </tr>\n",
              "    <tr>\n",
              "      <th>3</th>\n",
              "      <td>2021-10-18 09:18:59</td>\n",
              "      <td>318.65</td>\n",
              "      <td>319.40</td>\n",
              "      <td>318.50</td>\n",
              "      <td>319.20</td>\n",
              "      <td>44745</td>\n",
              "    </tr>\n",
              "    <tr>\n",
              "      <th>4</th>\n",
              "      <td>2021-10-18 09:19:59</td>\n",
              "      <td>319.30</td>\n",
              "      <td>319.85</td>\n",
              "      <td>319.20</td>\n",
              "      <td>319.65</td>\n",
              "      <td>57892</td>\n",
              "    </tr>\n",
              "  </tbody>\n",
              "</table>\n",
              "</div>"
            ],
            "text/plain": [
              "                 Time    Open    High     Low   Close  Volume\n",
              "0 2021-10-18 09:15:59  319.25  319.40  316.05  317.70  143354\n",
              "1 2021-10-18 09:16:59  317.70  318.20  317.70  318.00   52695\n",
              "2 2021-10-18 09:17:59  318.00  318.85  318.00  318.55   47179\n",
              "3 2021-10-18 09:18:59  318.65  319.40  318.50  319.20   44745\n",
              "4 2021-10-18 09:19:59  319.30  319.85  319.20  319.65   57892"
            ]
          },
          "metadata": {},
          "execution_count": 7
        }
      ]
    },
    {
      "cell_type": "code",
      "metadata": {
        "colab": {
          "base_uri": "https://localhost:8080/"
        },
        "id": "9pa1YgEiSgeU",
        "outputId": "f77b0feb-ae6d-48e0-eb45-c4fde3f7b1ff"
      },
      "source": [
        "df.shape"
      ],
      "execution_count": 8,
      "outputs": [
        {
          "output_type": "execute_result",
          "data": {
            "text/plain": [
              "(750, 6)"
            ]
          },
          "metadata": {},
          "execution_count": 8
        }
      ]
    },
    {
      "cell_type": "markdown",
      "metadata": {
        "id": "Fy8qPGMSV_N9"
      },
      "source": [
        "### Splitting Data\n",
        "\n",
        "We will use 80% of our data to train and the rest 20% to test. To do this, we will create a split parameter which will divide the dataframe in an 80-20 ratio. It is advisable to give at least 70% data as train data for good results. \"split\" is the integer index value for the row corresponding to test-train split. "
      ]
    },
    {
      "cell_type": "code",
      "metadata": {
        "id": "PwugfEDaV_N9"
      },
      "source": [
        "t = 0.8\n",
        "split = int(t*len(df))"
      ],
      "execution_count": 9,
      "outputs": []
    },
    {
      "cell_type": "code",
      "metadata": {
        "colab": {
          "base_uri": "https://localhost:8080/"
        },
        "id": "hDvVIW-0KptG",
        "outputId": "4be01f4d-0d74-4f73-bbf2-0ddce75d4d56"
      },
      "source": [
        "split"
      ],
      "execution_count": 10,
      "outputs": [
        {
          "output_type": "execute_result",
          "data": {
            "text/plain": [
              "600"
            ]
          },
          "metadata": {},
          "execution_count": 10
        }
      ]
    },
    {
      "cell_type": "markdown",
      "metadata": {
        "id": "uc4Ws_g0V_N-"
      },
      "source": [
        "### Creating Indicators\n",
        "\n",
        "Next, we decide the time period for which we will calculate our indicators. For this, we chose a variable ‘n’ with a value of 6 half hours. This is something we can change as per our choice. We will be creating all the indicators for the same time period. \n"
      ]
    },
    {
      "cell_type": "markdown",
      "metadata": {
        "id": "4kOStM_KV_N-"
      },
      "source": [
        "Lookback window"
      ]
    },
    {
      "cell_type": "code",
      "metadata": {
        "id": "G1t1F9epV_N-"
      },
      "source": [
        "n = 10 #This is the window for return periods (among other things)"
      ],
      "execution_count": 11,
      "outputs": []
    },
    {
      "cell_type": "markdown",
      "metadata": {
        "id": "0ZxgjmxCV_N_"
      },
      "source": [
        "Next, we will create RSI and some other indicators. As you can see in the ‘RSI’ calculation below, two things are being done. First, the “Close” prices column is ‘shifted’ down by a single time interval, one minute, in our case. This is done so that we work on historical data. Secondly, “timeperiod” is chosen as “n” which we earlier defined as ‘6’ half hours. So if we are calculating RSI for ‘t’th half hour, we will use Closing prices of ‘t-10’, ‘t-9’, …’t-1’ half hours.) \n"
      ]
    },
    {
      "cell_type": "markdown",
      "metadata": {
        "id": "vGl9U_Yvy8hU"
      },
      "source": [
        "### The indicators used for this system:\n",
        "* **RSI**\n",
        "> The relative strength index (RSI) provides technical traders with signals about bullish and bearish price momentum, and it is often plotted beneath the graph of an asset’s price. An asset is usually considered overbought when the RSI is above 70% and oversold when it is below 30%. Generally, when the RSI surpasses the horizontal 30 reference level, it is a bullish sign, and when it slides below the horizontal 70 reference level, it is a bearish sign. Put another way, one can interpret that RSI values of 70 or above indicate a security is becoming overbought or overvalued and may be primed for a trend reversal or corrective price pullback. An RSI reading of 30 or below indicates an oversold or undervalued condition.\n",
        "\n",
        "* **SMA**\n",
        "> A simple moving average (SMA) calculates the average of a selected range of prices, usually closing prices, by the number of periods in that range. SMA calculates the average of a selected range of prices, usually closing prices, by the number of periods in that range. It is a technical indicator that can aid in determining if an asset price will continue or if it will reverse a bull or bear trend. It can be enhanced as an exponential moving average (EMA) that is more heavily weighted on recent price action.\n",
        "\n",
        "\n",
        "\n",
        "* **SAR** \n",
        "> The parabolic SAR indicator appears on a chart as a series of dots, either above or below an asset's price, depending on the direction the price is moving. A dot is placed below the price when it is trending upward, and above the price when it is trending downward. The parabolic SAR indicator is used by traders to determine trend direction and potential reversals in price. The indicator uses a trailing stop and reverse method called \"SAR,\" or stop and reverse, to identify suitable exit and entry points. The indicator utilizes a system of dots superimposed onto a price chart. A reversal occurs when these dots flip, but a reversal signal in the SAR does not necessarily mean a reversal in the price. A PSAR reversal only means that the price and indicator have crossed. The parabolic indicator generates buy or sell signals when the position of the dots moves from one side of the asset's price to the other. For example, a buy signal occurs when the dots move from above the price to below the price, while a sell signal occurs when the dots move from below the price to above the price.\n",
        "\n",
        "* **ADX**\n",
        "> The average directional index (ADX) is a technical analysis indicator used by some traders to determine the strength of a trend.\n",
        "The trend can be either up or down, and this is shown by two accompanying indicators, the negative directional indicator (-DI) and the positive directional indicator (+DI). Therefore, the ADX commonly includes three separate lines. These are used to help assess whether a trade should be taken long or short, or if a trade should be taken at all. The ADX makes use of a positive (+DI) and negative (-DI) directional indicator in addition to the trendline. The trend has strength when ADX is above 25; the trend is weak or the price is trendless when ADX is below 20, according to Wilder. Non-trending doesn't mean the price isn't moving. It may not be, but the price could also be making a trend change or is too volatile for a clear direction to be present.\n"
      ]
    },
    {
      "cell_type": "code",
      "metadata": {
        "id": "YyWf9lobV_N_"
      },
      "source": [
        "df['RSI'] = ta.RSI(np.array(df['Close'].shift(1)), timeperiod=n)\n",
        "df['SMA'] = df['Close'].shift(1).rolling(window=n).mean()\n",
        "df['SAR'] = ta.SAR(np.array(df['High'].shift(1)),np.array(df['Low'].shift(1)),0.2,0.2)\n",
        "df['ADX'] = ta.ADX(np.array(df['High'].shift(1)),np.array(df['Low'].shift(1)),np.array(df['Open']), timeperiod=n)\n",
        "df['Corr'] = df['Close'].shift(1).rolling(window=n).corr(df['SMA'].shift(1))"
      ],
      "execution_count": 12,
      "outputs": []
    },
    {
      "cell_type": "markdown",
      "metadata": {
        "id": "pNQ2bomlV_N_"
      },
      "source": [
        "SAR and ADX are calculated on High and Low prices because they are intended to be sensitive to new \"Highs\" and \"Lows\" created. In the SAR indicator the values of 0.2 represent the acceleration and maximum step parameters. These are just default values agreed upon by tradition. see: https://www.investopedia.com/terms/p/parabolicindicator.asp "
      ]
    },
    {
      "cell_type": "markdown",
      "metadata": {
        "id": "WbJ-IUt5V_OA"
      },
      "source": [
        "We will pass yesterday's \"High\", \"Low\", and \"Close\" prices as input to the algorithm in variables named in lower cases. This will help the algorithm sense the volatility of the past time period."
      ]
    },
    {
      "cell_type": "code",
      "metadata": {
        "id": "wthOIUOnV_OA"
      },
      "source": [
        "df['close'] = df['Close'].shift(1)\n",
        "df['high'] = df['High'].shift(1)\n",
        "df['low'] = df['Low'].shift(1)"
      ],
      "execution_count": 13,
      "outputs": []
    },
    {
      "cell_type": "markdown",
      "metadata": {
        "id": "vds7LiwYV_OA"
      },
      "source": [
        "We will also pass two other values as features: the change in \"Open\" prices between yesterday and today & the difference between today's \"Open\" and yesterday's \"Close\" prices."
      ]
    },
    {
      "cell_type": "code",
      "metadata": {
        "id": "8DtU-lI0V_OA"
      },
      "source": [
        "df['OO'] = df['Open'] - df['Open'].shift(1)\n",
        "df['OC'] = df['Open'] - df['close']"
      ],
      "execution_count": 14,
      "outputs": []
    },
    {
      "cell_type": "markdown",
      "metadata": {
        "id": "Oobv-FASV_OA"
      },
      "source": [
        "Next, calculate the returns for every data point and save in \"Ret\". We also save returns of past 'n' half hours in 'n' columns named as 'return1', 'return2' and so on. This will help the algorithm to understand the trend of the returns in last 'n' periods.  "
      ]
    },
    {
      "cell_type": "code",
      "metadata": {
        "id": "eWatShtGV_OA"
      },
      "source": [
        "df['Ret'] = np.log(df['Open'].shift(-1) / df['Open'])\n",
        "for i in range(1,n):\n",
        "    df['return%i'%i] = df['Ret'].shift(i)"
      ],
      "execution_count": 15,
      "outputs": []
    },
    {
      "cell_type": "markdown",
      "metadata": {
        "id": "TigRgcMHV_OC"
      },
      "source": [
        "\n",
        "\n",
        "### Creating Output Signal\n",
        "\n",
        "Next, we assign signal values corresponding to ‘returns’ that were calculated earlier. To do this, we split the data into three \n",
        "equal parts, as per the returns. The highest returns’ quantile is assigned Signal ‘1’ or “Buy”.  Middle quantile is assigned Signal ‘0’ or ‘Do nothing’. Lowest quantile is assigned Signal ‘-1’ or ‘Sell’. "
      ]
    },
    {
      "cell_type": "code",
      "metadata": {
        "id": "P2SDfNUNV_OC"
      },
      "source": [
        "df.dropna(inplace=True)\n",
        "df['Signal'] = 0\n",
        "df.loc[df['Ret']>df['Ret'][:split].quantile(q=0.66),'Signal'] = 1\n",
        "df.loc[df['Ret']<df['Ret'][:split].quantile(q=0.34),'Signal'] = -1"
      ],
      "execution_count": 16,
      "outputs": []
    },
    {
      "cell_type": "code",
      "metadata": {
        "colab": {
          "base_uri": "https://localhost:8080/",
          "height": 397
        },
        "id": "vy2JBMliV_OD",
        "outputId": "58b49434-0aec-4029-9186-27befa50721d"
      },
      "source": [
        "df.head()"
      ],
      "execution_count": 17,
      "outputs": [
        {
          "output_type": "execute_result",
          "data": {
            "text/html": [
              "<div>\n",
              "<style scoped>\n",
              "    .dataframe tbody tr th:only-of-type {\n",
              "        vertical-align: middle;\n",
              "    }\n",
              "\n",
              "    .dataframe tbody tr th {\n",
              "        vertical-align: top;\n",
              "    }\n",
              "\n",
              "    .dataframe thead th {\n",
              "        text-align: right;\n",
              "    }\n",
              "</style>\n",
              "<table border=\"1\" class=\"dataframe\">\n",
              "  <thead>\n",
              "    <tr style=\"text-align: right;\">\n",
              "      <th></th>\n",
              "      <th>Time</th>\n",
              "      <th>Open</th>\n",
              "      <th>High</th>\n",
              "      <th>Low</th>\n",
              "      <th>Close</th>\n",
              "      <th>Volume</th>\n",
              "      <th>RSI</th>\n",
              "      <th>SMA</th>\n",
              "      <th>SAR</th>\n",
              "      <th>ADX</th>\n",
              "      <th>Corr</th>\n",
              "      <th>close</th>\n",
              "      <th>high</th>\n",
              "      <th>low</th>\n",
              "      <th>OO</th>\n",
              "      <th>OC</th>\n",
              "      <th>Ret</th>\n",
              "      <th>return1</th>\n",
              "      <th>return2</th>\n",
              "      <th>return3</th>\n",
              "      <th>return4</th>\n",
              "      <th>return5</th>\n",
              "      <th>return6</th>\n",
              "      <th>return7</th>\n",
              "      <th>return8</th>\n",
              "      <th>return9</th>\n",
              "      <th>Signal</th>\n",
              "    </tr>\n",
              "  </thead>\n",
              "  <tbody>\n",
              "    <tr>\n",
              "      <th>20</th>\n",
              "      <td>2021-10-18 09:35:59</td>\n",
              "      <td>317.90</td>\n",
              "      <td>318.20</td>\n",
              "      <td>317.60</td>\n",
              "      <td>317.80</td>\n",
              "      <td>29910</td>\n",
              "      <td>43.095793</td>\n",
              "      <td>318.850</td>\n",
              "      <td>319.184400</td>\n",
              "      <td>13.793519</td>\n",
              "      <td>0.816229</td>\n",
              "      <td>317.90</td>\n",
              "      <td>318.30</td>\n",
              "      <td>317.85</td>\n",
              "      <td>-0.35</td>\n",
              "      <td>0.00</td>\n",
              "      <td>-0.000315</td>\n",
              "      <td>-0.001100</td>\n",
              "      <td>-0.001884</td>\n",
              "      <td>-0.000314</td>\n",
              "      <td>-0.000157</td>\n",
              "      <td>-0.000157</td>\n",
              "      <td>-0.001253</td>\n",
              "      <td>-0.000782</td>\n",
              "      <td>0.002035</td>\n",
              "      <td>0.002196</td>\n",
              "      <td>-1</td>\n",
              "    </tr>\n",
              "    <tr>\n",
              "      <th>21</th>\n",
              "      <td>2021-10-18 09:36:59</td>\n",
              "      <td>317.80</td>\n",
              "      <td>317.85</td>\n",
              "      <td>317.40</td>\n",
              "      <td>317.40</td>\n",
              "      <td>21161</td>\n",
              "      <td>41.910041</td>\n",
              "      <td>318.795</td>\n",
              "      <td>318.917520</td>\n",
              "      <td>15.563131</td>\n",
              "      <td>0.871812</td>\n",
              "      <td>317.80</td>\n",
              "      <td>318.20</td>\n",
              "      <td>317.60</td>\n",
              "      <td>-0.10</td>\n",
              "      <td>0.00</td>\n",
              "      <td>-0.001259</td>\n",
              "      <td>-0.000315</td>\n",
              "      <td>-0.001100</td>\n",
              "      <td>-0.001884</td>\n",
              "      <td>-0.000314</td>\n",
              "      <td>-0.000157</td>\n",
              "      <td>-0.000157</td>\n",
              "      <td>-0.001253</td>\n",
              "      <td>-0.000782</td>\n",
              "      <td>0.002035</td>\n",
              "      <td>-1</td>\n",
              "    </tr>\n",
              "    <tr>\n",
              "      <th>22</th>\n",
              "      <td>2021-10-18 09:37:59</td>\n",
              "      <td>317.40</td>\n",
              "      <td>318.15</td>\n",
              "      <td>317.25</td>\n",
              "      <td>318.00</td>\n",
              "      <td>20039</td>\n",
              "      <td>37.343463</td>\n",
              "      <td>318.630</td>\n",
              "      <td>318.654016</td>\n",
              "      <td>17.581703</td>\n",
              "      <td>0.919286</td>\n",
              "      <td>317.40</td>\n",
              "      <td>317.85</td>\n",
              "      <td>317.40</td>\n",
              "      <td>-0.40</td>\n",
              "      <td>0.00</td>\n",
              "      <td>0.002046</td>\n",
              "      <td>-0.001259</td>\n",
              "      <td>-0.000315</td>\n",
              "      <td>-0.001100</td>\n",
              "      <td>-0.001884</td>\n",
              "      <td>-0.000314</td>\n",
              "      <td>-0.000157</td>\n",
              "      <td>-0.000157</td>\n",
              "      <td>-0.001253</td>\n",
              "      <td>-0.000782</td>\n",
              "      <td>1</td>\n",
              "    </tr>\n",
              "    <tr>\n",
              "      <th>23</th>\n",
              "      <td>2021-10-18 09:38:59</td>\n",
              "      <td>318.05</td>\n",
              "      <td>318.65</td>\n",
              "      <td>317.85</td>\n",
              "      <td>318.65</td>\n",
              "      <td>20345</td>\n",
              "      <td>46.973248</td>\n",
              "      <td>318.465</td>\n",
              "      <td>318.403213</td>\n",
              "      <td>18.123915</td>\n",
              "      <td>0.892114</td>\n",
              "      <td>318.00</td>\n",
              "      <td>318.15</td>\n",
              "      <td>317.25</td>\n",
              "      <td>0.65</td>\n",
              "      <td>0.05</td>\n",
              "      <td>0.001885</td>\n",
              "      <td>0.002046</td>\n",
              "      <td>-0.001259</td>\n",
              "      <td>-0.000315</td>\n",
              "      <td>-0.001100</td>\n",
              "      <td>-0.001884</td>\n",
              "      <td>-0.000314</td>\n",
              "      <td>-0.000157</td>\n",
              "      <td>-0.000157</td>\n",
              "      <td>-0.001253</td>\n",
              "      <td>1</td>\n",
              "    </tr>\n",
              "    <tr>\n",
              "      <th>24</th>\n",
              "      <td>2021-10-18 09:39:59</td>\n",
              "      <td>318.65</td>\n",
              "      <td>319.00</td>\n",
              "      <td>318.10</td>\n",
              "      <td>318.25</td>\n",
              "      <td>86988</td>\n",
              "      <td>55.251655</td>\n",
              "      <td>318.380</td>\n",
              "      <td>317.250000</td>\n",
              "      <td>16.790058</td>\n",
              "      <td>0.616495</td>\n",
              "      <td>318.65</td>\n",
              "      <td>318.65</td>\n",
              "      <td>317.85</td>\n",
              "      <td>0.60</td>\n",
              "      <td>0.00</td>\n",
              "      <td>-0.001413</td>\n",
              "      <td>0.001885</td>\n",
              "      <td>0.002046</td>\n",
              "      <td>-0.001259</td>\n",
              "      <td>-0.000315</td>\n",
              "      <td>-0.001100</td>\n",
              "      <td>-0.001884</td>\n",
              "      <td>-0.000314</td>\n",
              "      <td>-0.000157</td>\n",
              "      <td>-0.000157</td>\n",
              "      <td>-1</td>\n",
              "    </tr>\n",
              "  </tbody>\n",
              "</table>\n",
              "</div>"
            ],
            "text/plain": [
              "                  Time    Open    High  ...   return8   return9  Signal\n",
              "20 2021-10-18 09:35:59  317.90  318.20  ...  0.002035  0.002196      -1\n",
              "21 2021-10-18 09:36:59  317.80  317.85  ... -0.000782  0.002035      -1\n",
              "22 2021-10-18 09:37:59  317.40  318.15  ... -0.001253 -0.000782       1\n",
              "23 2021-10-18 09:38:59  318.05  318.65  ... -0.000157 -0.001253       1\n",
              "24 2021-10-18 09:39:59  318.65  319.00  ... -0.000157 -0.000157      -1\n",
              "\n",
              "[5 rows x 27 columns]"
            ]
          },
          "metadata": {},
          "execution_count": 17
        }
      ]
    },
    {
      "cell_type": "markdown",
      "metadata": {
        "id": "MJl7eGG_V_OE"
      },
      "source": [
        "### Creating the features and values\n",
        "\n",
        "We should drop columns 'Close','Signal','Time','High','Low','Volume', and'Ret' since the algorithm will not be trained on these features. Next, we assign ‘Signal’ to ‘y’ which is the output variable that we will predict using test data.   "
      ]
    },
    {
      "cell_type": "code",
      "metadata": {
        "id": "po7-HQEwV_OE"
      },
      "source": [
        "X = df.drop(['Close','Signal','Time','High','Low','Volume','Ret'],axis=1)\n",
        "y = df['Signal']"
      ],
      "execution_count": 18,
      "outputs": []
    },
    {
      "cell_type": "markdown",
      "metadata": {
        "id": "2w_dR8jmV_OE"
      },
      "source": [
        "What have we got now:"
      ]
    },
    {
      "cell_type": "code",
      "metadata": {
        "colab": {
          "base_uri": "https://localhost:8080/",
          "height": 225
        },
        "id": "B7F41O9VV_OE",
        "outputId": "4daedbd6-e2f0-4e79-a039-c365986fa499"
      },
      "source": [
        "X.head()"
      ],
      "execution_count": 19,
      "outputs": [
        {
          "output_type": "execute_result",
          "data": {
            "text/html": [
              "<div>\n",
              "<style scoped>\n",
              "    .dataframe tbody tr th:only-of-type {\n",
              "        vertical-align: middle;\n",
              "    }\n",
              "\n",
              "    .dataframe tbody tr th {\n",
              "        vertical-align: top;\n",
              "    }\n",
              "\n",
              "    .dataframe thead th {\n",
              "        text-align: right;\n",
              "    }\n",
              "</style>\n",
              "<table border=\"1\" class=\"dataframe\">\n",
              "  <thead>\n",
              "    <tr style=\"text-align: right;\">\n",
              "      <th></th>\n",
              "      <th>Open</th>\n",
              "      <th>RSI</th>\n",
              "      <th>SMA</th>\n",
              "      <th>SAR</th>\n",
              "      <th>ADX</th>\n",
              "      <th>Corr</th>\n",
              "      <th>close</th>\n",
              "      <th>high</th>\n",
              "      <th>low</th>\n",
              "      <th>OO</th>\n",
              "      <th>OC</th>\n",
              "      <th>return1</th>\n",
              "      <th>return2</th>\n",
              "      <th>return3</th>\n",
              "      <th>return4</th>\n",
              "      <th>return5</th>\n",
              "      <th>return6</th>\n",
              "      <th>return7</th>\n",
              "      <th>return8</th>\n",
              "      <th>return9</th>\n",
              "    </tr>\n",
              "  </thead>\n",
              "  <tbody>\n",
              "    <tr>\n",
              "      <th>20</th>\n",
              "      <td>317.90</td>\n",
              "      <td>43.095793</td>\n",
              "      <td>318.850</td>\n",
              "      <td>319.184400</td>\n",
              "      <td>13.793519</td>\n",
              "      <td>0.816229</td>\n",
              "      <td>317.90</td>\n",
              "      <td>318.30</td>\n",
              "      <td>317.85</td>\n",
              "      <td>-0.35</td>\n",
              "      <td>0.00</td>\n",
              "      <td>-0.001100</td>\n",
              "      <td>-0.001884</td>\n",
              "      <td>-0.000314</td>\n",
              "      <td>-0.000157</td>\n",
              "      <td>-0.000157</td>\n",
              "      <td>-0.001253</td>\n",
              "      <td>-0.000782</td>\n",
              "      <td>0.002035</td>\n",
              "      <td>0.002196</td>\n",
              "    </tr>\n",
              "    <tr>\n",
              "      <th>21</th>\n",
              "      <td>317.80</td>\n",
              "      <td>41.910041</td>\n",
              "      <td>318.795</td>\n",
              "      <td>318.917520</td>\n",
              "      <td>15.563131</td>\n",
              "      <td>0.871812</td>\n",
              "      <td>317.80</td>\n",
              "      <td>318.20</td>\n",
              "      <td>317.60</td>\n",
              "      <td>-0.10</td>\n",
              "      <td>0.00</td>\n",
              "      <td>-0.000315</td>\n",
              "      <td>-0.001100</td>\n",
              "      <td>-0.001884</td>\n",
              "      <td>-0.000314</td>\n",
              "      <td>-0.000157</td>\n",
              "      <td>-0.000157</td>\n",
              "      <td>-0.001253</td>\n",
              "      <td>-0.000782</td>\n",
              "      <td>0.002035</td>\n",
              "    </tr>\n",
              "    <tr>\n",
              "      <th>22</th>\n",
              "      <td>317.40</td>\n",
              "      <td>37.343463</td>\n",
              "      <td>318.630</td>\n",
              "      <td>318.654016</td>\n",
              "      <td>17.581703</td>\n",
              "      <td>0.919286</td>\n",
              "      <td>317.40</td>\n",
              "      <td>317.85</td>\n",
              "      <td>317.40</td>\n",
              "      <td>-0.40</td>\n",
              "      <td>0.00</td>\n",
              "      <td>-0.001259</td>\n",
              "      <td>-0.000315</td>\n",
              "      <td>-0.001100</td>\n",
              "      <td>-0.001884</td>\n",
              "      <td>-0.000314</td>\n",
              "      <td>-0.000157</td>\n",
              "      <td>-0.000157</td>\n",
              "      <td>-0.001253</td>\n",
              "      <td>-0.000782</td>\n",
              "    </tr>\n",
              "    <tr>\n",
              "      <th>23</th>\n",
              "      <td>318.05</td>\n",
              "      <td>46.973248</td>\n",
              "      <td>318.465</td>\n",
              "      <td>318.403213</td>\n",
              "      <td>18.123915</td>\n",
              "      <td>0.892114</td>\n",
              "      <td>318.00</td>\n",
              "      <td>318.15</td>\n",
              "      <td>317.25</td>\n",
              "      <td>0.65</td>\n",
              "      <td>0.05</td>\n",
              "      <td>0.002046</td>\n",
              "      <td>-0.001259</td>\n",
              "      <td>-0.000315</td>\n",
              "      <td>-0.001100</td>\n",
              "      <td>-0.001884</td>\n",
              "      <td>-0.000314</td>\n",
              "      <td>-0.000157</td>\n",
              "      <td>-0.000157</td>\n",
              "      <td>-0.001253</td>\n",
              "    </tr>\n",
              "    <tr>\n",
              "      <th>24</th>\n",
              "      <td>318.65</td>\n",
              "      <td>55.251655</td>\n",
              "      <td>318.380</td>\n",
              "      <td>317.250000</td>\n",
              "      <td>16.790058</td>\n",
              "      <td>0.616495</td>\n",
              "      <td>318.65</td>\n",
              "      <td>318.65</td>\n",
              "      <td>317.85</td>\n",
              "      <td>0.60</td>\n",
              "      <td>0.00</td>\n",
              "      <td>0.001885</td>\n",
              "      <td>0.002046</td>\n",
              "      <td>-0.001259</td>\n",
              "      <td>-0.000315</td>\n",
              "      <td>-0.001100</td>\n",
              "      <td>-0.001884</td>\n",
              "      <td>-0.000314</td>\n",
              "      <td>-0.000157</td>\n",
              "      <td>-0.000157</td>\n",
              "    </tr>\n",
              "  </tbody>\n",
              "</table>\n",
              "</div>"
            ],
            "text/plain": [
              "      Open        RSI      SMA  ...   return7   return8   return9\n",
              "20  317.90  43.095793  318.850  ... -0.000782  0.002035  0.002196\n",
              "21  317.80  41.910041  318.795  ... -0.001253 -0.000782  0.002035\n",
              "22  317.40  37.343463  318.630  ... -0.000157 -0.001253 -0.000782\n",
              "23  318.05  46.973248  318.465  ... -0.000157 -0.000157 -0.001253\n",
              "24  318.65  55.251655  318.380  ... -0.000314 -0.000157 -0.000157\n",
              "\n",
              "[5 rows x 20 columns]"
            ]
          },
          "metadata": {},
          "execution_count": 19
        }
      ]
    },
    {
      "cell_type": "markdown",
      "metadata": {
        "id": "F1fBZRegV_OI"
      },
      "source": [
        "## FINDING BEST PARAMETERS"
      ]
    },
    {
      "cell_type": "markdown",
      "metadata": {
        "id": "LtgEKheEV_OJ"
      },
      "source": [
        "### Pipeline and Functions\n",
        "\n",
        "* As the very first step to finding the best hyper parameters among C, Gamma and Kernel, we will first create a pipeline of functions which are required to run in a certain order on the training data. \n",
        "* The `steps` contains references to functions that would be applied on the data when called through a pipeline function. In this case, we will scale the data first and then fit it to the SVC function. This is done to avoid effect of the individual weights of the features."
      ]
    },
    {
      "cell_type": "code",
      "metadata": {
        "id": "YXUPwH5bV_OJ"
      },
      "source": [
        "pipeline = Pipeline([(\"scaler\", StandardScaler()),(\"svc\", SVC())])"
      ],
      "execution_count": 20,
      "outputs": []
    },
    {
      "cell_type": "code",
      "metadata": {
        "id": "C5IQr8dhV_OK"
      },
      "source": [
        "tscv = TimeSeriesSplit(n_splits=7)"
      ],
      "execution_count": 21,
      "outputs": []
    },
    {
      "cell_type": "markdown",
      "metadata": {
        "id": "9c_Nsih3V_OK"
      },
      "source": [
        "### Hyper-Parameters\n",
        "\n",
        "The Hyper parameters are iterated over to arrive at the best possible combination for the given training data. These test values can be changed as per your choice. Here, we have chosen 4 test values for ‘c_gs’ and 3 test values for ‘g_gs’.  Similarly for random search we have included a range of parameter values."
      ]
    },
    {
      "cell_type": "code",
      "metadata": {
        "id": "k8d0IHdLV_OK"
      },
      "source": [
        "# For Grid Search\n",
        "# c_gs = [10,100,1000,10000]\n",
        "# g_gs = [1e-2,1e-1,1e0] \n",
        "\n",
        "# For Random Search\n",
        "c_rs = np.linspace(10, 10000, num=40, endpoint=True) #better (faster)\n",
        "#c_rs = np.linspace(.0001, 10000, num=40, endpoint=True)\n",
        "g_rs = np.linspace(1e-2, 1e0, num=30, endpoint=True)"
      ],
      "execution_count": 22,
      "outputs": []
    },
    {
      "cell_type": "code",
      "metadata": {
        "id": "dvtWq-cjV_OL"
      },
      "source": [
        "#set of parameters for grid search\n",
        "# parameters_gs = [{'svc__kernel': ['rbf'], \n",
        "#                'svc__C': c_gs, \n",
        "#                 'svc__gamma': g_gs},\n",
        "#               {'svc__kernel': ['poly'],\n",
        "#                'svc__degree': [2,3,4,5,6,7,8,9],\n",
        "#                'svc__C': c_gs, \n",
        "#                'svc__gamma': g_gs}]\n",
        "\n",
        "#set of parameters for random search\n",
        "parameters_rs = {'svc__kernel': ['rbf', 'poly'],\n",
        "               'svc__degree': [3,4,5,6,7,8,9],\n",
        "               'svc__C': c_rs,\n",
        "               'svc__gamma': g_rs}"
      ],
      "execution_count": 23,
      "outputs": []
    },
    {
      "cell_type": "markdown",
      "metadata": {
        "id": "tYh7lw1eV_OL"
      },
      "source": [
        "Regarding parameters_rs:\n",
        "    \n",
        "RandomizedSearchCV will test the two kernels using parameters:degree, C, and gamma.The degree is ignored by svm unless poly kernel is chosen. See the dicumentation: https://scikit-learn.org/stable/modules/generated/sklearn.svm.SVC.html"
      ]
    },
    {
      "cell_type": "code",
      "metadata": {
        "colab": {
          "base_uri": "https://localhost:8080/",
          "height": 194
        },
        "id": "Yvo5TRefV_OL",
        "outputId": "dd78bbb5-af46-485b-e21b-faf3581c591c"
      },
      "source": [
        "df.groupby(\"Signal\").count() #Shows -1, 0 and 1 occur in roughly equal numbers"
      ],
      "execution_count": 24,
      "outputs": [
        {
          "output_type": "execute_result",
          "data": {
            "text/html": [
              "<div>\n",
              "<style scoped>\n",
              "    .dataframe tbody tr th:only-of-type {\n",
              "        vertical-align: middle;\n",
              "    }\n",
              "\n",
              "    .dataframe tbody tr th {\n",
              "        vertical-align: top;\n",
              "    }\n",
              "\n",
              "    .dataframe thead th {\n",
              "        text-align: right;\n",
              "    }\n",
              "</style>\n",
              "<table border=\"1\" class=\"dataframe\">\n",
              "  <thead>\n",
              "    <tr style=\"text-align: right;\">\n",
              "      <th></th>\n",
              "      <th>Time</th>\n",
              "      <th>Open</th>\n",
              "      <th>High</th>\n",
              "      <th>Low</th>\n",
              "      <th>Close</th>\n",
              "      <th>Volume</th>\n",
              "      <th>RSI</th>\n",
              "      <th>SMA</th>\n",
              "      <th>SAR</th>\n",
              "      <th>ADX</th>\n",
              "      <th>Corr</th>\n",
              "      <th>close</th>\n",
              "      <th>high</th>\n",
              "      <th>low</th>\n",
              "      <th>OO</th>\n",
              "      <th>OC</th>\n",
              "      <th>Ret</th>\n",
              "      <th>return1</th>\n",
              "      <th>return2</th>\n",
              "      <th>return3</th>\n",
              "      <th>return4</th>\n",
              "      <th>return5</th>\n",
              "      <th>return6</th>\n",
              "      <th>return7</th>\n",
              "      <th>return8</th>\n",
              "      <th>return9</th>\n",
              "    </tr>\n",
              "    <tr>\n",
              "      <th>Signal</th>\n",
              "      <th></th>\n",
              "      <th></th>\n",
              "      <th></th>\n",
              "      <th></th>\n",
              "      <th></th>\n",
              "      <th></th>\n",
              "      <th></th>\n",
              "      <th></th>\n",
              "      <th></th>\n",
              "      <th></th>\n",
              "      <th></th>\n",
              "      <th></th>\n",
              "      <th></th>\n",
              "      <th></th>\n",
              "      <th></th>\n",
              "      <th></th>\n",
              "      <th></th>\n",
              "      <th></th>\n",
              "      <th></th>\n",
              "      <th></th>\n",
              "      <th></th>\n",
              "      <th></th>\n",
              "      <th></th>\n",
              "      <th></th>\n",
              "      <th></th>\n",
              "      <th></th>\n",
              "    </tr>\n",
              "  </thead>\n",
              "  <tbody>\n",
              "    <tr>\n",
              "      <th>-1</th>\n",
              "      <td>235</td>\n",
              "      <td>235</td>\n",
              "      <td>235</td>\n",
              "      <td>235</td>\n",
              "      <td>235</td>\n",
              "      <td>235</td>\n",
              "      <td>235</td>\n",
              "      <td>235</td>\n",
              "      <td>235</td>\n",
              "      <td>235</td>\n",
              "      <td>235</td>\n",
              "      <td>235</td>\n",
              "      <td>235</td>\n",
              "      <td>235</td>\n",
              "      <td>235</td>\n",
              "      <td>235</td>\n",
              "      <td>235</td>\n",
              "      <td>235</td>\n",
              "      <td>235</td>\n",
              "      <td>235</td>\n",
              "      <td>235</td>\n",
              "      <td>235</td>\n",
              "      <td>235</td>\n",
              "      <td>235</td>\n",
              "      <td>235</td>\n",
              "      <td>235</td>\n",
              "    </tr>\n",
              "    <tr>\n",
              "      <th>0</th>\n",
              "      <td>252</td>\n",
              "      <td>252</td>\n",
              "      <td>252</td>\n",
              "      <td>252</td>\n",
              "      <td>252</td>\n",
              "      <td>252</td>\n",
              "      <td>252</td>\n",
              "      <td>252</td>\n",
              "      <td>252</td>\n",
              "      <td>252</td>\n",
              "      <td>252</td>\n",
              "      <td>252</td>\n",
              "      <td>252</td>\n",
              "      <td>252</td>\n",
              "      <td>252</td>\n",
              "      <td>252</td>\n",
              "      <td>252</td>\n",
              "      <td>252</td>\n",
              "      <td>252</td>\n",
              "      <td>252</td>\n",
              "      <td>252</td>\n",
              "      <td>252</td>\n",
              "      <td>252</td>\n",
              "      <td>252</td>\n",
              "      <td>252</td>\n",
              "      <td>252</td>\n",
              "    </tr>\n",
              "    <tr>\n",
              "      <th>1</th>\n",
              "      <td>242</td>\n",
              "      <td>242</td>\n",
              "      <td>242</td>\n",
              "      <td>242</td>\n",
              "      <td>242</td>\n",
              "      <td>242</td>\n",
              "      <td>242</td>\n",
              "      <td>242</td>\n",
              "      <td>242</td>\n",
              "      <td>242</td>\n",
              "      <td>242</td>\n",
              "      <td>242</td>\n",
              "      <td>242</td>\n",
              "      <td>242</td>\n",
              "      <td>242</td>\n",
              "      <td>242</td>\n",
              "      <td>242</td>\n",
              "      <td>242</td>\n",
              "      <td>242</td>\n",
              "      <td>242</td>\n",
              "      <td>242</td>\n",
              "      <td>242</td>\n",
              "      <td>242</td>\n",
              "      <td>242</td>\n",
              "      <td>242</td>\n",
              "      <td>242</td>\n",
              "    </tr>\n",
              "  </tbody>\n",
              "</table>\n",
              "</div>"
            ],
            "text/plain": [
              "        Time  Open  High  Low  ...  return6  return7  return8  return9\n",
              "Signal                         ...                                    \n",
              "-1       235   235   235  235  ...      235      235      235      235\n",
              " 0       252   252   252  252  ...      252      252      252      252\n",
              " 1       242   242   242  242  ...      242      242      242      242\n",
              "\n",
              "[3 rows x 26 columns]"
            ]
          },
          "metadata": {},
          "execution_count": 24
        }
      ]
    },
    {
      "cell_type": "markdown",
      "metadata": {
        "id": "L2HBzmW3V_OL"
      },
      "source": [
        "## GRID OR RANDOMIZED SEARCH OPTIONS"
      ]
    },
    {
      "cell_type": "markdown",
      "metadata": {
        "id": "-z0myuPNV_OL"
      },
      "source": [
        "Next, we create a parameter optimizing function with a cross validation value of cv=7. This value can be anything more than or equal to 3. Alternatively cv=tscv. The concept of cross validation is used to arrive at the scores of different random combinations of the hyper parameters.\n",
        "These scores would be used to find the best parameters and create a newly optimized Support vector classifier."
      ]
    },
    {
      "cell_type": "code",
      "metadata": {
        "id": "HKBZuv1uV_OL"
      },
      "source": [
        "from sklearn.metrics import SCORERS\n",
        "#sorted(SCORERS.keys()) #to get available scorers"
      ],
      "execution_count": 25,
      "outputs": []
    },
    {
      "cell_type": "code",
      "metadata": {
        "id": "_RDbfCV6V_OM"
      },
      "source": [
        "#cvo = GridSearchCV(pipeline, parameters_gs,cv=tscv, scoring=None)\n",
        "cvo = RandomizedSearchCV(pipeline, parameters_rs, cv=tscv, scoring=None, n_iter=50, random_state=7, n_jobs=-1) \n",
        "# n_iter: Number of parameter settings that are sampled. n_iter trades off runtime vs quality of the solution."
      ],
      "execution_count": 26,
      "outputs": []
    },
    {
      "cell_type": "code",
      "metadata": {
        "colab": {
          "base_uri": "https://localhost:8080/"
        },
        "id": "XdbPmkmwV_ON",
        "outputId": "e812d121-9735-44cd-c669-75ccf6804a5a"
      },
      "source": [
        "cvo.fit(X.iloc[:split],y.iloc[:split])"
      ],
      "execution_count": 27,
      "outputs": [
        {
          "output_type": "execute_result",
          "data": {
            "text/plain": [
              "RandomizedSearchCV(cv=TimeSeriesSplit(max_train_size=None, n_splits=7),\n",
              "                   error_score=nan,\n",
              "                   estimator=Pipeline(memory=None,\n",
              "                                      steps=[('scaler',\n",
              "                                              StandardScaler(copy=True,\n",
              "                                                             with_mean=True,\n",
              "                                                             with_std=True)),\n",
              "                                             ('svc',\n",
              "                                              SVC(C=1.0, break_ties=False,\n",
              "                                                  cache_size=200,\n",
              "                                                  class_weight=None, coef0=0.0,\n",
              "                                                  decision_function_shape='ovr',\n",
              "                                                  degree=3, gamma='scale',\n",
              "                                                  kernel='rbf', max_iter=-1,\n",
              "                                                  proba...\n",
              "       0.18068966, 0.21482759, 0.24896552, 0.28310345, 0.31724138,\n",
              "       0.35137931, 0.38551724, 0.41965517, 0.4537931 , 0.48793103,\n",
              "       0.52206897, 0.5562069 , 0.59034483, 0.62448276, 0.65862069,\n",
              "       0.69275862, 0.72689655, 0.76103448, 0.79517241, 0.82931034,\n",
              "       0.86344828, 0.89758621, 0.93172414, 0.96586207, 1.        ]),\n",
              "                                        'svc__kernel': ['rbf', 'poly']},\n",
              "                   pre_dispatch='2*n_jobs', random_state=7, refit=True,\n",
              "                   return_train_score=False, scoring=None, verbose=0)"
            ]
          },
          "metadata": {},
          "execution_count": 27
        }
      ]
    },
    {
      "cell_type": "markdown",
      "metadata": {
        "id": "-efL4VY6V_ON"
      },
      "source": [
        "### Training on and fetching the best parameters\n",
        "             \n",
        "Next, we fit the train data to the 'randomized search cross validation' function to obtain the best hyper parameters. The best parameters can be obtained using the best_params function."
      ]
    },
    {
      "cell_type": "markdown",
      "metadata": {
        "id": "7DHS6s8iV_ON"
      },
      "source": [
        "if cvo1.best_score_ > cvo2.best_score_:\n",
        "    cvo = cvo1\n",
        "else:\n",
        "    cvo = cvo2"
      ]
    },
    {
      "cell_type": "code",
      "metadata": {
        "colab": {
          "base_uri": "https://localhost:8080/"
        },
        "id": "-y6wmjs0V_ON",
        "outputId": "6a2fd36e-12c7-406c-9892-e16d73517ca6"
      },
      "source": [
        "cvo.best_params_  "
      ],
      "execution_count": 28,
      "outputs": [
        {
          "output_type": "execute_result",
          "data": {
            "text/plain": [
              "{'svc__C': 4620.7692307692305,\n",
              " 'svc__degree': 5,\n",
              " 'svc__gamma': 0.07827586206896552,\n",
              " 'svc__kernel': 'rbf'}"
            ]
          },
          "metadata": {},
          "execution_count": 28
        }
      ]
    },
    {
      "cell_type": "markdown",
      "metadata": {
        "id": "VJYQZW5rV_OO"
      },
      "source": [
        "## CREATING THE SEARCH VECTOR MODEL"
      ]
    },
    {
      "cell_type": "markdown",
      "metadata": {
        "id": "MTo3N2q3V_OO"
      },
      "source": [
        "### Prediction"
      ]
    },
    {
      "cell_type": "code",
      "metadata": {
        "id": "KPOK-7DdV_OO",
        "colab": {
          "base_uri": "https://localhost:8080/"
        },
        "outputId": "a7f1aa56-8863-4546-b9f4-1b78c4888390"
      },
      "source": [
        "y_predict = cvo.predict(X.iloc[split:])\n",
        "y_predict"
      ],
      "execution_count": 29,
      "outputs": [
        {
          "output_type": "execute_result",
          "data": {
            "text/plain": [
              "array([-1,  0, -1,  0,  1, -1, -1,  1, -1, -1, -1,  1, -1, -1,  1, -1,  0,\n",
              "        1, -1,  0,  1, -1, -1,  0,  1, -1,  0,  1, -1,  1, -1, -1,  1,  1,\n",
              "       -1,  1,  1,  1, -1,  1, -1,  0,  1, -1, -1,  1,  0,  1, -1, -1, -1,\n",
              "        1,  1,  1,  1, -1,  1,  0, -1,  1,  0,  0,  1, -1,  1,  1, -1, -1,\n",
              "       -1,  1,  0,  0, -1, -1,  1,  0,  0, -1,  0, -1,  0,  1, -1,  0,  0,\n",
              "        0, -1,  1,  0, -1, -1,  1, -1, -1, -1, -1, -1, -1,  0,  0,  1, -1,\n",
              "       -1,  0,  1, -1, -1,  0, -1,  0,  0,  1, -1, -1,  1, -1, -1,  0,  1,\n",
              "       -1, -1,  0,  1,  1,  1, -1, -1, -1,  0])"
            ]
          },
          "metadata": {},
          "execution_count": 29
        }
      ]
    },
    {
      "cell_type": "markdown",
      "metadata": {
        "id": "SqNYPPtPV_OP"
      },
      "source": [
        "Now we will create a new column 'Pred_Signal' in ‘df’ to save all the predictions for both train data and test data."
      ]
    },
    {
      "cell_type": "code",
      "metadata": {
        "id": "_GBMT0FKV_OP"
      },
      "source": [
        "df['Pred_Signal'] = 0"
      ],
      "execution_count": 30,
      "outputs": []
    },
    {
      "cell_type": "markdown",
      "metadata": {
        "id": "sTZ75D8zV_OP"
      },
      "source": [
        "To save predicted 'y' values for test data, we can simply assign 'y_predict' to 'Pred_Signal' using correct indexing specified by .iloc function.\n",
        "To save predicted 'y' values for train data, we make predictions for train data and save it similarly."
      ]
    },
    {
      "cell_type": "code",
      "metadata": {
        "id": "2uRUQxpNV_OP"
      },
      "source": [
        "df.iloc[:split, df.columns.get_loc('Pred_Signal')] = pd.Series(cvo.predict(X.iloc[:split]).tolist())\n",
        "df.iloc[split:, df.columns.get_loc('Pred_Signal')] = y_predict"
      ],
      "execution_count": 31,
      "outputs": []
    },
    {
      "cell_type": "markdown",
      "metadata": {
        "id": "lxK__35zV_OP"
      },
      "source": [
        "Since, the algorithm was trained on the train data, it’s accuracy of prediction is expected to be better on this train data compared to the test data. You can print these two seperately to check the accuracies. "
      ]
    },
    {
      "cell_type": "code",
      "metadata": {
        "colab": {
          "base_uri": "https://localhost:8080/"
        },
        "id": "X0TmnexMrYAN",
        "outputId": "011dde0f-4ab4-4003-e925-244542e99aac"
      },
      "source": [
        "accuracy_score(y.iloc[split:], y_predict)"
      ],
      "execution_count": 32,
      "outputs": [
        {
          "output_type": "execute_result",
          "data": {
            "text/plain": [
              "0.4186046511627907"
            ]
          },
          "metadata": {},
          "execution_count": 32
        }
      ]
    },
    {
      "cell_type": "code",
      "metadata": {
        "colab": {
          "base_uri": "https://localhost:8080/"
        },
        "id": "dl9U84vsr3pL",
        "outputId": "0df4e9bc-c50c-497c-ed7e-d63af8cdbfcb"
      },
      "source": [
        "accuracy_score(y.iloc[:split], pd.Series(cvo.predict(X.iloc[:split]).tolist()))"
      ],
      "execution_count": 33,
      "outputs": [
        {
          "output_type": "execute_result",
          "data": {
            "text/plain": [
              "1.0"
            ]
          },
          "metadata": {},
          "execution_count": 33
        }
      ]
    },
    {
      "cell_type": "markdown",
      "metadata": {
        "id": "NOHjX0o5V_OQ"
      },
      "source": [
        "# EVALUATING THE SIGNAL PART OF THE MODEL WITH A CLASSIFICATION REPORT AND CONFUSION MATRIX VS. DUMMY"
      ]
    },
    {
      "cell_type": "code",
      "metadata": {
        "id": "Cci8NG8kV_OQ"
      },
      "source": [
        "from sklearn.metrics import confusion_matrix\n",
        "import seaborn as sns\n",
        "#from sklearn.metrics import plot_confusion_matrix\n",
        "from sklearn.utils.multiclass import unique_labels\n",
        "from sklearn.dummy import DummyClassifier\n",
        "from sklearn.metrics import classification_report"
      ],
      "execution_count": 34,
      "outputs": []
    },
    {
      "cell_type": "markdown",
      "metadata": {
        "id": "pgnlcmV4V_OQ"
      },
      "source": [
        "Evaluation by a Dummy Classifier"
      ]
    },
    {
      "cell_type": "code",
      "metadata": {
        "colab": {
          "base_uri": "https://localhost:8080/",
          "height": 473
        },
        "id": "7brKCDqVV_OQ",
        "outputId": "cbb9b992-bb2d-48be-b392-e8c6a1f32636"
      },
      "source": [
        "ss1 = StandardScaler()\n",
        "cls_d = DummyClassifier(strategy='uniform') # We can use other strategies\n",
        "cls_d.fit(ss1.fit_transform(X.iloc[:split]),y.iloc[:split])\n",
        "y_predict_d = cls_d.predict(ss1.transform(X.iloc[split:]))\n",
        "\n",
        "# Plot classification report confusion matrix of dummy\n",
        "print(classification_report(df['Signal'].iloc[split:], y_predict_d))\n",
        "plot_confusion_matrix(cls_d,ss1.transform(X.iloc[split:]), df['Signal'].iloc[split:], normalize='true')"
      ],
      "execution_count": 35,
      "outputs": [
        {
          "output_type": "stream",
          "name": "stdout",
          "text": [
            "              precision    recall  f1-score   support\n",
            "\n",
            "          -1       0.22      0.32      0.26        31\n",
            "           0       0.40      0.32      0.36        60\n",
            "           1       0.31      0.29      0.30        38\n",
            "\n",
            "    accuracy                           0.31       129\n",
            "   macro avg       0.31      0.31      0.30       129\n",
            "weighted avg       0.33      0.31      0.32       129\n",
            "\n"
          ]
        },
        {
          "output_type": "execute_result",
          "data": {
            "text/plain": [
              "<sklearn.metrics._plot.confusion_matrix.ConfusionMatrixDisplay at 0x7fa42366d1d0>"
            ]
          },
          "metadata": {},
          "execution_count": 35
        },
        {
          "output_type": "display_data",
          "data": {
            "image/png": "[encoded data removed]",
            "text/plain": [
              "<Figure size 432x288 with 2 Axes>"
            ]
          },
          "metadata": {
            "needs_background": "light"
          }
        }
      ]
    },
    {
      "cell_type": "markdown",
      "metadata": {
        "id": "SklcKtS4V_OQ"
      },
      "source": [
        "Next we see the classification report and confusion matrix of the proposed classifier. It should be better than the dummy classifier:"
      ]
    },
    {
      "cell_type": "code",
      "metadata": {
        "colab": {
          "base_uri": "https://localhost:8080/",
          "height": 473
        },
        "id": "SOR4rKa6V_OQ",
        "outputId": "cb517e52-9f08-4149-af04-53327dc8b48c"
      },
      "source": [
        "print(classification_report(df['Signal'].iloc[split:], y_predict))\n",
        "plot_confusion_matrix(cvo,X.iloc[split:], df['Signal'].iloc[split:], normalize='true') "
      ],
      "execution_count": 36,
      "outputs": [
        {
          "output_type": "stream",
          "name": "stdout",
          "text": [
            "              precision    recall  f1-score   support\n",
            "\n",
            "          -1       0.32      0.61      0.42        31\n",
            "           0       0.57      0.28      0.38        60\n",
            "           1       0.45      0.47      0.46        38\n",
            "\n",
            "    accuracy                           0.42       129\n",
            "   macro avg       0.45      0.46      0.42       129\n",
            "weighted avg       0.47      0.42      0.41       129\n",
            "\n"
          ]
        },
        {
          "output_type": "execute_result",
          "data": {
            "text/plain": [
              "<sklearn.metrics._plot.confusion_matrix.ConfusionMatrixDisplay at 0x7fa4229515d0>"
            ]
          },
          "metadata": {},
          "execution_count": 36
        },
        {
          "output_type": "display_data",
          "data": {
            "image/png": "[encoded data removed]",
            "text/plain": [
              "<Figure size 432x288 with 2 Axes>"
            ]
          },
          "metadata": {
            "needs_background": "light"
          }
        }
      ]
    },
    {
      "cell_type": "code",
      "metadata": {
        "colab": {
          "base_uri": "https://localhost:8080/"
        },
        "id": "rO6ULm8qV_OR",
        "outputId": "fd947f28-fc96-4747-938b-e09f088a0f2f"
      },
      "source": [
        "accuracy_score(y.iloc[split:],y_predict, normalize=True)"
      ],
      "execution_count": 37,
      "outputs": [
        {
          "output_type": "execute_result",
          "data": {
            "text/plain": [
              "0.4186046511627907"
            ]
          },
          "metadata": {},
          "execution_count": 37
        }
      ]
    },
    {
      "cell_type": "markdown",
      "metadata": {
        "id": "2ann7RuQV_OS"
      },
      "source": [
        "### Using the Model For Trading Strategy\n",
        "* Trading Strategy \n",
        "> Our trading strategy is simply to buy/sell/do-nothing at that period for which the Signal is generated by the algorithm. The strategy assumes that you always get a fill at the \"Open\" prices. \n",
        "\n",
        "* lysing the Performance\n",
        "> Recall, we had calculated and saved returns on 'Open' prices in 'Ret'. We will create a column named Ret1 to store the strategy’s returns based on the Signal. ‘Cu_Ret1’ is initialized to hold cumulative returns of our strategy.  "
      ]
    },
    {
      "cell_type": "code",
      "metadata": {
        "id": "QMpRwJJsV_OS"
      },
      "source": [
        "df['Ret1'] = df['Ret'] * df['Pred_Signal'] \n",
        "df['Cu_Ret1'] = 0."
      ],
      "execution_count": 38,
      "outputs": []
    },
    {
      "cell_type": "code",
      "metadata": {
        "colab": {
          "base_uri": "https://localhost:8080/",
          "height": 397
        },
        "id": "fU7J95Exrw7O",
        "outputId": "5861c0d0-fd2d-423e-f89b-e94b51fa4169"
      },
      "source": [
        "df.head()"
      ],
      "execution_count": 39,
      "outputs": [
        {
          "output_type": "execute_result",
          "data": {
            "text/html": [
              "<div>\n",
              "<style scoped>\n",
              "    .dataframe tbody tr th:only-of-type {\n",
              "        vertical-align: middle;\n",
              "    }\n",
              "\n",
              "    .dataframe tbody tr th {\n",
              "        vertical-align: top;\n",
              "    }\n",
              "\n",
              "    .dataframe thead th {\n",
              "        text-align: right;\n",
              "    }\n",
              "</style>\n",
              "<table border=\"1\" class=\"dataframe\">\n",
              "  <thead>\n",
              "    <tr style=\"text-align: right;\">\n",
              "      <th></th>\n",
              "      <th>Time</th>\n",
              "      <th>Open</th>\n",
              "      <th>High</th>\n",
              "      <th>Low</th>\n",
              "      <th>Close</th>\n",
              "      <th>Volume</th>\n",
              "      <th>RSI</th>\n",
              "      <th>SMA</th>\n",
              "      <th>SAR</th>\n",
              "      <th>ADX</th>\n",
              "      <th>Corr</th>\n",
              "      <th>close</th>\n",
              "      <th>high</th>\n",
              "      <th>low</th>\n",
              "      <th>OO</th>\n",
              "      <th>OC</th>\n",
              "      <th>Ret</th>\n",
              "      <th>return1</th>\n",
              "      <th>return2</th>\n",
              "      <th>return3</th>\n",
              "      <th>return4</th>\n",
              "      <th>return5</th>\n",
              "      <th>return6</th>\n",
              "      <th>return7</th>\n",
              "      <th>return8</th>\n",
              "      <th>return9</th>\n",
              "      <th>Signal</th>\n",
              "      <th>Pred_Signal</th>\n",
              "      <th>Ret1</th>\n",
              "      <th>Cu_Ret1</th>\n",
              "    </tr>\n",
              "  </thead>\n",
              "  <tbody>\n",
              "    <tr>\n",
              "      <th>20</th>\n",
              "      <td>2021-10-18 09:35:59</td>\n",
              "      <td>317.90</td>\n",
              "      <td>318.20</td>\n",
              "      <td>317.60</td>\n",
              "      <td>317.80</td>\n",
              "      <td>29910</td>\n",
              "      <td>43.095793</td>\n",
              "      <td>318.850</td>\n",
              "      <td>319.184400</td>\n",
              "      <td>13.793519</td>\n",
              "      <td>0.816229</td>\n",
              "      <td>317.90</td>\n",
              "      <td>318.30</td>\n",
              "      <td>317.85</td>\n",
              "      <td>-0.35</td>\n",
              "      <td>0.00</td>\n",
              "      <td>-0.000315</td>\n",
              "      <td>-0.001100</td>\n",
              "      <td>-0.001884</td>\n",
              "      <td>-0.000314</td>\n",
              "      <td>-0.000157</td>\n",
              "      <td>-0.000157</td>\n",
              "      <td>-0.001253</td>\n",
              "      <td>-0.000782</td>\n",
              "      <td>0.002035</td>\n",
              "      <td>0.002196</td>\n",
              "      <td>-1</td>\n",
              "      <td>1.0</td>\n",
              "      <td>-0.000315</td>\n",
              "      <td>0.0</td>\n",
              "    </tr>\n",
              "    <tr>\n",
              "      <th>21</th>\n",
              "      <td>2021-10-18 09:36:59</td>\n",
              "      <td>317.80</td>\n",
              "      <td>317.85</td>\n",
              "      <td>317.40</td>\n",
              "      <td>317.40</td>\n",
              "      <td>21161</td>\n",
              "      <td>41.910041</td>\n",
              "      <td>318.795</td>\n",
              "      <td>318.917520</td>\n",
              "      <td>15.563131</td>\n",
              "      <td>0.871812</td>\n",
              "      <td>317.80</td>\n",
              "      <td>318.20</td>\n",
              "      <td>317.60</td>\n",
              "      <td>-0.10</td>\n",
              "      <td>0.00</td>\n",
              "      <td>-0.001259</td>\n",
              "      <td>-0.000315</td>\n",
              "      <td>-0.001100</td>\n",
              "      <td>-0.001884</td>\n",
              "      <td>-0.000314</td>\n",
              "      <td>-0.000157</td>\n",
              "      <td>-0.000157</td>\n",
              "      <td>-0.001253</td>\n",
              "      <td>-0.000782</td>\n",
              "      <td>0.002035</td>\n",
              "      <td>-1</td>\n",
              "      <td>1.0</td>\n",
              "      <td>-0.001259</td>\n",
              "      <td>0.0</td>\n",
              "    </tr>\n",
              "    <tr>\n",
              "      <th>22</th>\n",
              "      <td>2021-10-18 09:37:59</td>\n",
              "      <td>317.40</td>\n",
              "      <td>318.15</td>\n",
              "      <td>317.25</td>\n",
              "      <td>318.00</td>\n",
              "      <td>20039</td>\n",
              "      <td>37.343463</td>\n",
              "      <td>318.630</td>\n",
              "      <td>318.654016</td>\n",
              "      <td>17.581703</td>\n",
              "      <td>0.919286</td>\n",
              "      <td>317.40</td>\n",
              "      <td>317.85</td>\n",
              "      <td>317.40</td>\n",
              "      <td>-0.40</td>\n",
              "      <td>0.00</td>\n",
              "      <td>0.002046</td>\n",
              "      <td>-0.001259</td>\n",
              "      <td>-0.000315</td>\n",
              "      <td>-0.001100</td>\n",
              "      <td>-0.001884</td>\n",
              "      <td>-0.000314</td>\n",
              "      <td>-0.000157</td>\n",
              "      <td>-0.000157</td>\n",
              "      <td>-0.001253</td>\n",
              "      <td>-0.000782</td>\n",
              "      <td>1</td>\n",
              "      <td>-1.0</td>\n",
              "      <td>-0.002046</td>\n",
              "      <td>0.0</td>\n",
              "    </tr>\n",
              "    <tr>\n",
              "      <th>23</th>\n",
              "      <td>2021-10-18 09:38:59</td>\n",
              "      <td>318.05</td>\n",
              "      <td>318.65</td>\n",
              "      <td>317.85</td>\n",
              "      <td>318.65</td>\n",
              "      <td>20345</td>\n",
              "      <td>46.973248</td>\n",
              "      <td>318.465</td>\n",
              "      <td>318.403213</td>\n",
              "      <td>18.123915</td>\n",
              "      <td>0.892114</td>\n",
              "      <td>318.00</td>\n",
              "      <td>318.15</td>\n",
              "      <td>317.25</td>\n",
              "      <td>0.65</td>\n",
              "      <td>0.05</td>\n",
              "      <td>0.001885</td>\n",
              "      <td>0.002046</td>\n",
              "      <td>-0.001259</td>\n",
              "      <td>-0.000315</td>\n",
              "      <td>-0.001100</td>\n",
              "      <td>-0.001884</td>\n",
              "      <td>-0.000314</td>\n",
              "      <td>-0.000157</td>\n",
              "      <td>-0.000157</td>\n",
              "      <td>-0.001253</td>\n",
              "      <td>1</td>\n",
              "      <td>0.0</td>\n",
              "      <td>0.000000</td>\n",
              "      <td>0.0</td>\n",
              "    </tr>\n",
              "    <tr>\n",
              "      <th>24</th>\n",
              "      <td>2021-10-18 09:39:59</td>\n",
              "      <td>318.65</td>\n",
              "      <td>319.00</td>\n",
              "      <td>318.10</td>\n",
              "      <td>318.25</td>\n",
              "      <td>86988</td>\n",
              "      <td>55.251655</td>\n",
              "      <td>318.380</td>\n",
              "      <td>317.250000</td>\n",
              "      <td>16.790058</td>\n",
              "      <td>0.616495</td>\n",
              "      <td>318.65</td>\n",
              "      <td>318.65</td>\n",
              "      <td>317.85</td>\n",
              "      <td>0.60</td>\n",
              "      <td>0.00</td>\n",
              "      <td>-0.001413</td>\n",
              "      <td>0.001885</td>\n",
              "      <td>0.002046</td>\n",
              "      <td>-0.001259</td>\n",
              "      <td>-0.000315</td>\n",
              "      <td>-0.001100</td>\n",
              "      <td>-0.001884</td>\n",
              "      <td>-0.000314</td>\n",
              "      <td>-0.000157</td>\n",
              "      <td>-0.000157</td>\n",
              "      <td>-1</td>\n",
              "      <td>0.0</td>\n",
              "      <td>-0.000000</td>\n",
              "      <td>0.0</td>\n",
              "    </tr>\n",
              "  </tbody>\n",
              "</table>\n",
              "</div>"
            ],
            "text/plain": [
              "                  Time    Open    High  ...  Pred_Signal      Ret1  Cu_Ret1\n",
              "20 2021-10-18 09:35:59  317.90  318.20  ...          1.0 -0.000315      0.0\n",
              "21 2021-10-18 09:36:59  317.80  317.85  ...          1.0 -0.001259      0.0\n",
              "22 2021-10-18 09:37:59  317.40  318.15  ...         -1.0 -0.002046      0.0\n",
              "23 2021-10-18 09:38:59  318.05  318.65  ...          0.0  0.000000      0.0\n",
              "24 2021-10-18 09:39:59  318.65  319.00  ...          0.0 -0.000000      0.0\n",
              "\n",
              "[5 rows x 30 columns]"
            ]
          },
          "metadata": {},
          "execution_count": 39
        }
      ]
    },
    {
      "cell_type": "markdown",
      "metadata": {
        "id": "RsaSmaSOV_OT"
      },
      "source": [
        "Please note that here only the test data was used to compare the performance of the strategy. We can pass the entire 'Ret1' column and check the performance on both the test and train data."
      ]
    },
    {
      "cell_type": "code",
      "metadata": {
        "id": "MSNNEnUPV_OT"
      },
      "source": [
        "df['Cu_Ret1'] = np.cumsum(df['Ret1'].iloc[split:])"
      ],
      "execution_count": 40,
      "outputs": []
    },
    {
      "cell_type": "markdown",
      "metadata": {
        "id": "59BrNR0aV_OT"
      },
      "source": [
        "Now, we will create a column named 'Cu_Ret' to store the cumulative market’s returns for the test data."
      ]
    },
    {
      "cell_type": "code",
      "metadata": {
        "id": "xKQgprckV_OU"
      },
      "source": [
        "df['Cu_Ret'] = 0.\n",
        "df['Cu_Ret'] = np.cumsum(df['Ret'].iloc[split:])"
      ],
      "execution_count": 41,
      "outputs": []
    },
    {
      "cell_type": "markdown",
      "metadata": {
        "id": "4kY7s6NjV_OV"
      },
      "source": [
        "Next, we will calculate the standard deviation of the cumulative strategy returns, and use it to further to calculate the Sharpe ratio, which is used as a measure for the strategy's performance."
      ]
    },
    {
      "cell_type": "code",
      "metadata": {
        "colab": {
          "base_uri": "https://localhost:8080/"
        },
        "id": "gYIwf9A1V_OV",
        "outputId": "369c46c3-49f9-45a7-9af3-ce4649cde632"
      },
      "source": [
        "Std = np.std(df['Cu_Ret1'])\n",
        "Sharpe = (df['Cu_Ret1'].iloc[-1] - df['Cu_Ret'].iloc[-1])/Std # Will not annualize this because the data is intraday data\n",
        "print('Sharpe Ratio:', Sharpe)"
      ],
      "execution_count": 42,
      "outputs": [
        {
          "output_type": "stream",
          "name": "stdout",
          "text": [
            "Sharpe Ratio: 3.1866759927987247\n"
          ]
        }
      ]
    },
    {
      "cell_type": "markdown",
      "metadata": {
        "id": "OvEWeuKEV_OV"
      },
      "source": [
        "\n",
        "Now We can plot the results to visualize the performance.\n"
      ]
    },
    {
      "cell_type": "code",
      "metadata": {
        "colab": {
          "base_uri": "https://localhost:8080/",
          "height": 265
        },
        "id": "xG6xORDhV_OV",
        "outputId": "e1418245-2874-433c-b0eb-57406e77d055"
      },
      "source": [
        "plt.plot(df['Cu_Ret1'], color='r', label='Strategy Returns')\n",
        "plt.plot(df['Cu_Ret'], color='g', label='Market Returns')\n",
        "plt.figtext(0.14,0.7,s='Sharpe ratio: %.2f'%Sharpe)\n",
        "plt.legend(loc='best')\n",
        "plt.show()"
      ],
      "execution_count": 43,
      "outputs": [
        {
          "output_type": "display_data",
          "data": {
            "image/png": "[encoded data removed]",
            "text/plain": [
              "<Figure size 432x288 with 1 Axes>"
            ]
          },
          "metadata": {
            "needs_background": "light"
          }
        }
      ]
    },
    {
      "cell_type": "markdown",
      "metadata": {
        "id": "2HEsNGqJV_OX"
      },
      "source": [
        "#### Finally lets see what happens when a dummy classifier does the trading"
      ]
    },
    {
      "cell_type": "code",
      "metadata": {
        "colab": {
          "base_uri": "https://localhost:8080/",
          "height": 283
        },
        "id": "aJ4Wd9PSV_OX",
        "outputId": "7b734a66-4413-425a-df1b-af662578715d"
      },
      "source": [
        "df.iloc[split:, df.columns.get_loc('Pred_Signal')] = y_predict_d\n",
        "df['Ret1'] = df['Ret'] * df['Pred_Signal'] \n",
        "df['Cu_Ret1'] = 0.\n",
        "df['Cu_Ret1'] = np.cumsum(df['Ret1'].iloc[split:])\n",
        "df['Cu_Ret'] = 0.\n",
        "df['Cu_Ret']=  np.cumsum(df['Ret'].iloc[split:])\n",
        "Std = np.std(df['Cu_Ret1'])\n",
        "Sharpe = (df['Cu_Ret1'].iloc[-1] - df['Cu_Ret'].iloc[-1])/Std # will not annualize this because the data is intraday data\n",
        "print('Sharpe Ratio:', Sharpe)\n",
        "plt.plot(df['Cu_Ret1'], color='r', label='Strategy Returns')\n",
        "plt.plot(df['Cu_Ret'],color='g', label='Market Returns')\n",
        "plt.figtext(0.14,0.7, s='Sharpe ratio: %.2f'%Sharpe)\n",
        "plt.legend(loc='best')\n",
        "plt.show()"
      ],
      "execution_count": 44,
      "outputs": [
        {
          "output_type": "stream",
          "name": "stdout",
          "text": [
            "Sharpe Ratio: -2.2446487242119657\n"
          ]
        },
        {
          "output_type": "display_data",
          "data": {
            "image/png": "[encoded data removed]",
            "text/plain": [
              "<Figure size 432x288 with 1 Axes>"
            ]
          },
          "metadata": {
            "needs_background": "light"
          }
        }
      ]
    }
  ]
}