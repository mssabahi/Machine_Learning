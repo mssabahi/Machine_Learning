{
  "nbformat": 4,
  "nbformat_minor": 0,
  "metadata": {
    "colab": {
      "name": "ch_03.ipynb",
      "provenance": [],
      "collapsed_sections": [],
      "mount_file_id": "1ZABYN2IUwMWlz78s_20oX8uMKGMv0HvJ",
      "authorship_tag": "ABX9TyNmP7gsXVjGc4uiyV+RAD10",
      "include_colab_link": true
    },
    "kernelspec": {
      "name": "python3",
      "display_name": "Python 3"
    },
    "language_info": {
      "name": "python"
    }
  },
  "cells": [
    {
      "cell_type": "markdown",
      "metadata": {
        "id": "view-in-github",
        "colab_type": "text"
      },
      "source": [
        "<a href=\"https://colab.research.google.com/github/mssabahi/Machine_Learning/blob/master/ch_03.ipynb\" target=\"_parent\"><img src=\"https://colab.research.google.com/assets/colab-badge.svg\" alt=\"Open In Colab\"/></a>"
      ]
    },
    {
      "cell_type": "markdown",
      "source": [
        "# Dimensionality reduction: feature extraction\n",
        "\n",
        "When dealing with high dimensional data, it is often useful to reduce the dimensionality by projecting the data to a lower dimensional subspace which captures the “essence” of the data. This is called dimensionality reduction."
      ],
      "metadata": {
        "id": "Rla52BFo5tPI"
      }
    },
    {
      "cell_type": "markdown",
      "source": [
        "# Unsupervised learning methods\n",
        "* Principal component analysis (PCA) \n",
        "* Singular value decomposition (SVD)\n",
        "* Clustering/grouping \n",
        "*  Exploratory data mining"
      ],
      "metadata": {
        "id": "CmjjoBuL6b-2"
      }
    },
    {
      "cell_type": "markdown",
      "source": [
        "# Dimensionality reduction methods\n",
        "* PCA\n",
        "* SVD"
      ],
      "metadata": {
        "id": "OWoxUZJh6b69"
      }
    },
    {
      "cell_type": "markdown",
      "source": [
        "# PCA\n",
        "* Relationship between X and y\n",
        "* Calculated by finnding principal axes\n",
        "* Translates, rotates and scales\n",
        "* Lower-dimensional projection of the data"
      ],
      "metadata": {
        "id": "WfljbAnX6b4I"
      }
    },
    {
      "cell_type": "markdown",
      "source": [
        "# SVD\n",
        "\n",
        "Singular Value Decomposition, or SVD, might be the most popular technique for dimensionality reduction when data is sparse. Sparse data refers to rows of data where many of the values are zero. This is often the case in some problem domains like recommender systems where a user has a rating for very few movies or songs in the database and zero ratings for all other cases. Another common example is a bag of words model of a text document, where the document has a count or frequency for some words and most words have a 0 value.\n",
        "\n",
        "**Examples of sparse data appropriate for applying SVD for dimensionality reduction**:\n",
        "\n",
        "* Recommender Systems\n",
        "* Customer-Product purchases\n",
        "* User-Song Listen Counts\n",
        "* User-Movie Ratings\n",
        "* Text Classification\n",
        "* One Hot Encoding\n",
        "* Bag of Words Counts\n",
        "* TF/IDF\n",
        "\n",
        "# SVD Steps:\n",
        "* Linear algebra and vector calculus\n",
        "* Decomposes data matrix into three\n",
        "matrices\n",
        "* Results in 'singular' values\n",
        "* Variance in data approximately equals  sum of squares (SS) of singular values\n"
      ],
      "metadata": {
        "id": "IEO9p5G56b22"
      }
    },
    {
      "cell_type": "markdown",
      "source": [
        "# Dimensionality Reduction Functions\n",
        "\n",
        "\n",
        "```\n",
        "sklearn.decomposition.PCA              principal component analysis\n",
        "sklearn.decomposition.TruncatedSVD     singular value decomposition\n",
        "PCA/SVD.fit_transform(X)               fits and transforms data\n",
        "PCA/SVD.explained_variance_ratio_      variance explained by PCs```\n",
        "\n",
        "\n"
      ],
      "metadata": {
        "id": "RN97hiMB6bzM"
      }
    },
    {
      "cell_type": "markdown",
      "source": [
        "# Principal component analysis\n",
        "We can reduce the dimensionality of our dataset using regularization and feature selection. It is important to be able to explain different aspects of reducing dimensionality. Large datasets take a long time to compute, and noise in your data can bias your results.\n",
        "\n",
        "One way of reducing dimensionality is principal component analysis. It's an effective way of reducing the size of the data by creating new features that preserve the most useful information on a dataset while at the same time removing multicollinearity. "
      ],
      "metadata": {
        "id": "bb2WwKEe6bxm"
      }
    },
    {
      "cell_type": "code",
      "source": [
        "import numpy as np\n",
        "import pandas as pd\n",
        "import matplotlib.pyplot as plt\n",
        "import seaborn as sns"
      ],
      "metadata": {
        "id": "FrsKSn9IQNrI"
      },
      "execution_count": null,
      "outputs": []
    },
    {
      "cell_type": "code",
      "source": [
        "diabetes = pd.read_csv('/content/drive/MyDrive/Colab_Notebooks/Data_Camp/ML_Interview/Chapter_03/diabetes.csv')\n",
        "diabetes.head()"
      ],
      "metadata": {
        "id": "zQ9RuKer6bvW",
        "colab": {
          "base_uri": "https://localhost:8080/",
          "height": 206
        },
        "outputId": "1d91f3fd-f73e-43a0-a48c-3eca5c965926"
      },
      "execution_count": null,
      "outputs": [
        {
          "output_type": "execute_result",
          "data": {
            "text/html": [
              "<div>\n",
              "<style scoped>\n",
              "    .dataframe tbody tr th:only-of-type {\n",
              "        vertical-align: middle;\n",
              "    }\n",
              "\n",
              "    .dataframe tbody tr th {\n",
              "        vertical-align: top;\n",
              "    }\n",
              "\n",
              "    .dataframe thead th {\n",
              "        text-align: right;\n",
              "    }\n",
              "</style>\n",
              "<table border=\"1\" class=\"dataframe\">\n",
              "  <thead>\n",
              "    <tr style=\"text-align: right;\">\n",
              "      <th></th>\n",
              "      <th>age</th>\n",
              "      <th>sex</th>\n",
              "      <th>bmi</th>\n",
              "      <th>bp</th>\n",
              "      <th>s1</th>\n",
              "      <th>s2</th>\n",
              "      <th>s3</th>\n",
              "      <th>s4</th>\n",
              "      <th>s5</th>\n",
              "      <th>s6</th>\n",
              "      <th>progression</th>\n",
              "    </tr>\n",
              "  </thead>\n",
              "  <tbody>\n",
              "    <tr>\n",
              "      <th>0</th>\n",
              "      <td>0.038076</td>\n",
              "      <td>0.050680</td>\n",
              "      <td>0.061696</td>\n",
              "      <td>0.021872</td>\n",
              "      <td>-0.044223</td>\n",
              "      <td>-0.034821</td>\n",
              "      <td>-0.043401</td>\n",
              "      <td>-0.002592</td>\n",
              "      <td>0.019908</td>\n",
              "      <td>-0.017646</td>\n",
              "      <td>151.0</td>\n",
              "    </tr>\n",
              "    <tr>\n",
              "      <th>1</th>\n",
              "      <td>-0.001882</td>\n",
              "      <td>-0.044642</td>\n",
              "      <td>-0.051474</td>\n",
              "      <td>-0.026328</td>\n",
              "      <td>-0.008449</td>\n",
              "      <td>-0.019163</td>\n",
              "      <td>0.074412</td>\n",
              "      <td>-0.039493</td>\n",
              "      <td>-0.068330</td>\n",
              "      <td>-0.092204</td>\n",
              "      <td>75.0</td>\n",
              "    </tr>\n",
              "    <tr>\n",
              "      <th>2</th>\n",
              "      <td>0.085299</td>\n",
              "      <td>0.050680</td>\n",
              "      <td>0.044451</td>\n",
              "      <td>-0.005671</td>\n",
              "      <td>-0.045599</td>\n",
              "      <td>-0.034194</td>\n",
              "      <td>-0.032356</td>\n",
              "      <td>-0.002592</td>\n",
              "      <td>0.002864</td>\n",
              "      <td>-0.025930</td>\n",
              "      <td>141.0</td>\n",
              "    </tr>\n",
              "    <tr>\n",
              "      <th>3</th>\n",
              "      <td>-0.089063</td>\n",
              "      <td>-0.044642</td>\n",
              "      <td>-0.011595</td>\n",
              "      <td>-0.036656</td>\n",
              "      <td>0.012191</td>\n",
              "      <td>0.024991</td>\n",
              "      <td>-0.036038</td>\n",
              "      <td>0.034309</td>\n",
              "      <td>0.022692</td>\n",
              "      <td>-0.009362</td>\n",
              "      <td>206.0</td>\n",
              "    </tr>\n",
              "    <tr>\n",
              "      <th>4</th>\n",
              "      <td>0.005383</td>\n",
              "      <td>-0.044642</td>\n",
              "      <td>-0.036385</td>\n",
              "      <td>0.021872</td>\n",
              "      <td>0.003935</td>\n",
              "      <td>0.015596</td>\n",
              "      <td>0.008142</td>\n",
              "      <td>-0.002592</td>\n",
              "      <td>-0.031991</td>\n",
              "      <td>-0.046641</td>\n",
              "      <td>135.0</td>\n",
              "    </tr>\n",
              "  </tbody>\n",
              "</table>\n",
              "</div>"
            ],
            "text/plain": [
              "        age       sex       bmi  ...        s5        s6  progression\n",
              "0  0.038076  0.050680  0.061696  ...  0.019908 -0.017646        151.0\n",
              "1 -0.001882 -0.044642 -0.051474  ... -0.068330 -0.092204         75.0\n",
              "2  0.085299  0.050680  0.044451  ...  0.002864 -0.025930        141.0\n",
              "3 -0.089063 -0.044642 -0.011595  ...  0.022692 -0.009362        206.0\n",
              "4  0.005383 -0.044642 -0.036385  ... -0.031991 -0.046641        135.0\n",
              "\n",
              "[5 rows x 11 columns]"
            ]
          },
          "metadata": {},
          "execution_count": 2
        }
      ]
    },
    {
      "cell_type": "code",
      "source": [
        "# Import module\n",
        "from sklearn.decomposition import PCA\n",
        "\n",
        "# Feature matrix and target array\n",
        "X = diabetes.drop('progression', axis=1)\n",
        "y = diabetes['progression']\n",
        "\n",
        "# PCA\n",
        "pca = PCA(n_components=3)\n",
        "\n",
        "# Fit and transform\n",
        "principalComponents = pca.fit_transform(X)\n",
        "\n",
        "# Print ratio of variance explained\n",
        "print(pca.explained_variance_ratio_)"
      ],
      "metadata": {
        "id": "3B2pUYtA6bsM",
        "colab": {
          "base_uri": "https://localhost:8080/"
        },
        "outputId": "dc6d8e86-7eaf-48a4-d30f-f0f4e68f76f9"
      },
      "execution_count": null,
      "outputs": [
        {
          "output_type": "stream",
          "name": "stdout",
          "text": [
            "[0.40242142 0.14923182 0.12059623]\n"
          ]
        }
      ]
    },
    {
      "cell_type": "markdown",
      "source": [
        "# Singular value decomposition\n",
        "\n",
        "In this exercise, we will practice SVD on the diabetes. This particular transformer can work with sparse matrices efficiently, as opposed to PCA, and performs linear dimensionality reductions by way of truncated singular value decomposition."
      ],
      "metadata": {
        "id": "4sW_KMmP6bq2"
      }
    },
    {
      "cell_type": "code",
      "source": [
        "# Import module\n",
        "from sklearn.decomposition import TruncatedSVD\n",
        "# Feature matrix and target array\n",
        "X = diabetes.drop('progression', axis=1)\n",
        "y = diabetes['progression']"
      ],
      "metadata": {
        "id": "JABhi4vS6bnq"
      },
      "execution_count": null,
      "outputs": []
    },
    {
      "cell_type": "code",
      "source": [
        "# Instantiate a singular value decomposition object to perform dimensionality reduction that returns 3 components.\n",
        "\n",
        "# SVD\n",
        "svd = TruncatedSVD(n_components=3)\n",
        "\n",
        "# Fit and transform\n",
        "principalComponents = svd.fit_transform(X)\n",
        "\n",
        "# Print ratio of variance explained\n",
        "print(svd.explained_variance_ratio_)"
      ],
      "metadata": {
        "id": "gTfk-OQl6bk0",
        "colab": {
          "base_uri": "https://localhost:8080/"
        },
        "outputId": "6307ea09-119d-479e-8998-da0a23d57b1d"
      },
      "execution_count": null,
      "outputs": [
        {
          "output_type": "stream",
          "name": "stdout",
          "text": [
            "[0.40242142 0.14923182 0.12059623]\n"
          ]
        }
      ]
    },
    {
      "cell_type": "markdown",
      "source": [
        "# Visualization separation of classes with PCA \n",
        "In this exercise, you will do just that by plotting the first 2 principal components of loan_data in order to visualize the class separation between both components on whether the loan status has been fully paid or charged off.\n",
        "\n",
        "The loan_data dataset has been scaled and one-hot encoded, meaning categorical variables were turned into binary indicators, since **features should be on the same scale as well as numeric prior to PCA.**\n",
        "\n",
        "A PCA model with 2 PCs and setting up a plot with x and y labels and title has already been taken care of for you. You'll use a DataFrame called loan_data_PCA in the exercises. The possible values for the target variable Loan Status are 0 and 1. You'll be plotting PC1 on the x-axis and PC2 on the y-axis."
      ],
      "metadata": {
        "id": "sEMNv8Cdgehd"
      }
    },
    {
      "cell_type": "code",
      "source": [
        "loan_data = pd.read_csv('/content/drive/MyDrive/Colab_Notebooks/Data_Camp/ML_Interview/Chapter_03/LoansTrainingSetReduced.csv')\n",
        "loan_data.head()"
      ],
      "metadata": {
        "colab": {
          "base_uri": "https://localhost:8080/",
          "height": 345
        },
        "id": "zrv7pFvh5gwE",
        "outputId": "fb5e51a0-b62b-4759-89be-a09af9c0b5c4"
      },
      "execution_count": null,
      "outputs": [
        {
          "output_type": "execute_result",
          "data": {
            "text/html": [
              "<div>\n",
              "<style scoped>\n",
              "    .dataframe tbody tr th:only-of-type {\n",
              "        vertical-align: middle;\n",
              "    }\n",
              "\n",
              "    .dataframe tbody tr th {\n",
              "        vertical-align: top;\n",
              "    }\n",
              "\n",
              "    .dataframe thead th {\n",
              "        text-align: right;\n",
              "    }\n",
              "</style>\n",
              "<table border=\"1\" class=\"dataframe\">\n",
              "  <thead>\n",
              "    <tr style=\"text-align: right;\">\n",
              "      <th></th>\n",
              "      <th>Loan Status</th>\n",
              "      <th>Current Loan Amount</th>\n",
              "      <th>Term</th>\n",
              "      <th>Credit Score</th>\n",
              "      <th>Years in current job</th>\n",
              "      <th>Home Ownership</th>\n",
              "      <th>Annual Income</th>\n",
              "      <th>Purpose</th>\n",
              "      <th>Monthly Debt</th>\n",
              "      <th>Years of Credit History</th>\n",
              "      <th>Months since last delinquent</th>\n",
              "      <th>Number of Open Accounts</th>\n",
              "      <th>Number of Credit Problems</th>\n",
              "      <th>Current Credit Balance</th>\n",
              "      <th>Maximum Open Credit</th>\n",
              "      <th>Bankruptcies</th>\n",
              "      <th>Tax Liens</th>\n",
              "    </tr>\n",
              "  </thead>\n",
              "  <tbody>\n",
              "    <tr>\n",
              "      <th>0</th>\n",
              "      <td>Charged Off</td>\n",
              "      <td>12232</td>\n",
              "      <td>Short Term</td>\n",
              "      <td>728.0</td>\n",
              "      <td>1.0</td>\n",
              "      <td>Rent</td>\n",
              "      <td>46643.0</td>\n",
              "      <td>DebtConsolidation</td>\n",
              "      <td>777.39</td>\n",
              "      <td>18.0</td>\n",
              "      <td>10.0</td>\n",
              "      <td>12</td>\n",
              "      <td>0</td>\n",
              "      <td>6762</td>\n",
              "      <td>7946</td>\n",
              "      <td>0.0</td>\n",
              "      <td>0.0</td>\n",
              "    </tr>\n",
              "    <tr>\n",
              "      <th>1</th>\n",
              "      <td>Charged Off</td>\n",
              "      <td>25014</td>\n",
              "      <td>Long Term</td>\n",
              "      <td>733.0</td>\n",
              "      <td>10.0</td>\n",
              "      <td>Mortgage</td>\n",
              "      <td>81099.0</td>\n",
              "      <td>DebtConsolidation</td>\n",
              "      <td>892.09</td>\n",
              "      <td>26.7</td>\n",
              "      <td>NaN</td>\n",
              "      <td>14</td>\n",
              "      <td>0</td>\n",
              "      <td>35706</td>\n",
              "      <td>77961</td>\n",
              "      <td>0.0</td>\n",
              "      <td>0.0</td>\n",
              "    </tr>\n",
              "    <tr>\n",
              "      <th>2</th>\n",
              "      <td>Charged Off</td>\n",
              "      <td>16117</td>\n",
              "      <td>Short Term</td>\n",
              "      <td>724.0</td>\n",
              "      <td>9.0</td>\n",
              "      <td>Mortgage</td>\n",
              "      <td>60438.0</td>\n",
              "      <td>HomeImprovements</td>\n",
              "      <td>1244.02</td>\n",
              "      <td>16.7</td>\n",
              "      <td>32.0</td>\n",
              "      <td>11</td>\n",
              "      <td>1</td>\n",
              "      <td>11275</td>\n",
              "      <td>14815</td>\n",
              "      <td>1.0</td>\n",
              "      <td>0.0</td>\n",
              "    </tr>\n",
              "    <tr>\n",
              "      <th>3</th>\n",
              "      <td>Charged Off</td>\n",
              "      <td>11716</td>\n",
              "      <td>Short Term</td>\n",
              "      <td>740.0</td>\n",
              "      <td>3.0</td>\n",
              "      <td>Rent</td>\n",
              "      <td>34171.0</td>\n",
              "      <td>DebtConsolidation</td>\n",
              "      <td>990.94</td>\n",
              "      <td>10.0</td>\n",
              "      <td>NaN</td>\n",
              "      <td>21</td>\n",
              "      <td>0</td>\n",
              "      <td>7009</td>\n",
              "      <td>43533</td>\n",
              "      <td>0.0</td>\n",
              "      <td>0.0</td>\n",
              "    </tr>\n",
              "    <tr>\n",
              "      <th>4</th>\n",
              "      <td>Charged Off</td>\n",
              "      <td>9789</td>\n",
              "      <td>Long Term</td>\n",
              "      <td>686.0</td>\n",
              "      <td>10.0</td>\n",
              "      <td>Mortgage</td>\n",
              "      <td>47003.0</td>\n",
              "      <td>HomeImprovements</td>\n",
              "      <td>503.71</td>\n",
              "      <td>16.7</td>\n",
              "      <td>25.0</td>\n",
              "      <td>13</td>\n",
              "      <td>1</td>\n",
              "      <td>16913</td>\n",
              "      <td>19553</td>\n",
              "      <td>1.0</td>\n",
              "      <td>0.0</td>\n",
              "    </tr>\n",
              "  </tbody>\n",
              "</table>\n",
              "</div>"
            ],
            "text/plain": [
              "   Loan Status  Current Loan Amount  ... Bankruptcies  Tax Liens\n",
              "0  Charged Off                12232  ...          0.0        0.0\n",
              "1  Charged Off                25014  ...          0.0        0.0\n",
              "2  Charged Off                16117  ...          1.0        0.0\n",
              "3  Charged Off                11716  ...          0.0        0.0\n",
              "4  Charged Off                 9789  ...          1.0        0.0\n",
              "\n",
              "[5 rows x 17 columns]"
            ]
          },
          "metadata": {},
          "execution_count": 36
        }
      ]
    },
    {
      "cell_type": "code",
      "source": [
        "loan_data.info()"
      ],
      "metadata": {
        "colab": {
          "base_uri": "https://localhost:8080/"
        },
        "id": "yeF2P0Gu7SED",
        "outputId": "246a4187-14e2-456a-f1cc-fe9ef92aee7f"
      },
      "execution_count": null,
      "outputs": [
        {
          "output_type": "stream",
          "name": "stdout",
          "text": [
            "<class 'pandas.core.frame.DataFrame'>\n",
            "RangeIndex: 88910 entries, 0 to 88909\n",
            "Data columns (total 17 columns):\n",
            " #   Column                        Non-Null Count  Dtype  \n",
            "---  ------                        --------------  -----  \n",
            " 0   Loan Status                   88910 non-null  object \n",
            " 1   Current Loan Amount           88910 non-null  int64  \n",
            " 2   Term                          88910 non-null  object \n",
            " 3   Credit Score                  67572 non-null  float64\n",
            " 4   Years in current job          88910 non-null  float64\n",
            " 5   Home Ownership                88910 non-null  object \n",
            " 6   Annual Income                 67572 non-null  float64\n",
            " 7   Purpose                       88910 non-null  object \n",
            " 8   Monthly Debt                  88910 non-null  float64\n",
            " 9   Years of Credit History       88910 non-null  float64\n",
            " 10  Months since last delinquent  40404 non-null  float64\n",
            " 11  Number of Open Accounts       88910 non-null  int64  \n",
            " 12  Number of Credit Problems     88910 non-null  int64  \n",
            " 13  Current Credit Balance        88910 non-null  int64  \n",
            " 14  Maximum Open Credit           88910 non-null  int64  \n",
            " 15  Bankruptcies                  88718 non-null  float64\n",
            " 16  Tax Liens                     88902 non-null  float64\n",
            "dtypes: float64(8), int64(5), object(4)\n",
            "memory usage: 11.5+ MB\n"
          ]
        }
      ]
    },
    {
      "cell_type": "markdown",
      "source": [
        "# Iterative Imputation"
      ],
      "metadata": {
        "id": "0O_9WoEZ70EI"
      }
    },
    {
      "cell_type": "code",
      "source": [
        "# Explicitly require this experimental feature\n",
        "from sklearn.experimental import enable_iterative_imputer\n",
        "# Now you can import normally from sklearn.impute\n",
        "from sklearn.impute import IterativeImputer\n",
        "\n",
        "# Subset numeric features: numeric_cols\n",
        "numeric_cols = loan_data.select_dtypes(include=[np.number])\n",
        "\n",
        "# Iteratively impute\n",
        "imp_iter = IterativeImputer(max_iter=5, sample_posterior=True, random_state=123)\n",
        "loans_imp_iter = imp_iter.fit_transform(numeric_cols)\n",
        "\n",
        "# Convert returned array to DataFrame\n",
        "loans_imp_iterDF = pd.DataFrame(loans_imp_iter, columns=numeric_cols.columns)\n",
        "\n",
        "# Check the DataFrame's info\n",
        "print(loans_imp_iterDF.info())"
      ],
      "metadata": {
        "colab": {
          "base_uri": "https://localhost:8080/"
        },
        "id": "rtIGlfOo7V7a",
        "outputId": "a722a73b-bc88-4c23-e48d-80742376ad27"
      },
      "execution_count": null,
      "outputs": [
        {
          "output_type": "stream",
          "name": "stdout",
          "text": [
            "<class 'pandas.core.frame.DataFrame'>\n",
            "RangeIndex: 88910 entries, 0 to 88909\n",
            "Data columns (total 13 columns):\n",
            " #   Column                        Non-Null Count  Dtype  \n",
            "---  ------                        --------------  -----  \n",
            " 0   Current Loan Amount           88910 non-null  float64\n",
            " 1   Credit Score                  88910 non-null  float64\n",
            " 2   Years in current job          88910 non-null  float64\n",
            " 3   Annual Income                 88910 non-null  float64\n",
            " 4   Monthly Debt                  88910 non-null  float64\n",
            " 5   Years of Credit History       88910 non-null  float64\n",
            " 6   Months since last delinquent  88910 non-null  float64\n",
            " 7   Number of Open Accounts       88910 non-null  float64\n",
            " 8   Number of Credit Problems     88910 non-null  float64\n",
            " 9   Current Credit Balance        88910 non-null  float64\n",
            " 10  Maximum Open Credit           88910 non-null  float64\n",
            " 11  Bankruptcies                  88910 non-null  float64\n",
            " 12  Tax Liens                     88910 non-null  float64\n",
            "dtypes: float64(13)\n",
            "memory usage: 8.8 MB\n",
            "None\n"
          ]
        }
      ]
    },
    {
      "cell_type": "code",
      "source": [
        "# Replace loan_data columns with loans_imp_iter\n",
        "for i in loans_imp_iterDF.columns:\n",
        "  loan_data[i] = loans_imp_iterDF[i]"
      ],
      "metadata": {
        "id": "Nx62-f5R7vLl"
      },
      "execution_count": null,
      "outputs": []
    },
    {
      "cell_type": "code",
      "source": [
        "loan_data_ref = loan_data.copy()"
      ],
      "metadata": {
        "id": "6Z2CqC-JKhOr"
      },
      "execution_count": null,
      "outputs": []
    },
    {
      "cell_type": "code",
      "source": [
        "# Scaling the data\n",
        "\n",
        "from sklearn.preprocessing import StandardScaler\n",
        "from sklearn.preprocessing import MinMaxScaler\n",
        "\n",
        "scaler = StandardScaler()\n",
        "# scaler = MinMaxScaler()\n",
        "\n",
        "numeric_cols = loan_data.select_dtypes(include=[np.number])\n",
        "\n",
        "\n",
        "# Fit and transform, convert to DF\n",
        "numeric_cols_scaled = scaler.fit_transform(numeric_cols)\n",
        "\n",
        "numeric_cols_scaledDF = pd.DataFrame(numeric_cols_scaled, columns=numeric_cols.columns)"
      ],
      "metadata": {
        "id": "2nSEqCzaAmKk"
      },
      "execution_count": null,
      "outputs": []
    },
    {
      "cell_type": "code",
      "source": [
        "numeric_cols_scaledDF.head()"
      ],
      "metadata": {
        "colab": {
          "base_uri": "https://localhost:8080/",
          "height": 241
        },
        "id": "OAobuMlCAzRH",
        "outputId": "6e19901a-7691-4434-83a5-76327c61f923"
      },
      "execution_count": null,
      "outputs": [
        {
          "output_type": "execute_result",
          "data": {
            "text/html": [
              "<div>\n",
              "<style scoped>\n",
              "    .dataframe tbody tr th:only-of-type {\n",
              "        vertical-align: middle;\n",
              "    }\n",
              "\n",
              "    .dataframe tbody tr th {\n",
              "        vertical-align: top;\n",
              "    }\n",
              "\n",
              "    .dataframe thead th {\n",
              "        text-align: right;\n",
              "    }\n",
              "</style>\n",
              "<table border=\"1\" class=\"dataframe\">\n",
              "  <thead>\n",
              "    <tr style=\"text-align: right;\">\n",
              "      <th></th>\n",
              "      <th>Current Loan Amount</th>\n",
              "      <th>Credit Score</th>\n",
              "      <th>Years in current job</th>\n",
              "      <th>Annual Income</th>\n",
              "      <th>Monthly Debt</th>\n",
              "      <th>Years of Credit History</th>\n",
              "      <th>Months since last delinquent</th>\n",
              "      <th>Number of Open Accounts</th>\n",
              "      <th>Number of Credit Problems</th>\n",
              "      <th>Current Credit Balance</th>\n",
              "      <th>Maximum Open Credit</th>\n",
              "      <th>Bankruptcies</th>\n",
              "      <th>Tax Liens</th>\n",
              "    </tr>\n",
              "  </thead>\n",
              "  <tbody>\n",
              "    <tr>\n",
              "      <th>0</th>\n",
              "      <td>-0.408982</td>\n",
              "      <td>0.240814</td>\n",
              "      <td>-1.312259</td>\n",
              "      <td>-0.438916</td>\n",
              "      <td>-0.291304</td>\n",
              "      <td>-0.044731</td>\n",
              "      <td>-1.152079</td>\n",
              "      <td>0.178701</td>\n",
              "      <td>-0.338742</td>\n",
              "      <td>-0.441228</td>\n",
              "      <td>-0.097522</td>\n",
              "      <td>-0.327988</td>\n",
              "      <td>-0.109594</td>\n",
              "    </tr>\n",
              "    <tr>\n",
              "      <th>1</th>\n",
              "      <td>-0.408617</td>\n",
              "      <td>0.423259</td>\n",
              "      <td>1.189261</td>\n",
              "      <td>0.151752</td>\n",
              "      <td>-0.111388</td>\n",
              "      <td>1.189463</td>\n",
              "      <td>-0.033433</td>\n",
              "      <td>0.580434</td>\n",
              "      <td>-0.338742</td>\n",
              "      <td>1.031104</td>\n",
              "      <td>0.168967</td>\n",
              "      <td>-0.327988</td>\n",
              "      <td>-0.109594</td>\n",
              "    </tr>\n",
              "    <tr>\n",
              "      <th>2</th>\n",
              "      <td>-0.408871</td>\n",
              "      <td>0.094859</td>\n",
              "      <td>0.911314</td>\n",
              "      <td>-0.202432</td>\n",
              "      <td>0.440641</td>\n",
              "      <td>-0.229151</td>\n",
              "      <td>-0.157990</td>\n",
              "      <td>-0.022165</td>\n",
              "      <td>1.772105</td>\n",
              "      <td>-0.211660</td>\n",
              "      <td>-0.071377</td>\n",
              "      <td>2.586801</td>\n",
              "      <td>-0.109594</td>\n",
              "    </tr>\n",
              "    <tr>\n",
              "      <th>3</th>\n",
              "      <td>-0.408997</td>\n",
              "      <td>0.678681</td>\n",
              "      <td>-0.756366</td>\n",
              "      <td>-0.652719</td>\n",
              "      <td>0.043666</td>\n",
              "      <td>-1.179622</td>\n",
              "      <td>-0.497816</td>\n",
              "      <td>1.986499</td>\n",
              "      <td>-0.338742</td>\n",
              "      <td>-0.428664</td>\n",
              "      <td>0.037928</td>\n",
              "      <td>-0.327988</td>\n",
              "      <td>-0.109594</td>\n",
              "    </tr>\n",
              "    <tr>\n",
              "      <th>4</th>\n",
              "      <td>-0.409052</td>\n",
              "      <td>-1.291720</td>\n",
              "      <td>1.189261</td>\n",
              "      <td>-0.432744</td>\n",
              "      <td>-0.720592</td>\n",
              "      <td>-0.229151</td>\n",
              "      <td>-0.474291</td>\n",
              "      <td>0.379568</td>\n",
              "      <td>1.772105</td>\n",
              "      <td>0.075136</td>\n",
              "      <td>-0.053344</td>\n",
              "      <td>2.586801</td>\n",
              "      <td>-0.109594</td>\n",
              "    </tr>\n",
              "  </tbody>\n",
              "</table>\n",
              "</div>"
            ],
            "text/plain": [
              "   Current Loan Amount  Credit Score  ...  Bankruptcies  Tax Liens\n",
              "0            -0.408982      0.240814  ...     -0.327988  -0.109594\n",
              "1            -0.408617      0.423259  ...     -0.327988  -0.109594\n",
              "2            -0.408871      0.094859  ...      2.586801  -0.109594\n",
              "3            -0.408997      0.678681  ...     -0.327988  -0.109594\n",
              "4            -0.409052     -1.291720  ...      2.586801  -0.109594\n",
              "\n",
              "[5 rows x 13 columns]"
            ]
          },
          "metadata": {},
          "execution_count": 42
        }
      ]
    },
    {
      "cell_type": "code",
      "source": [
        "loan_data.head()"
      ],
      "metadata": {
        "colab": {
          "base_uri": "https://localhost:8080/",
          "height": 345
        },
        "id": "HSfEpEXFfKk9",
        "outputId": "7751cce4-a4d6-470f-94e2-b8afbb4a136f"
      },
      "execution_count": null,
      "outputs": [
        {
          "output_type": "execute_result",
          "data": {
            "text/html": [
              "<div>\n",
              "<style scoped>\n",
              "    .dataframe tbody tr th:only-of-type {\n",
              "        vertical-align: middle;\n",
              "    }\n",
              "\n",
              "    .dataframe tbody tr th {\n",
              "        vertical-align: top;\n",
              "    }\n",
              "\n",
              "    .dataframe thead th {\n",
              "        text-align: right;\n",
              "    }\n",
              "</style>\n",
              "<table border=\"1\" class=\"dataframe\">\n",
              "  <thead>\n",
              "    <tr style=\"text-align: right;\">\n",
              "      <th></th>\n",
              "      <th>Loan Status</th>\n",
              "      <th>Current Loan Amount</th>\n",
              "      <th>Term</th>\n",
              "      <th>Credit Score</th>\n",
              "      <th>Years in current job</th>\n",
              "      <th>Home Ownership</th>\n",
              "      <th>Annual Income</th>\n",
              "      <th>Purpose</th>\n",
              "      <th>Monthly Debt</th>\n",
              "      <th>Years of Credit History</th>\n",
              "      <th>Months since last delinquent</th>\n",
              "      <th>Number of Open Accounts</th>\n",
              "      <th>Number of Credit Problems</th>\n",
              "      <th>Current Credit Balance</th>\n",
              "      <th>Maximum Open Credit</th>\n",
              "      <th>Bankruptcies</th>\n",
              "      <th>Tax Liens</th>\n",
              "    </tr>\n",
              "  </thead>\n",
              "  <tbody>\n",
              "    <tr>\n",
              "      <th>0</th>\n",
              "      <td>Charged Off</td>\n",
              "      <td>12232.0</td>\n",
              "      <td>Short Term</td>\n",
              "      <td>728.0</td>\n",
              "      <td>1.0</td>\n",
              "      <td>Rent</td>\n",
              "      <td>46643.0</td>\n",
              "      <td>DebtConsolidation</td>\n",
              "      <td>777.39</td>\n",
              "      <td>18.0</td>\n",
              "      <td>10.000000</td>\n",
              "      <td>12.0</td>\n",
              "      <td>0.0</td>\n",
              "      <td>6762.0</td>\n",
              "      <td>7946.0</td>\n",
              "      <td>0.0</td>\n",
              "      <td>0.0</td>\n",
              "    </tr>\n",
              "    <tr>\n",
              "      <th>1</th>\n",
              "      <td>Charged Off</td>\n",
              "      <td>25014.0</td>\n",
              "      <td>Long Term</td>\n",
              "      <td>733.0</td>\n",
              "      <td>10.0</td>\n",
              "      <td>Mortgage</td>\n",
              "      <td>81099.0</td>\n",
              "      <td>DebtConsolidation</td>\n",
              "      <td>892.09</td>\n",
              "      <td>26.7</td>\n",
              "      <td>34.756537</td>\n",
              "      <td>14.0</td>\n",
              "      <td>0.0</td>\n",
              "      <td>35706.0</td>\n",
              "      <td>77961.0</td>\n",
              "      <td>0.0</td>\n",
              "      <td>0.0</td>\n",
              "    </tr>\n",
              "    <tr>\n",
              "      <th>2</th>\n",
              "      <td>Charged Off</td>\n",
              "      <td>16117.0</td>\n",
              "      <td>Short Term</td>\n",
              "      <td>724.0</td>\n",
              "      <td>9.0</td>\n",
              "      <td>Mortgage</td>\n",
              "      <td>60438.0</td>\n",
              "      <td>HomeImprovements</td>\n",
              "      <td>1244.02</td>\n",
              "      <td>16.7</td>\n",
              "      <td>32.000000</td>\n",
              "      <td>11.0</td>\n",
              "      <td>1.0</td>\n",
              "      <td>11275.0</td>\n",
              "      <td>14815.0</td>\n",
              "      <td>1.0</td>\n",
              "      <td>0.0</td>\n",
              "    </tr>\n",
              "    <tr>\n",
              "      <th>3</th>\n",
              "      <td>Charged Off</td>\n",
              "      <td>11716.0</td>\n",
              "      <td>Short Term</td>\n",
              "      <td>740.0</td>\n",
              "      <td>3.0</td>\n",
              "      <td>Rent</td>\n",
              "      <td>34171.0</td>\n",
              "      <td>DebtConsolidation</td>\n",
              "      <td>990.94</td>\n",
              "      <td>10.0</td>\n",
              "      <td>24.479370</td>\n",
              "      <td>21.0</td>\n",
              "      <td>0.0</td>\n",
              "      <td>7009.0</td>\n",
              "      <td>43533.0</td>\n",
              "      <td>0.0</td>\n",
              "      <td>0.0</td>\n",
              "    </tr>\n",
              "    <tr>\n",
              "      <th>4</th>\n",
              "      <td>Charged Off</td>\n",
              "      <td>9789.0</td>\n",
              "      <td>Long Term</td>\n",
              "      <td>686.0</td>\n",
              "      <td>10.0</td>\n",
              "      <td>Mortgage</td>\n",
              "      <td>47003.0</td>\n",
              "      <td>HomeImprovements</td>\n",
              "      <td>503.71</td>\n",
              "      <td>16.7</td>\n",
              "      <td>25.000000</td>\n",
              "      <td>13.0</td>\n",
              "      <td>1.0</td>\n",
              "      <td>16913.0</td>\n",
              "      <td>19553.0</td>\n",
              "      <td>1.0</td>\n",
              "      <td>0.0</td>\n",
              "    </tr>\n",
              "  </tbody>\n",
              "</table>\n",
              "</div>"
            ],
            "text/plain": [
              "   Loan Status  Current Loan Amount  ... Bankruptcies  Tax Liens\n",
              "0  Charged Off              12232.0  ...          0.0        0.0\n",
              "1  Charged Off              25014.0  ...          0.0        0.0\n",
              "2  Charged Off              16117.0  ...          1.0        0.0\n",
              "3  Charged Off              11716.0  ...          0.0        0.0\n",
              "4  Charged Off               9789.0  ...          1.0        0.0\n",
              "\n",
              "[5 rows x 17 columns]"
            ]
          },
          "metadata": {},
          "execution_count": 43
        }
      ]
    },
    {
      "cell_type": "code",
      "source": [
        "# Replace numeric values in the loan_data  with numeric_cols_scaled\n",
        "for i in numeric_cols_scaledDF.columns:\n",
        "  loan_data[i] = numeric_cols_scaledDF[i]\n",
        "  \n",
        "loan_data.head()"
      ],
      "metadata": {
        "colab": {
          "base_uri": "https://localhost:8080/",
          "height": 365
        },
        "id": "lMiJLWUNA2DL",
        "outputId": "3ce3aa5c-43a0-4a24-dfaa-a42f090f7d32"
      },
      "execution_count": null,
      "outputs": [
        {
          "output_type": "execute_result",
          "data": {
            "text/html": [
              "<div>\n",
              "<style scoped>\n",
              "    .dataframe tbody tr th:only-of-type {\n",
              "        vertical-align: middle;\n",
              "    }\n",
              "\n",
              "    .dataframe tbody tr th {\n",
              "        vertical-align: top;\n",
              "    }\n",
              "\n",
              "    .dataframe thead th {\n",
              "        text-align: right;\n",
              "    }\n",
              "</style>\n",
              "<table border=\"1\" class=\"dataframe\">\n",
              "  <thead>\n",
              "    <tr style=\"text-align: right;\">\n",
              "      <th></th>\n",
              "      <th>Loan Status</th>\n",
              "      <th>Current Loan Amount</th>\n",
              "      <th>Term</th>\n",
              "      <th>Credit Score</th>\n",
              "      <th>Years in current job</th>\n",
              "      <th>Home Ownership</th>\n",
              "      <th>Annual Income</th>\n",
              "      <th>Purpose</th>\n",
              "      <th>Monthly Debt</th>\n",
              "      <th>Years of Credit History</th>\n",
              "      <th>Months since last delinquent</th>\n",
              "      <th>Number of Open Accounts</th>\n",
              "      <th>Number of Credit Problems</th>\n",
              "      <th>Current Credit Balance</th>\n",
              "      <th>Maximum Open Credit</th>\n",
              "      <th>Bankruptcies</th>\n",
              "      <th>Tax Liens</th>\n",
              "    </tr>\n",
              "  </thead>\n",
              "  <tbody>\n",
              "    <tr>\n",
              "      <th>0</th>\n",
              "      <td>Charged Off</td>\n",
              "      <td>-0.408982</td>\n",
              "      <td>Short Term</td>\n",
              "      <td>0.240814</td>\n",
              "      <td>-1.312259</td>\n",
              "      <td>Rent</td>\n",
              "      <td>-0.438916</td>\n",
              "      <td>DebtConsolidation</td>\n",
              "      <td>-0.291304</td>\n",
              "      <td>-0.044731</td>\n",
              "      <td>-1.152079</td>\n",
              "      <td>0.178701</td>\n",
              "      <td>-0.338742</td>\n",
              "      <td>-0.441228</td>\n",
              "      <td>-0.097522</td>\n",
              "      <td>-0.327988</td>\n",
              "      <td>-0.109594</td>\n",
              "    </tr>\n",
              "    <tr>\n",
              "      <th>1</th>\n",
              "      <td>Charged Off</td>\n",
              "      <td>-0.408617</td>\n",
              "      <td>Long Term</td>\n",
              "      <td>0.423259</td>\n",
              "      <td>1.189261</td>\n",
              "      <td>Mortgage</td>\n",
              "      <td>0.151752</td>\n",
              "      <td>DebtConsolidation</td>\n",
              "      <td>-0.111388</td>\n",
              "      <td>1.189463</td>\n",
              "      <td>-0.033433</td>\n",
              "      <td>0.580434</td>\n",
              "      <td>-0.338742</td>\n",
              "      <td>1.031104</td>\n",
              "      <td>0.168967</td>\n",
              "      <td>-0.327988</td>\n",
              "      <td>-0.109594</td>\n",
              "    </tr>\n",
              "    <tr>\n",
              "      <th>2</th>\n",
              "      <td>Charged Off</td>\n",
              "      <td>-0.408871</td>\n",
              "      <td>Short Term</td>\n",
              "      <td>0.094859</td>\n",
              "      <td>0.911314</td>\n",
              "      <td>Mortgage</td>\n",
              "      <td>-0.202432</td>\n",
              "      <td>HomeImprovements</td>\n",
              "      <td>0.440641</td>\n",
              "      <td>-0.229151</td>\n",
              "      <td>-0.157990</td>\n",
              "      <td>-0.022165</td>\n",
              "      <td>1.772105</td>\n",
              "      <td>-0.211660</td>\n",
              "      <td>-0.071377</td>\n",
              "      <td>2.586801</td>\n",
              "      <td>-0.109594</td>\n",
              "    </tr>\n",
              "    <tr>\n",
              "      <th>3</th>\n",
              "      <td>Charged Off</td>\n",
              "      <td>-0.408997</td>\n",
              "      <td>Short Term</td>\n",
              "      <td>0.678681</td>\n",
              "      <td>-0.756366</td>\n",
              "      <td>Rent</td>\n",
              "      <td>-0.652719</td>\n",
              "      <td>DebtConsolidation</td>\n",
              "      <td>0.043666</td>\n",
              "      <td>-1.179622</td>\n",
              "      <td>-0.497816</td>\n",
              "      <td>1.986499</td>\n",
              "      <td>-0.338742</td>\n",
              "      <td>-0.428664</td>\n",
              "      <td>0.037928</td>\n",
              "      <td>-0.327988</td>\n",
              "      <td>-0.109594</td>\n",
              "    </tr>\n",
              "    <tr>\n",
              "      <th>4</th>\n",
              "      <td>Charged Off</td>\n",
              "      <td>-0.409052</td>\n",
              "      <td>Long Term</td>\n",
              "      <td>-1.291720</td>\n",
              "      <td>1.189261</td>\n",
              "      <td>Mortgage</td>\n",
              "      <td>-0.432744</td>\n",
              "      <td>HomeImprovements</td>\n",
              "      <td>-0.720592</td>\n",
              "      <td>-0.229151</td>\n",
              "      <td>-0.474291</td>\n",
              "      <td>0.379568</td>\n",
              "      <td>1.772105</td>\n",
              "      <td>0.075136</td>\n",
              "      <td>-0.053344</td>\n",
              "      <td>2.586801</td>\n",
              "      <td>-0.109594</td>\n",
              "    </tr>\n",
              "  </tbody>\n",
              "</table>\n",
              "</div>"
            ],
            "text/plain": [
              "   Loan Status  Current Loan Amount  ... Bankruptcies  Tax Liens\n",
              "0  Charged Off            -0.408982  ...    -0.327988  -0.109594\n",
              "1  Charged Off            -0.408617  ...    -0.327988  -0.109594\n",
              "2  Charged Off            -0.408871  ...     2.586801  -0.109594\n",
              "3  Charged Off            -0.408997  ...    -0.327988  -0.109594\n",
              "4  Charged Off            -0.409052  ...     2.586801  -0.109594\n",
              "\n",
              "[5 rows x 17 columns]"
            ]
          },
          "metadata": {},
          "execution_count": 44
        }
      ]
    },
    {
      "cell_type": "code",
      "source": [
        "# Convert the target variable to numerical values and replace categorical features with dummy values.\n",
        "\n",
        "# Replace target variable levels\n",
        "loan_data[\"Loan Status\"] = loan_data[\"Loan Status\"].replace({'Fully Paid': 0, \n",
        "                                            'Charged Off': 1})\n",
        "\n",
        "# One-hot encode categorical variables\n",
        "loan_data = pd.get_dummies(data=loan_data, drop_first=True)\n",
        "\n",
        "loan_data.head()"
      ],
      "metadata": {
        "colab": {
          "base_uri": "https://localhost:8080/",
          "height": 278
        },
        "id": "KB5YkKWi73ay",
        "outputId": "34341da5-6058-4380-8745-1f7c6e8b5156"
      },
      "execution_count": null,
      "outputs": [
        {
          "output_type": "execute_result",
          "data": {
            "text/html": [
              "<div>\n",
              "<style scoped>\n",
              "    .dataframe tbody tr th:only-of-type {\n",
              "        vertical-align: middle;\n",
              "    }\n",
              "\n",
              "    .dataframe tbody tr th {\n",
              "        vertical-align: top;\n",
              "    }\n",
              "\n",
              "    .dataframe thead th {\n",
              "        text-align: right;\n",
              "    }\n",
              "</style>\n",
              "<table border=\"1\" class=\"dataframe\">\n",
              "  <thead>\n",
              "    <tr style=\"text-align: right;\">\n",
              "      <th></th>\n",
              "      <th>Loan Status</th>\n",
              "      <th>Current Loan Amount</th>\n",
              "      <th>Credit Score</th>\n",
              "      <th>Years in current job</th>\n",
              "      <th>Annual Income</th>\n",
              "      <th>Monthly Debt</th>\n",
              "      <th>Years of Credit History</th>\n",
              "      <th>Months since last delinquent</th>\n",
              "      <th>Number of Open Accounts</th>\n",
              "      <th>Number of Credit Problems</th>\n",
              "      <th>Current Credit Balance</th>\n",
              "      <th>Maximum Open Credit</th>\n",
              "      <th>Bankruptcies</th>\n",
              "      <th>Tax Liens</th>\n",
              "      <th>Term_Short Term</th>\n",
              "      <th>Home Ownership_Own Home</th>\n",
              "      <th>Home Ownership_Rent</th>\n",
              "      <th>Purpose_CarPurchase</th>\n",
              "      <th>Purpose_DebtConsolidation</th>\n",
              "      <th>Purpose_EducationalExpenses</th>\n",
              "      <th>Purpose_HomeImprovements</th>\n",
              "      <th>Purpose_HomePurchase</th>\n",
              "      <th>Purpose_MajorPurchase</th>\n",
              "      <th>Purpose_MedicalBills</th>\n",
              "      <th>Purpose_Moving</th>\n",
              "      <th>Purpose_Other</th>\n",
              "      <th>Purpose_RenewableEnergyPurchase</th>\n",
              "      <th>Purpose_Vacation</th>\n",
              "      <th>Purpose_Wedding</th>\n",
              "    </tr>\n",
              "  </thead>\n",
              "  <tbody>\n",
              "    <tr>\n",
              "      <th>0</th>\n",
              "      <td>1</td>\n",
              "      <td>-0.408982</td>\n",
              "      <td>0.240814</td>\n",
              "      <td>-1.312259</td>\n",
              "      <td>-0.438916</td>\n",
              "      <td>-0.291304</td>\n",
              "      <td>-0.044731</td>\n",
              "      <td>-1.152079</td>\n",
              "      <td>0.178701</td>\n",
              "      <td>-0.338742</td>\n",
              "      <td>-0.441228</td>\n",
              "      <td>-0.097522</td>\n",
              "      <td>-0.327988</td>\n",
              "      <td>-0.109594</td>\n",
              "      <td>1</td>\n",
              "      <td>0</td>\n",
              "      <td>1</td>\n",
              "      <td>0</td>\n",
              "      <td>1</td>\n",
              "      <td>0</td>\n",
              "      <td>0</td>\n",
              "      <td>0</td>\n",
              "      <td>0</td>\n",
              "      <td>0</td>\n",
              "      <td>0</td>\n",
              "      <td>0</td>\n",
              "      <td>0</td>\n",
              "      <td>0</td>\n",
              "      <td>0</td>\n",
              "    </tr>\n",
              "    <tr>\n",
              "      <th>1</th>\n",
              "      <td>1</td>\n",
              "      <td>-0.408617</td>\n",
              "      <td>0.423259</td>\n",
              "      <td>1.189261</td>\n",
              "      <td>0.151752</td>\n",
              "      <td>-0.111388</td>\n",
              "      <td>1.189463</td>\n",
              "      <td>-0.033433</td>\n",
              "      <td>0.580434</td>\n",
              "      <td>-0.338742</td>\n",
              "      <td>1.031104</td>\n",
              "      <td>0.168967</td>\n",
              "      <td>-0.327988</td>\n",
              "      <td>-0.109594</td>\n",
              "      <td>0</td>\n",
              "      <td>0</td>\n",
              "      <td>0</td>\n",
              "      <td>0</td>\n",
              "      <td>1</td>\n",
              "      <td>0</td>\n",
              "      <td>0</td>\n",
              "      <td>0</td>\n",
              "      <td>0</td>\n",
              "      <td>0</td>\n",
              "      <td>0</td>\n",
              "      <td>0</td>\n",
              "      <td>0</td>\n",
              "      <td>0</td>\n",
              "      <td>0</td>\n",
              "    </tr>\n",
              "    <tr>\n",
              "      <th>2</th>\n",
              "      <td>1</td>\n",
              "      <td>-0.408871</td>\n",
              "      <td>0.094859</td>\n",
              "      <td>0.911314</td>\n",
              "      <td>-0.202432</td>\n",
              "      <td>0.440641</td>\n",
              "      <td>-0.229151</td>\n",
              "      <td>-0.157990</td>\n",
              "      <td>-0.022165</td>\n",
              "      <td>1.772105</td>\n",
              "      <td>-0.211660</td>\n",
              "      <td>-0.071377</td>\n",
              "      <td>2.586801</td>\n",
              "      <td>-0.109594</td>\n",
              "      <td>1</td>\n",
              "      <td>0</td>\n",
              "      <td>0</td>\n",
              "      <td>0</td>\n",
              "      <td>0</td>\n",
              "      <td>0</td>\n",
              "      <td>1</td>\n",
              "      <td>0</td>\n",
              "      <td>0</td>\n",
              "      <td>0</td>\n",
              "      <td>0</td>\n",
              "      <td>0</td>\n",
              "      <td>0</td>\n",
              "      <td>0</td>\n",
              "      <td>0</td>\n",
              "    </tr>\n",
              "    <tr>\n",
              "      <th>3</th>\n",
              "      <td>1</td>\n",
              "      <td>-0.408997</td>\n",
              "      <td>0.678681</td>\n",
              "      <td>-0.756366</td>\n",
              "      <td>-0.652719</td>\n",
              "      <td>0.043666</td>\n",
              "      <td>-1.179622</td>\n",
              "      <td>-0.497816</td>\n",
              "      <td>1.986499</td>\n",
              "      <td>-0.338742</td>\n",
              "      <td>-0.428664</td>\n",
              "      <td>0.037928</td>\n",
              "      <td>-0.327988</td>\n",
              "      <td>-0.109594</td>\n",
              "      <td>1</td>\n",
              "      <td>0</td>\n",
              "      <td>1</td>\n",
              "      <td>0</td>\n",
              "      <td>1</td>\n",
              "      <td>0</td>\n",
              "      <td>0</td>\n",
              "      <td>0</td>\n",
              "      <td>0</td>\n",
              "      <td>0</td>\n",
              "      <td>0</td>\n",
              "      <td>0</td>\n",
              "      <td>0</td>\n",
              "      <td>0</td>\n",
              "      <td>0</td>\n",
              "    </tr>\n",
              "    <tr>\n",
              "      <th>4</th>\n",
              "      <td>1</td>\n",
              "      <td>-0.409052</td>\n",
              "      <td>-1.291720</td>\n",
              "      <td>1.189261</td>\n",
              "      <td>-0.432744</td>\n",
              "      <td>-0.720592</td>\n",
              "      <td>-0.229151</td>\n",
              "      <td>-0.474291</td>\n",
              "      <td>0.379568</td>\n",
              "      <td>1.772105</td>\n",
              "      <td>0.075136</td>\n",
              "      <td>-0.053344</td>\n",
              "      <td>2.586801</td>\n",
              "      <td>-0.109594</td>\n",
              "      <td>0</td>\n",
              "      <td>0</td>\n",
              "      <td>0</td>\n",
              "      <td>0</td>\n",
              "      <td>0</td>\n",
              "      <td>0</td>\n",
              "      <td>1</td>\n",
              "      <td>0</td>\n",
              "      <td>0</td>\n",
              "      <td>0</td>\n",
              "      <td>0</td>\n",
              "      <td>0</td>\n",
              "      <td>0</td>\n",
              "      <td>0</td>\n",
              "      <td>0</td>\n",
              "    </tr>\n",
              "  </tbody>\n",
              "</table>\n",
              "</div>"
            ],
            "text/plain": [
              "   Loan Status  Current Loan Amount  ...  Purpose_Vacation  Purpose_Wedding\n",
              "0            1            -0.408982  ...                 0                0\n",
              "1            1            -0.408617  ...                 0                0\n",
              "2            1            -0.408871  ...                 0                0\n",
              "3            1            -0.408997  ...                 0                0\n",
              "4            1            -0.409052  ...                 0                0\n",
              "\n",
              "[5 rows x 29 columns]"
            ]
          },
          "metadata": {},
          "execution_count": 45
        }
      ]
    },
    {
      "cell_type": "code",
      "source": [
        "# Application of PCA\n",
        "\n",
        "X = loan_data.drop('Loan Status', axis=1)\n",
        "y = loan_data['Loan Status']\n",
        "\n",
        "# PCA\n",
        "pca = PCA(n_components=2)\n",
        "\n",
        "# Fit and transform\n",
        "principalComponents_pca = pca.fit_transform(X)\n",
        "\n",
        "# Print ratio of variance explained\n",
        "print(pca.explained_variance_ratio_)"
      ],
      "metadata": {
        "colab": {
          "base_uri": "https://localhost:8080/"
        },
        "id": "8rVbETpq-l2T",
        "outputId": "be64b828-19c5-4266-c011-6c45307d940c"
      },
      "execution_count": null,
      "outputs": [
        {
          "output_type": "stream",
          "name": "stdout",
          "text": [
            "[0.16540558 0.14285948]\n"
          ]
        }
      ]
    },
    {
      "cell_type": "code",
      "source": [
        "loan_data_PCA = pd.DataFrame(principalComponents_pca\n",
        "                             , columns=['PC1', 'PC2'])\n",
        "loan_data_PCA = pd.concat([loan_data_PCA, loan_data['Loan Status']], axis=1)\n",
        "\n",
        "loan_data_PCA.head()"
      ],
      "metadata": {
        "colab": {
          "base_uri": "https://localhost:8080/",
          "height": 206
        },
        "id": "m5bi9NuQEHmn",
        "outputId": "0556e016-5bed-40f4-b214-8ae456b90050"
      },
      "execution_count": null,
      "outputs": [
        {
          "output_type": "execute_result",
          "data": {
            "text/html": [
              "<div>\n",
              "<style scoped>\n",
              "    .dataframe tbody tr th:only-of-type {\n",
              "        vertical-align: middle;\n",
              "    }\n",
              "\n",
              "    .dataframe tbody tr th {\n",
              "        vertical-align: top;\n",
              "    }\n",
              "\n",
              "    .dataframe thead th {\n",
              "        text-align: right;\n",
              "    }\n",
              "</style>\n",
              "<table border=\"1\" class=\"dataframe\">\n",
              "  <thead>\n",
              "    <tr style=\"text-align: right;\">\n",
              "      <th></th>\n",
              "      <th>PC1</th>\n",
              "      <th>PC2</th>\n",
              "      <th>Loan Status</th>\n",
              "    </tr>\n",
              "  </thead>\n",
              "  <tbody>\n",
              "    <tr>\n",
              "      <th>0</th>\n",
              "      <td>-0.454826</td>\n",
              "      <td>-0.883716</td>\n",
              "      <td>1</td>\n",
              "    </tr>\n",
              "    <tr>\n",
              "      <th>1</th>\n",
              "      <td>1.424450</td>\n",
              "      <td>0.154355</td>\n",
              "      <td>1</td>\n",
              "    </tr>\n",
              "    <tr>\n",
              "      <th>2</th>\n",
              "      <td>-0.900649</td>\n",
              "      <td>2.458196</td>\n",
              "      <td>1</td>\n",
              "    </tr>\n",
              "    <tr>\n",
              "      <th>3</th>\n",
              "      <td>0.007966</td>\n",
              "      <td>-0.726680</td>\n",
              "      <td>1</td>\n",
              "    </tr>\n",
              "    <tr>\n",
              "      <th>4</th>\n",
              "      <td>-1.163721</td>\n",
              "      <td>2.416636</td>\n",
              "      <td>1</td>\n",
              "    </tr>\n",
              "  </tbody>\n",
              "</table>\n",
              "</div>"
            ],
            "text/plain": [
              "        PC1       PC2  Loan Status\n",
              "0 -0.454826 -0.883716            1\n",
              "1  1.424450  0.154355            1\n",
              "2 -0.900649  2.458196            1\n",
              "3  0.007966 -0.726680            1\n",
              "4 -1.163721  2.416636            1"
            ]
          },
          "metadata": {},
          "execution_count": 47
        }
      ]
    },
    {
      "cell_type": "code",
      "source": [
        "# SVD\n",
        "svd = TruncatedSVD(n_components=2)\n",
        "\n",
        "# Fit and transform\n",
        "principalComponents_svd = svd.fit_transform(X)\n",
        "# Print ratio of variance explained\n",
        "print(svd.explained_variance_ratio_)"
      ],
      "metadata": {
        "colab": {
          "base_uri": "https://localhost:8080/"
        },
        "id": "sYAeaqcL35l1",
        "outputId": "f9eb7256-7442-4234-e4b6-8cc7d58603fe"
      },
      "execution_count": null,
      "outputs": [
        {
          "output_type": "stream",
          "name": "stdout",
          "text": [
            "[0.16427164 0.14223288]\n"
          ]
        }
      ]
    },
    {
      "cell_type": "code",
      "source": [
        "loan_data_SVD = pd.DataFrame(principalComponents_svd,\n",
        "                              columns=['PC1', 'PC2'])\n",
        "loan_data_SVD = pd.concat([loan_data_SVD, loan_data['Loan Status']], axis=1)\n",
        "\n",
        "loan_data_SVD.head()"
      ],
      "metadata": {
        "colab": {
          "base_uri": "https://localhost:8080/",
          "height": 206
        },
        "id": "oJTFiifm9fO6",
        "outputId": "ce7f621f-11b4-4bbf-add1-764bca71d900"
      },
      "execution_count": null,
      "outputs": [
        {
          "output_type": "execute_result",
          "data": {
            "text/html": [
              "<div>\n",
              "<style scoped>\n",
              "    .dataframe tbody tr th:only-of-type {\n",
              "        vertical-align: middle;\n",
              "    }\n",
              "\n",
              "    .dataframe tbody tr th {\n",
              "        vertical-align: top;\n",
              "    }\n",
              "\n",
              "    .dataframe thead th {\n",
              "        text-align: right;\n",
              "    }\n",
              "</style>\n",
              "<table border=\"1\" class=\"dataframe\">\n",
              "  <thead>\n",
              "    <tr style=\"text-align: right;\">\n",
              "      <th></th>\n",
              "      <th>PC1</th>\n",
              "      <th>PC2</th>\n",
              "      <th>Loan Status</th>\n",
              "    </tr>\n",
              "  </thead>\n",
              "  <tbody>\n",
              "    <tr>\n",
              "      <th>0</th>\n",
              "      <td>-0.660412</td>\n",
              "      <td>-1.014127</td>\n",
              "      <td>1</td>\n",
              "    </tr>\n",
              "    <tr>\n",
              "      <th>1</th>\n",
              "      <td>1.303309</td>\n",
              "      <td>0.051004</td>\n",
              "      <td>1</td>\n",
              "    </tr>\n",
              "    <tr>\n",
              "      <th>2</th>\n",
              "      <td>-0.979330</td>\n",
              "      <td>2.396542</td>\n",
              "      <td>1</td>\n",
              "    </tr>\n",
              "    <tr>\n",
              "      <th>3</th>\n",
              "      <td>-0.204833</td>\n",
              "      <td>-0.873184</td>\n",
              "      <td>1</td>\n",
              "    </tr>\n",
              "    <tr>\n",
              "      <th>4</th>\n",
              "      <td>-1.175143</td>\n",
              "      <td>2.416839</td>\n",
              "      <td>1</td>\n",
              "    </tr>\n",
              "  </tbody>\n",
              "</table>\n",
              "</div>"
            ],
            "text/plain": [
              "        PC1       PC2  Loan Status\n",
              "0 -0.660412 -1.014127            1\n",
              "1  1.303309  0.051004            1\n",
              "2 -0.979330  2.396542            1\n",
              "3 -0.204833 -0.873184            1\n",
              "4 -1.175143  2.416839            1"
            ]
          },
          "metadata": {},
          "execution_count": 49
        }
      ]
    },
    {
      "cell_type": "code",
      "source": [
        "ax = plt.axes()\n",
        "targets = [0, 1]\n",
        "colors = ['r', 'b']\n",
        "\n",
        "# For loop to create plot\n",
        "for target, color in zip(targets,colors):\n",
        "    indicesToKeep = loan_data_PCA['Loan Status'] == target\n",
        "    ax.scatter(loan_data_PCA.loc[indicesToKeep, 'PC1']\n",
        "               , loan_data_PCA.loc[indicesToKeep, 'PC2']\n",
        "               , c = color\n",
        "               , s = 50)\n",
        "\n",
        "# Legend    \n",
        "ax.legend(targets)\n",
        "ax.set_xlabel('PC1')\n",
        "ax.set_ylabel('PC2')\n",
        "ax.set_title('PCA')\n",
        "ax.grid()\n",
        "plt.show()"
      ],
      "metadata": {
        "colab": {
          "base_uri": "https://localhost:8080/",
          "height": 295
        },
        "id": "DIekOQ5q_TBp",
        "outputId": "c017a1d5-c5b5-4196-e2d0-70f3fca36110"
      },
      "execution_count": null,
      "outputs": [
        {
          "output_type": "display_data",
          "data": {
            "image/png": "[encoded data removed]",
            "text/plain": [
              "<Figure size 432x288 with 1 Axes>"
            ]
          },
          "metadata": {
            "needs_background": "light"
          }
        }
      ]
    },
    {
      "cell_type": "code",
      "source": [
        "ax = plt.axes()\n",
        "targets = [0, 1]\n",
        "colors = ['r', 'b']\n",
        "\n",
        "# For loop to create plot\n",
        "for target, color in zip(targets,colors):\n",
        "    indicesToKeep = loan_data_SVD['Loan Status'] == target\n",
        "    ax.scatter(loan_data_SVD.loc[indicesToKeep, 'PC1']\n",
        "               , loan_data_SVD.loc[indicesToKeep, 'PC2']\n",
        "               , c = color\n",
        "               , s = 50)\n",
        "\n",
        "# Legend    \n",
        "ax.legend(targets)\n",
        "ax.set_xlabel('PC1')\n",
        "ax.set_ylabel('PC2')\n",
        "ax.set_title('SVD')\n",
        "ax.grid()\n",
        "plt.show()"
      ],
      "metadata": {
        "colab": {
          "base_uri": "https://localhost:8080/",
          "height": 295
        },
        "id": "8Iz1wDUX96-s",
        "outputId": "0e3c6800-4577-4153-a459-ffa39f204a17"
      },
      "execution_count": null,
      "outputs": [
        {
          "output_type": "display_data",
          "data": {
            "image/png": "[encoded data removed]",
            "text/plain": [
              "<Figure size 432x288 with 1 Axes>"
            ]
          },
          "metadata": {
            "needs_background": "light"
          }
        }
      ]
    },
    {
      "cell_type": "markdown",
      "source": [
        "# Visualization PCs with a scree plot\n",
        "\n",
        "What is the optimum number of features to keep? In this exercise you'll create a scree plot and a cumulative explained variance ratio plot of the principal components using PCA on loan_data. This will help inform the optimal number of PCs for training a more accurate ML model going forward.\n",
        "\n",
        "Since PCA is an unsupervised method, that means principal component analysis is performed on the X matrix having removed the target variable Loan Status from the dataset. Not setting n_components returns all the principal components from the trained model."
      ],
      "metadata": {
        "id": "LxNfVflGIJfq"
      }
    },
    {
      "cell_type": "code",
      "source": [
        "# Remove target variable\n",
        "X = loan_data.drop('Loan Status', axis=1)\n",
        "\n",
        "# Instantiate\n",
        "pca = PCA(n_components=10)\n",
        "\n",
        "# Fit and transform\n",
        "principalComponents = pca.fit_transform(X)"
      ],
      "metadata": {
        "id": "GJsBjs9DKFqa"
      },
      "execution_count": null,
      "outputs": []
    },
    {
      "cell_type": "code",
      "source": [
        "# List principal components names\n",
        "principal_components = ['PC1','PC2','PC3','PC4','PC5','PC6','PC7','PC8','PC9','PC10']\n",
        "\n",
        "# Create a DataFrame\n",
        "pca_df = pd.DataFrame({'Variance Explained': pca.explained_variance_ratio_,\n",
        "             'PC':principal_components})\n",
        "\n",
        "# Plot DataFrame\n",
        "sns.barplot(x='PC',y='Variance Explained', \n",
        "           data=pca_df, color=\"c\")\n",
        "plt.show()"
      ],
      "metadata": {
        "colab": {
          "base_uri": "https://localhost:8080/",
          "height": 279
        },
        "id": "IoMZrv4_KFnQ",
        "outputId": "f65a58ff-66a1-4ea5-e70e-b56ffc6f0e9d"
      },
      "execution_count": null,
      "outputs": [
        {
          "output_type": "display_data",
          "data": {
            "image/png": "[encoded data removed]",
            "text/plain": [
              "<Figure size 432x288 with 1 Axes>"
            ]
          },
          "metadata": {
            "needs_background": "light"
          }
        }
      ]
    },
    {
      "cell_type": "markdown",
      "source": [
        "Instantiate, fit and transform a PCA object not setting n_components. Print the variance explained ratio."
      ],
      "metadata": {
        "id": "JVYwpH4oKFkq"
      }
    },
    {
      "cell_type": "code",
      "source": [
        "# Instantiate, fit and transform\n",
        "pca2 = PCA()\n",
        "principalComponents2 = pca2.fit_transform(X)\n",
        "\n",
        "# Assign variance explained\n",
        "var = pca2.explained_variance_ratio_"
      ],
      "metadata": {
        "id": "P6xSwtQMKFh_"
      },
      "execution_count": null,
      "outputs": []
    },
    {
      "cell_type": "code",
      "source": [
        "# Plot cumulative variance\n",
        "cumulative_var = np.cumsum(var)*100\n",
        "plt.plot(cumulative_var,'k-o',markerfacecolor='None',markeredgecolor='k')\n",
        "plt.title('Principal Component Analysis',fontsize=12)\n",
        "plt.xlabel(\"Principal Component\",fontsize=12)\n",
        "plt.ylabel(\"Cumulative Proportion of Variance Explained\",fontsize=12)\n",
        "plt.show()"
      ],
      "metadata": {
        "colab": {
          "base_uri": "https://localhost:8080/",
          "height": 308
        },
        "id": "oAWkfMDZOYbM",
        "outputId": "122b69a7-2697-43aa-8cd7-a50f07636e56"
      },
      "execution_count": null,
      "outputs": [
        {
          "output_type": "display_data",
          "data": {
            "image/png": "[encoded data removed]",
            "text/plain": [
              "<Figure size 432x288 with 1 Axes>"
            ]
          },
          "metadata": {
            "needs_background": "light"
          }
        }
      ]
    },
    {
      "cell_type": "code",
      "source": [
        "loan_data.shape"
      ],
      "metadata": {
        "colab": {
          "base_uri": "https://localhost:8080/"
        },
        "id": "CypmNdL6KFfY",
        "outputId": "ac0cb9fd-97c8-4576-e6c5-979bde0c794b"
      },
      "execution_count": null,
      "outputs": [
        {
          "output_type": "execute_result",
          "data": {
            "text/plain": [
              "(88910, 29)"
            ]
          },
          "metadata": {},
          "execution_count": 61
        }
      ]
    }
  ]
}
